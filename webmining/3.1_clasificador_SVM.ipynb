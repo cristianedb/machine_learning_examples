{
 "cells": [
  {
   "cell_type": "markdown",
   "id": "Rdq4fee02nc2",
   "metadata": {
    "id": "Rdq4fee02nc2"
   },
   "source": [
    "# Grupo 15\n",
    "\n",
    "* De Blasis, Cristian\n",
    "* Gudiño, Gabriel\n",
    "* Milich-Tear, Guillermo\n",
    "* Veiga, Cristian\n",
    "\n",
    "## Modelo SVM - Dataset vector promedio\n",
    "\n",
    "La carga, separacion Train-Test y normalizacion del dataset se realizará de la misma manera que en el notebook **3_clasificador_pycaret.ipynb**"
   ]
  },
  {
   "cell_type": "code",
   "execution_count": null,
   "id": "84395ed8-3d49-4a9d-a083-65282b11b879",
   "metadata": {
    "id": "84395ed8-3d49-4a9d-a083-65282b11b879"
   },
   "outputs": [],
   "source": [
    "import pandas as pd\n",
    "import pycaret\n",
    "from sklearn.metrics import roc_auc_score\n",
    "from pycaret.classification import *\n",
    "import joblib\n",
    "from sklearn import model_selection\n",
    "\n",
    "import locale\n",
    "locale.setlocale(locale.LC_ALL,'es_ES.UTF-8')\n",
    "from datetime import datetime as dt\n",
    "\n",
    "\n",
    "#Configuracion pandas\n",
    "pd.set_option('display.max_columns', None)\n",
    "pd.set_option('display.max_row', None)\n",
    "pd.set_option('display.width', 2000)\n",
    "pd.set_option('display.float_format', '{:20,.2f}'.format)\n",
    "pd.set_option('display.max_colwidth', None)"
   ]
  },
  {
   "cell_type": "markdown",
   "id": "5293cab9",
   "metadata": {
    "id": "5293cab9"
   },
   "source": [
    "# Prepara dataset para entrenamiento -  VECTOR PROMEDIO"
   ]
  },
  {
   "cell_type": "markdown",
   "id": "wURkWw-w5VdO",
   "metadata": {
    "id": "wURkWw-w5VdO"
   },
   "source": [
    "El archivo se puede descargar en https://drive.google.com/file/d/1K3pkC2p0Ah-bH8GPlCAoFqriH3emgxBG/view?usp=sharing"
   ]
  },
  {
   "cell_type": "code",
   "execution_count": null,
   "id": "8ad69571",
   "metadata": {
    "id": "8ad69571"
   },
   "outputs": [],
   "source": [
    "df=joblib.load('./datasets/2_VECTOR_PROM')"
   ]
  },
  {
   "cell_type": "code",
   "execution_count": null,
   "id": "83fbd53d",
   "metadata": {
    "id": "83fbd53d"
   },
   "outputs": [],
   "source": [
    "data=pd.DataFrame(df['vector_promedio'].to_list())\n",
    "data['label']=df['topico'].values\n",
    "data['fecha']=df['fecha'].values\n",
    "\n",
    "# Se le especifica el tipo a las columnas\n",
    "data['label']=data['label'].astype('category')\n",
    "data['fecha']=data['fecha'].map(lambda s:dt.strptime(s, '%d de %B de %Y - %H:%M'))"
   ]
  },
  {
   "cell_type": "markdown",
   "id": "afcd70e9",
   "metadata": {
    "id": "afcd70e9"
   },
   "source": [
    "## Train-Test separados por fechas"
   ]
  },
  {
   "cell_type": "code",
   "execution_count": null,
   "id": "7159992b",
   "metadata": {
    "id": "7159992b"
   },
   "outputs": [],
   "source": [
    "data=data.sort_values(by='fecha')\n",
    "data.reset_index(drop=True,inplace=True)"
   ]
  },
  {
   "cell_type": "code",
   "execution_count": null,
   "id": "89593f46",
   "metadata": {
    "id": "89593f46"
   },
   "outputs": [],
   "source": [
    "train_test_frac=0.8\n",
    "rows=round(data.shape[0]*train_test_frac)\n",
    "fecha_corte=data.loc[rows,'fecha']\n",
    "\n",
    "train_date=data[data['fecha']<=fecha_corte].reset_index(drop=True)\n",
    "test_date=data[data['fecha']>fecha_corte].reset_index(drop=True)"
   ]
  },
  {
   "cell_type": "code",
   "execution_count": null,
   "id": "542aa471",
   "metadata": {
    "id": "542aa471",
    "outputId": "baae9f5a-80ef-4713-f929-0f7a97700bdf"
   },
   "outputs": [
    {
     "name": "stdout",
     "output_type": "stream",
     "text": [
      "FECHAS TRAIN:2018-03-08 01:59:00-2021-11-30 00:48:00\n",
      "FECHAS TEST:2021-11-30 02:40:00-2022-08-31 11:04:00\n"
     ]
    }
   ],
   "source": [
    "print('FECHAS TRAIN:'+str(train_date['fecha'].min())+ '-'+str(train_date['fecha'].max()))\n",
    "print('FECHAS TEST:'+str(test_date['fecha'].min())+ '-'+str(test_date['fecha'].max()))"
   ]
  },
  {
   "cell_type": "code",
   "execution_count": null,
   "id": "ba6231d6",
   "metadata": {
    "id": "ba6231d6"
   },
   "outputs": [],
   "source": [
    "# data.loc[:,['fecha','label']]"
   ]
  },
  {
   "cell_type": "code",
   "execution_count": null,
   "id": "c4a86ab3",
   "metadata": {
    "id": "c4a86ab3",
    "outputId": "a1b7c3b4-a57d-43a7-9133-8b9da77c8a52"
   },
   "outputs": [
    {
     "data": {
      "text/plain": [
       "27639"
      ]
     },
     "execution_count": 8,
     "metadata": {},
     "output_type": "execute_result"
    }
   ],
   "source": [
    "rows"
   ]
  },
  {
   "cell_type": "markdown",
   "id": "0c1ae4b3",
   "metadata": {
    "id": "0c1ae4b3"
   },
   "source": [
    "### Registros por etiquetas en train"
   ]
  },
  {
   "cell_type": "code",
   "execution_count": null,
   "id": "9e386cc8",
   "metadata": {
    "id": "9e386cc8",
    "outputId": "ef17d398-6584-433a-ebe8-decc0a29c0db"
   },
   "outputs": [
    {
     "data": {
      "text/plain": [
       "el-pais     8537\n",
       "sociedad    8083\n",
       "economia    5906\n",
       "el-mundo    5117\n",
       "Name: label, dtype: int64"
      ]
     },
     "execution_count": 9,
     "metadata": {},
     "output_type": "execute_result"
    }
   ],
   "source": [
    "train_date['label'].value_counts()"
   ]
  },
  {
   "cell_type": "markdown",
   "id": "11b35e0d",
   "metadata": {
    "id": "11b35e0d"
   },
   "source": [
    "### Registros por etiquetas en test"
   ]
  },
  {
   "cell_type": "code",
   "execution_count": null,
   "id": "1b01a7bb",
   "metadata": {
    "id": "1b01a7bb",
    "outputId": "1a227cf5-93e3-4c8c-ac9a-8704e7265404"
   },
   "outputs": [
    {
     "data": {
      "text/plain": [
       "sociedad    2400\n",
       "el-pais     2145\n",
       "economia    1354\n",
       "el-mundo    1007\n",
       "Name: label, dtype: int64"
      ]
     },
     "execution_count": 10,
     "metadata": {},
     "output_type": "execute_result"
    }
   ],
   "source": [
    "test_date['label'].value_counts()"
   ]
  },
  {
   "cell_type": "markdown",
   "id": "182fe931",
   "metadata": {
    "id": "182fe931"
   },
   "source": [
    "## Train-Test mezclados"
   ]
  },
  {
   "cell_type": "code",
   "execution_count": null,
   "id": "27ca7c63",
   "metadata": {
    "id": "27ca7c63"
   },
   "outputs": [],
   "source": [
    "train_shuffle, test_shuffle = model_selection.train_test_split(data, test_size=0.2,stratify=data['label'],random_state=2016,shuffle=True)"
   ]
  },
  {
   "cell_type": "code",
   "execution_count": null,
   "id": "e73b71af",
   "metadata": {
    "id": "e73b71af",
    "outputId": "9a34ff2d-4204-45f6-c107-dcb64a988c31"
   },
   "outputs": [
    {
     "name": "stdout",
     "output_type": "stream",
     "text": [
      "FECHAS TRAIN:2018-03-08 01:59:00-2022-08-31 11:04:00\n",
      "FECHAS TEST:2018-03-10 01:11:00-2022-08-31 07:23:00\n"
     ]
    }
   ],
   "source": [
    "print('FECHAS TRAIN:'+str(train_shuffle['fecha'].min())+ '-'+str(train_shuffle['fecha'].max()))\n",
    "print('FECHAS TEST:'+str(test_shuffle['fecha'].min())+ '-'+str(test_shuffle['fecha'].max()))"
   ]
  },
  {
   "cell_type": "code",
   "execution_count": null,
   "id": "17193af3",
   "metadata": {
    "id": "17193af3",
    "outputId": "4db5bd7c-633f-4399-bad9-6ac678607cfd"
   },
   "outputs": [
    {
     "data": {
      "text/plain": [
       "el-pais     8546\n",
       "sociedad    8386\n",
       "economia    5808\n",
       "el-mundo    4899\n",
       "Name: label, dtype: int64"
      ]
     },
     "execution_count": 13,
     "metadata": {},
     "output_type": "execute_result"
    }
   ],
   "source": [
    "train_shuffle['label'].value_counts()"
   ]
  },
  {
   "cell_type": "code",
   "execution_count": null,
   "id": "0780683b",
   "metadata": {
    "id": "0780683b",
    "outputId": "e73780d2-9a6a-488a-f9e4-576a8e07309d"
   },
   "outputs": [
    {
     "data": {
      "text/plain": [
       "el-pais     2136\n",
       "sociedad    2097\n",
       "economia    1452\n",
       "el-mundo    1225\n",
       "Name: label, dtype: int64"
      ]
     },
     "execution_count": 14,
     "metadata": {},
     "output_type": "execute_result"
    }
   ],
   "source": [
    "test_shuffle['label'].value_counts()"
   ]
  },
  {
   "cell_type": "markdown",
   "id": "fa74b60d",
   "metadata": {
    "id": "fa74b60d"
   },
   "source": [
    "**Se deben revisar las proporciones**"
   ]
  },
  {
   "cell_type": "markdown",
   "id": "8500c2c2",
   "metadata": {
    "id": "8500c2c2"
   },
   "source": [
    "## Normalización de cantidad de registros por secciones"
   ]
  },
  {
   "cell_type": "code",
   "execution_count": null,
   "id": "585e7de5",
   "metadata": {
    "id": "585e7de5"
   },
   "outputs": [],
   "source": [
    "secciones=['economia','sociedad','el-mundo','el-pais']\n",
    "train_date_norm=pd.DataFrame([],columns=train_date.columns)\n",
    "test_date_norm=pd.DataFrame([],columns=train_date.columns)\n",
    "\n",
    "train_shuffle_norm=pd.DataFrame([],columns=train_shuffle.columns)\n",
    "test_shuffle_norm=pd.DataFrame([],columns=train_shuffle.columns)\n",
    "\n",
    "\n",
    "for seccion in secciones:\n",
    "    train_min=min(sum(train_date['label']==seccion),sum(train_shuffle['label']==seccion))\n",
    "    test_min=min(sum(test_date['label']==seccion),sum(test_shuffle['label']==seccion))\n",
    "    \n",
    "    train_date_norm=pd.concat([train_date_norm,train_date[train_date['label']==seccion].sample(train_min)],axis=0)\n",
    "    train_shuffle_norm=pd.concat([train_shuffle_norm,train_shuffle[train_shuffle['label']==seccion].sample(train_min)],axis=0)\n",
    "    \n",
    "    test_date_norm=pd.concat([test_date_norm,test_date[test_date['label']==seccion].sample(test_min)],axis=0)\n",
    "    test_shuffle_norm=pd.concat([test_shuffle_norm,test_shuffle[test_shuffle['label']==seccion].sample(test_min)],axis=0)    "
   ]
  },
  {
   "cell_type": "markdown",
   "id": "43eb3ea0",
   "metadata": {
    "id": "43eb3ea0"
   },
   "source": [
    "## Verifiacion dataset normalizados"
   ]
  },
  {
   "cell_type": "markdown",
   "id": "9a42f9ae",
   "metadata": {
    "id": "9a42f9ae"
   },
   "source": [
    "### Separados cronologicamente"
   ]
  },
  {
   "cell_type": "code",
   "execution_count": null,
   "id": "b3b80519",
   "metadata": {
    "id": "b3b80519",
    "outputId": "0a94cc0f-b79f-4cae-97a2-fa458164eae8"
   },
   "outputs": [
    {
     "name": "stdout",
     "output_type": "stream",
     "text": [
      "FECHAS TRAIN:2018-03-08 01:59:00-2021-11-30 00:48:00\n",
      "FECHAS TEST:2021-11-30 02:40:00-2022-08-31 11:04:00\n"
     ]
    }
   ],
   "source": [
    "print('FECHAS TRAIN:'+str(train_date_norm['fecha'].min())+ '-'+str(train_date_norm['fecha'].max()))\n",
    "print('FECHAS TEST:'+str(test_date_norm['fecha'].min())+ '-'+str(test_date_norm['fecha'].max()))"
   ]
  },
  {
   "cell_type": "code",
   "execution_count": null,
   "id": "19de6ecb",
   "metadata": {
    "id": "19de6ecb",
    "outputId": "6ef9191e-47ed-45cf-b13a-9328d76ae7db"
   },
   "outputs": [
    {
     "data": {
      "text/plain": [
       "el-pais     8537\n",
       "sociedad    8083\n",
       "economia    5808\n",
       "el-mundo    4899\n",
       "Name: label, dtype: int64"
      ]
     },
     "execution_count": 17,
     "metadata": {},
     "output_type": "execute_result"
    }
   ],
   "source": [
    "train_date_norm['label'].value_counts()"
   ]
  },
  {
   "cell_type": "code",
   "execution_count": null,
   "id": "b310eabc",
   "metadata": {
    "id": "b310eabc",
    "outputId": "b3f9111b-b9b6-4786-bf8f-28625bec27c9"
   },
   "outputs": [
    {
     "data": {
      "text/plain": [
       "el-pais     2136\n",
       "sociedad    2097\n",
       "economia    1354\n",
       "el-mundo    1007\n",
       "Name: label, dtype: int64"
      ]
     },
     "execution_count": 18,
     "metadata": {},
     "output_type": "execute_result"
    }
   ],
   "source": [
    "test_date_norm['label'].value_counts()"
   ]
  },
  {
   "cell_type": "markdown",
   "id": "eda56d63",
   "metadata": {
    "id": "eda56d63"
   },
   "source": [
    "### Separados al azar"
   ]
  },
  {
   "cell_type": "code",
   "execution_count": null,
   "id": "5ebc5605",
   "metadata": {
    "id": "5ebc5605",
    "outputId": "8c70f8f9-e2fa-4bb3-d3b7-8db9a1a7cbd1"
   },
   "outputs": [
    {
     "name": "stdout",
     "output_type": "stream",
     "text": [
      "FECHAS TRAIN:2018-03-08 01:59:00-2022-08-31 11:04:00\n",
      "FECHAS TEST:2018-03-10 01:11:00-2022-08-31 07:23:00\n"
     ]
    }
   ],
   "source": [
    "print('FECHAS TRAIN:'+str(train_shuffle_norm['fecha'].min())+ '-'+str(train_shuffle_norm['fecha'].max()))\n",
    "print('FECHAS TEST:'+str(test_shuffle_norm['fecha'].min())+ '-'+str(test_shuffle_norm['fecha'].max()))"
   ]
  },
  {
   "cell_type": "code",
   "execution_count": null,
   "id": "60206178",
   "metadata": {
    "id": "60206178",
    "outputId": "a00b71b7-4771-4ec7-c27c-7df90809e934"
   },
   "outputs": [
    {
     "data": {
      "text/plain": [
       "el-pais     8537\n",
       "sociedad    8083\n",
       "economia    5808\n",
       "el-mundo    4899\n",
       "Name: label, dtype: int64"
      ]
     },
     "execution_count": 20,
     "metadata": {},
     "output_type": "execute_result"
    }
   ],
   "source": [
    "train_shuffle_norm['label'].value_counts()"
   ]
  },
  {
   "cell_type": "code",
   "execution_count": null,
   "id": "eef35645",
   "metadata": {
    "id": "eef35645",
    "outputId": "f0100f94-5f36-4601-ad9f-8705aced5ef1"
   },
   "outputs": [
    {
     "data": {
      "text/plain": [
       "el-pais     2136\n",
       "sociedad    2097\n",
       "economia    1354\n",
       "el-mundo    1007\n",
       "Name: label, dtype: int64"
      ]
     },
     "execution_count": 21,
     "metadata": {},
     "output_type": "execute_result"
    }
   ],
   "source": [
    "test_shuffle_norm['label'].value_counts()"
   ]
  },
  {
   "cell_type": "markdown",
   "id": "4997301a",
   "metadata": {
    "id": "4997301a"
   },
   "source": [
    "# Dataset ordenado por Fecha (Solo SVM)"
   ]
  },
  {
   "cell_type": "code",
   "execution_count": null,
   "id": "96049368",
   "metadata": {
    "id": "96049368"
   },
   "outputs": [],
   "source": [
    "from sklearn.svm import SVC\n",
    "from sklearn.metrics import roc_curve\n",
    "import matplotlib.pyplot as plt\n",
    "from sklearn.model_selection import KFold"
   ]
  },
  {
   "cell_type": "code",
   "execution_count": null,
   "id": "94d66f13",
   "metadata": {
    "id": "94d66f13"
   },
   "outputs": [],
   "source": [
    "from sklearn import preprocessing\n",
    "from sklearn.model_selection import cross_val_score, GridSearchCV\n",
    "encoder = preprocessing.LabelEncoder()"
   ]
  },
  {
   "cell_type": "code",
   "execution_count": null,
   "id": "f02345f8",
   "metadata": {
    "id": "f02345f8",
    "outputId": "1cdbb460-8648-46eb-e2e1-44a4cbdf2626"
   },
   "outputs": [
    {
     "data": {
      "text/html": [
       "<div>\n",
       "<style scoped>\n",
       "    .dataframe tbody tr th:only-of-type {\n",
       "        vertical-align: middle;\n",
       "    }\n",
       "\n",
       "    .dataframe tbody tr th {\n",
       "        vertical-align: top;\n",
       "    }\n",
       "\n",
       "    .dataframe thead th {\n",
       "        text-align: right;\n",
       "    }\n",
       "</style>\n",
       "<table border=\"1\" class=\"dataframe\">\n",
       "  <thead>\n",
       "    <tr style=\"text-align: right;\">\n",
       "      <th></th>\n",
       "      <th>label_num</th>\n",
       "      <th>label</th>\n",
       "    </tr>\n",
       "  </thead>\n",
       "  <tbody>\n",
       "    <tr>\n",
       "      <th>0</th>\n",
       "      <td>0</td>\n",
       "      <td>economia</td>\n",
       "    </tr>\n",
       "    <tr>\n",
       "      <th>1</th>\n",
       "      <td>1</td>\n",
       "      <td>el-mundo</td>\n",
       "    </tr>\n",
       "    <tr>\n",
       "      <th>3165</th>\n",
       "      <td>3</td>\n",
       "      <td>sociedad</td>\n",
       "    </tr>\n",
       "    <tr>\n",
       "      <th>5858</th>\n",
       "      <td>2</td>\n",
       "      <td>el-pais</td>\n",
       "    </tr>\n",
       "  </tbody>\n",
       "</table>\n",
       "</div>"
      ],
      "text/plain": [
       "      label_num     label\n",
       "0             0  economia\n",
       "1             1  el-mundo\n",
       "3165          3  sociedad\n",
       "5858          2   el-pais"
      ]
     },
     "execution_count": 24,
     "metadata": {},
     "output_type": "execute_result"
    }
   ],
   "source": [
    "# Se transforma a numerica las clases\n",
    "train_date['label_num'] = encoder.fit_transform(train_date['label'].values)\n",
    "test_date['label_num'] = encoder.fit_transform(test_date['label'].values)\n",
    "\n",
    "train_date[['label_num','label']].drop_duplicates()"
   ]
  },
  {
   "cell_type": "markdown",
   "id": "eb91b381",
   "metadata": {
    "id": "eb91b381"
   },
   "source": [
    "## Busqueda de hiperparametros"
   ]
  },
  {
   "cell_type": "code",
   "execution_count": null,
   "id": "c33a55dc",
   "metadata": {
    "id": "c33a55dc"
   },
   "outputs": [],
   "source": [
    "from sklearn.metrics import fbeta_score, make_scorer"
   ]
  },
  {
   "cell_type": "code",
   "execution_count": null,
   "id": "f30a2391",
   "metadata": {
    "id": "f30a2391",
    "outputId": "04e0c68f-5dfa-4716-e570-6dab1d2f7622"
   },
   "outputs": [
    {
     "data": {
      "text/html": [
       "<style>#sk-container-id-1 {color: black;background-color: white;}#sk-container-id-1 pre{padding: 0;}#sk-container-id-1 div.sk-toggleable {background-color: white;}#sk-container-id-1 label.sk-toggleable__label {cursor: pointer;display: block;width: 100%;margin-bottom: 0;padding: 0.3em;box-sizing: border-box;text-align: center;}#sk-container-id-1 label.sk-toggleable__label-arrow:before {content: \"▸\";float: left;margin-right: 0.25em;color: #696969;}#sk-container-id-1 label.sk-toggleable__label-arrow:hover:before {color: black;}#sk-container-id-1 div.sk-estimator:hover label.sk-toggleable__label-arrow:before {color: black;}#sk-container-id-1 div.sk-toggleable__content {max-height: 0;max-width: 0;overflow: hidden;text-align: left;background-color: #f0f8ff;}#sk-container-id-1 div.sk-toggleable__content pre {margin: 0.2em;color: black;border-radius: 0.25em;background-color: #f0f8ff;}#sk-container-id-1 input.sk-toggleable__control:checked~div.sk-toggleable__content {max-height: 200px;max-width: 100%;overflow: auto;}#sk-container-id-1 input.sk-toggleable__control:checked~label.sk-toggleable__label-arrow:before {content: \"▾\";}#sk-container-id-1 div.sk-estimator input.sk-toggleable__control:checked~label.sk-toggleable__label {background-color: #d4ebff;}#sk-container-id-1 div.sk-label input.sk-toggleable__control:checked~label.sk-toggleable__label {background-color: #d4ebff;}#sk-container-id-1 input.sk-hidden--visually {border: 0;clip: rect(1px 1px 1px 1px);clip: rect(1px, 1px, 1px, 1px);height: 1px;margin: -1px;overflow: hidden;padding: 0;position: absolute;width: 1px;}#sk-container-id-1 div.sk-estimator {font-family: monospace;background-color: #f0f8ff;border: 1px dotted black;border-radius: 0.25em;box-sizing: border-box;margin-bottom: 0.5em;}#sk-container-id-1 div.sk-estimator:hover {background-color: #d4ebff;}#sk-container-id-1 div.sk-parallel-item::after {content: \"\";width: 100%;border-bottom: 1px solid gray;flex-grow: 1;}#sk-container-id-1 div.sk-label:hover label.sk-toggleable__label {background-color: #d4ebff;}#sk-container-id-1 div.sk-serial::before {content: \"\";position: absolute;border-left: 1px solid gray;box-sizing: border-box;top: 0;bottom: 0;left: 50%;z-index: 0;}#sk-container-id-1 div.sk-serial {display: flex;flex-direction: column;align-items: center;background-color: white;padding-right: 0.2em;padding-left: 0.2em;position: relative;}#sk-container-id-1 div.sk-item {position: relative;z-index: 1;}#sk-container-id-1 div.sk-parallel {display: flex;align-items: stretch;justify-content: center;background-color: white;position: relative;}#sk-container-id-1 div.sk-item::before, #sk-container-id-1 div.sk-parallel-item::before {content: \"\";position: absolute;border-left: 1px solid gray;box-sizing: border-box;top: 0;bottom: 0;left: 50%;z-index: -1;}#sk-container-id-1 div.sk-parallel-item {display: flex;flex-direction: column;z-index: 1;position: relative;background-color: white;}#sk-container-id-1 div.sk-parallel-item:first-child::after {align-self: flex-end;width: 50%;}#sk-container-id-1 div.sk-parallel-item:last-child::after {align-self: flex-start;width: 50%;}#sk-container-id-1 div.sk-parallel-item:only-child::after {width: 0;}#sk-container-id-1 div.sk-dashed-wrapped {border: 1px dashed gray;margin: 0 0.4em 0.5em 0.4em;box-sizing: border-box;padding-bottom: 0.4em;background-color: white;}#sk-container-id-1 div.sk-label label {font-family: monospace;font-weight: bold;display: inline-block;line-height: 1.2em;}#sk-container-id-1 div.sk-label-container {text-align: center;}#sk-container-id-1 div.sk-container {/* jupyter's `normalize.less` sets `[hidden] { display: none; }` but bootstrap.min.css set `[hidden] { display: none !important; }` so we also need the `!important` here to be able to override the default hidden behavior on the sphinx rendered scikit-learn.org. See: https://github.com/scikit-learn/scikit-learn/issues/21755 */display: inline-block !important;position: relative;}#sk-container-id-1 div.sk-text-repr-fallback {display: none;}</style><div id=\"sk-container-id-1\" class=\"sk-top-container\"><div class=\"sk-text-repr-fallback\"><pre>GridSearchCV(cv=3, estimator=SVC(),\n",
       "             param_grid=[{&#x27;C&#x27;: [1, 2, 5, 10, 50, 100], &#x27;kernel&#x27;: [&#x27;rbf&#x27;]},\n",
       "                         {&#x27;C&#x27;: [1, 2, 5, 10, 50, 100], &#x27;kernel&#x27;: [&#x27;linear&#x27;]}])</pre><b>In a Jupyter environment, please rerun this cell to show the HTML representation or trust the notebook. <br />On GitHub, the HTML representation is unable to render, please try loading this page with nbviewer.org.</b></div><div class=\"sk-container\" hidden><div class=\"sk-item sk-dashed-wrapped\"><div class=\"sk-label-container\"><div class=\"sk-label sk-toggleable\"><input class=\"sk-toggleable__control sk-hidden--visually\" id=\"sk-estimator-id-1\" type=\"checkbox\" ><label for=\"sk-estimator-id-1\" class=\"sk-toggleable__label sk-toggleable__label-arrow\">GridSearchCV</label><div class=\"sk-toggleable__content\"><pre>GridSearchCV(cv=3, estimator=SVC(),\n",
       "             param_grid=[{&#x27;C&#x27;: [1, 2, 5, 10, 50, 100], &#x27;kernel&#x27;: [&#x27;rbf&#x27;]},\n",
       "                         {&#x27;C&#x27;: [1, 2, 5, 10, 50, 100], &#x27;kernel&#x27;: [&#x27;linear&#x27;]}])</pre></div></div></div><div class=\"sk-parallel\"><div class=\"sk-parallel-item\"><div class=\"sk-item\"><div class=\"sk-label-container\"><div class=\"sk-label sk-toggleable\"><input class=\"sk-toggleable__control sk-hidden--visually\" id=\"sk-estimator-id-2\" type=\"checkbox\" ><label for=\"sk-estimator-id-2\" class=\"sk-toggleable__label sk-toggleable__label-arrow\">estimator: SVC</label><div class=\"sk-toggleable__content\"><pre>SVC()</pre></div></div></div><div class=\"sk-serial\"><div class=\"sk-item\"><div class=\"sk-estimator sk-toggleable\"><input class=\"sk-toggleable__control sk-hidden--visually\" id=\"sk-estimator-id-3\" type=\"checkbox\" ><label for=\"sk-estimator-id-3\" class=\"sk-toggleable__label sk-toggleable__label-arrow\">SVC</label><div class=\"sk-toggleable__content\"><pre>SVC()</pre></div></div></div></div></div></div></div></div></div></div>"
      ],
      "text/plain": [
       "GridSearchCV(cv=3, estimator=SVC(),\n",
       "             param_grid=[{'C': [1, 2, 5, 10, 50, 100], 'kernel': ['rbf']},\n",
       "                         {'C': [1, 2, 5, 10, 50, 100], 'kernel': ['linear']}])"
      ]
     },
     "execution_count": 26,
     "metadata": {},
     "output_type": "execute_result"
    }
   ],
   "source": [
    "# Debido a limitaciones computacionales se realiza la busqueda de hiperparametros con un subset del dataset\n",
    "params_grid = [{'kernel': ['rbf']   , 'C': [1,2,5,10,50,100]},\n",
    "               {'kernel': ['linear'], 'C': [1,2,5,10,50,100]}]\n",
    "\n",
    "X = train_date.drop(columns=['label','fecha','label_num']).sample(5000)\n",
    "y = train_date.iloc[X.index]['label_num']\n",
    "\n",
    "svm_model = GridSearchCV(SVC(), params_grid, cv=3)\n",
    "svm_model.fit(X.values, y.values)"
   ]
  },
  {
   "cell_type": "code",
   "execution_count": null,
   "id": "ba91fb43",
   "metadata": {
    "id": "ba91fb43",
    "outputId": "a51d5692-99a2-4617-a3de-e7b65f499e03"
   },
   "outputs": [
    {
     "name": "stdout",
     "output_type": "stream",
     "text": [
      "Los mejores parámetros son:  {'C': 5, 'kernel': 'rbf'}\n"
     ]
    }
   ],
   "source": [
    "print(\"Los mejores parámetros son: \",svm_model.best_params_)"
   ]
  },
  {
   "cell_type": "markdown",
   "id": "acc4dd3d",
   "metadata": {
    "id": "acc4dd3d"
   },
   "source": [
    "### Se entrena con todo el dataset de tranin y se seleccionan los mejores hipeparametros"
   ]
  },
  {
   "cell_type": "code",
   "execution_count": null,
   "id": "baf9ce4d",
   "metadata": {
    "id": "baf9ce4d"
   },
   "outputs": [],
   "source": [
    "import pickle"
   ]
  },
  {
   "cell_type": "code",
   "execution_count": null,
   "id": "bda7a2ed",
   "metadata": {
    "id": "bda7a2ed",
    "outputId": "d13c0b53-56f2-48ab-880a-42e0c48c19ff"
   },
   "outputs": [
    {
     "data": {
      "text/html": [
       "<style>#sk-container-id-2 {color: black;background-color: white;}#sk-container-id-2 pre{padding: 0;}#sk-container-id-2 div.sk-toggleable {background-color: white;}#sk-container-id-2 label.sk-toggleable__label {cursor: pointer;display: block;width: 100%;margin-bottom: 0;padding: 0.3em;box-sizing: border-box;text-align: center;}#sk-container-id-2 label.sk-toggleable__label-arrow:before {content: \"▸\";float: left;margin-right: 0.25em;color: #696969;}#sk-container-id-2 label.sk-toggleable__label-arrow:hover:before {color: black;}#sk-container-id-2 div.sk-estimator:hover label.sk-toggleable__label-arrow:before {color: black;}#sk-container-id-2 div.sk-toggleable__content {max-height: 0;max-width: 0;overflow: hidden;text-align: left;background-color: #f0f8ff;}#sk-container-id-2 div.sk-toggleable__content pre {margin: 0.2em;color: black;border-radius: 0.25em;background-color: #f0f8ff;}#sk-container-id-2 input.sk-toggleable__control:checked~div.sk-toggleable__content {max-height: 200px;max-width: 100%;overflow: auto;}#sk-container-id-2 input.sk-toggleable__control:checked~label.sk-toggleable__label-arrow:before {content: \"▾\";}#sk-container-id-2 div.sk-estimator input.sk-toggleable__control:checked~label.sk-toggleable__label {background-color: #d4ebff;}#sk-container-id-2 div.sk-label input.sk-toggleable__control:checked~label.sk-toggleable__label {background-color: #d4ebff;}#sk-container-id-2 input.sk-hidden--visually {border: 0;clip: rect(1px 1px 1px 1px);clip: rect(1px, 1px, 1px, 1px);height: 1px;margin: -1px;overflow: hidden;padding: 0;position: absolute;width: 1px;}#sk-container-id-2 div.sk-estimator {font-family: monospace;background-color: #f0f8ff;border: 1px dotted black;border-radius: 0.25em;box-sizing: border-box;margin-bottom: 0.5em;}#sk-container-id-2 div.sk-estimator:hover {background-color: #d4ebff;}#sk-container-id-2 div.sk-parallel-item::after {content: \"\";width: 100%;border-bottom: 1px solid gray;flex-grow: 1;}#sk-container-id-2 div.sk-label:hover label.sk-toggleable__label {background-color: #d4ebff;}#sk-container-id-2 div.sk-serial::before {content: \"\";position: absolute;border-left: 1px solid gray;box-sizing: border-box;top: 0;bottom: 0;left: 50%;z-index: 0;}#sk-container-id-2 div.sk-serial {display: flex;flex-direction: column;align-items: center;background-color: white;padding-right: 0.2em;padding-left: 0.2em;position: relative;}#sk-container-id-2 div.sk-item {position: relative;z-index: 1;}#sk-container-id-2 div.sk-parallel {display: flex;align-items: stretch;justify-content: center;background-color: white;position: relative;}#sk-container-id-2 div.sk-item::before, #sk-container-id-2 div.sk-parallel-item::before {content: \"\";position: absolute;border-left: 1px solid gray;box-sizing: border-box;top: 0;bottom: 0;left: 50%;z-index: -1;}#sk-container-id-2 div.sk-parallel-item {display: flex;flex-direction: column;z-index: 1;position: relative;background-color: white;}#sk-container-id-2 div.sk-parallel-item:first-child::after {align-self: flex-end;width: 50%;}#sk-container-id-2 div.sk-parallel-item:last-child::after {align-self: flex-start;width: 50%;}#sk-container-id-2 div.sk-parallel-item:only-child::after {width: 0;}#sk-container-id-2 div.sk-dashed-wrapped {border: 1px dashed gray;margin: 0 0.4em 0.5em 0.4em;box-sizing: border-box;padding-bottom: 0.4em;background-color: white;}#sk-container-id-2 div.sk-label label {font-family: monospace;font-weight: bold;display: inline-block;line-height: 1.2em;}#sk-container-id-2 div.sk-label-container {text-align: center;}#sk-container-id-2 div.sk-container {/* jupyter's `normalize.less` sets `[hidden] { display: none; }` but bootstrap.min.css set `[hidden] { display: none !important; }` so we also need the `!important` here to be able to override the default hidden behavior on the sphinx rendered scikit-learn.org. See: https://github.com/scikit-learn/scikit-learn/issues/21755 */display: inline-block !important;position: relative;}#sk-container-id-2 div.sk-text-repr-fallback {display: none;}</style><div id=\"sk-container-id-2\" class=\"sk-top-container\"><div class=\"sk-text-repr-fallback\"><pre>SVC(C=5, probability=True)</pre><b>In a Jupyter environment, please rerun this cell to show the HTML representation or trust the notebook. <br />On GitHub, the HTML representation is unable to render, please try loading this page with nbviewer.org.</b></div><div class=\"sk-container\" hidden><div class=\"sk-item\"><div class=\"sk-estimator sk-toggleable\"><input class=\"sk-toggleable__control sk-hidden--visually\" id=\"sk-estimator-id-4\" type=\"checkbox\" checked><label for=\"sk-estimator-id-4\" class=\"sk-toggleable__label sk-toggleable__label-arrow\">SVC</label><div class=\"sk-toggleable__content\"><pre>SVC(C=5, probability=True)</pre></div></div></div></div></div>"
      ],
      "text/plain": [
       "SVC(C=5, probability=True)"
      ]
     },
     "execution_count": 28,
     "metadata": {},
     "output_type": "execute_result"
    }
   ],
   "source": [
    "# X = train_date.drop(columns=['label','fecha','label_num']).sample(5000) # Opcion para hacerlo rápido\n",
    "# y = train_date.iloc[X.index]['label_num']\n",
    "\n",
    "X = train_date.drop(columns=['label','fecha','label_num'])\n",
    "y = train_date['label_num']\n",
    "\n",
    "final_model = SVC(kernel='rbf', C=5,probability=True)\n",
    "final_model.fit(X, y)"
   ]
  },
  {
   "cell_type": "code",
   "execution_count": null,
   "id": "5075b00d",
   "metadata": {
    "id": "5075b00d"
   },
   "outputs": [],
   "source": [
    "pickle.dump(final_model, open('svm_date_prom', 'wb'))"
   ]
  },
  {
   "cell_type": "markdown",
   "id": "448b78b6",
   "metadata": {
    "id": "448b78b6"
   },
   "source": [
    "## Prueba con dataset de *TEST*"
   ]
  },
  {
   "cell_type": "code",
   "execution_count": null,
   "id": "1cb27d77",
   "metadata": {
    "id": "1cb27d77",
    "scrolled": false
   },
   "outputs": [],
   "source": [
    "X_test = test_date.drop(columns=['label','fecha','label_num'])\n",
    "y_test = test_date['label_num']"
   ]
  },
  {
   "cell_type": "code",
   "execution_count": null,
   "id": "be87ee29",
   "metadata": {
    "id": "be87ee29"
   },
   "outputs": [],
   "source": [
    "# Predice etiqueta (selecciona la de mayor probabilidad de las 4 secciones)\n",
    "Y_pred = final_model.predict(X_test)\n",
    "Y_pred_label = list(encoder.inverse_transform(Y_pred)) # Lo vuelve a codificar con el nombre\n",
    "\n",
    "#Calcula probabilidad por seccion\n",
    "Y_prob= final_model.predict_proba(X_test)\n",
    "\n",
    "# Agrega probabilidad por seccion\n",
    "df_sol=pd.concat(\n",
    "            [test_date.reset_index(drop=True)[['label','label_num']],\n",
    "             pd.DataFrame(Y_prob,columns=['prob_economia','prob_el-mundo','prob_el-pais','prob_sociedad'])],axis=1)\n",
    "\n",
    "# Agrega etiqueta de predicciones\n",
    "df_sol=pd.concat([df_sol,pd.DataFrame(Y_pred_label,columns=['Label_ped'])],axis=1)"
   ]
  },
  {
   "cell_type": "code",
   "execution_count": null,
   "id": "646ba692",
   "metadata": {
    "id": "646ba692",
    "outputId": "39f75a87-5d55-4b98-ba17-12f4af584be8"
   },
   "outputs": [
    {
     "data": {
      "text/html": [
       "<div>\n",
       "<style scoped>\n",
       "    .dataframe tbody tr th:only-of-type {\n",
       "        vertical-align: middle;\n",
       "    }\n",
       "\n",
       "    .dataframe tbody tr th {\n",
       "        vertical-align: top;\n",
       "    }\n",
       "\n",
       "    .dataframe thead th {\n",
       "        text-align: right;\n",
       "    }\n",
       "</style>\n",
       "<table border=\"1\" class=\"dataframe\">\n",
       "  <thead>\n",
       "    <tr style=\"text-align: right;\">\n",
       "      <th></th>\n",
       "      <th>label</th>\n",
       "      <th>label_num</th>\n",
       "      <th>prob_economia</th>\n",
       "      <th>prob_el-mundo</th>\n",
       "      <th>prob_el-pais</th>\n",
       "      <th>prob_sociedad</th>\n",
       "      <th>Label_ped</th>\n",
       "    </tr>\n",
       "  </thead>\n",
       "  <tbody>\n",
       "    <tr>\n",
       "      <th>0</th>\n",
       "      <td>el-pais</td>\n",
       "      <td>2</td>\n",
       "      <td>0.02</td>\n",
       "      <td>0.00</td>\n",
       "      <td>0.97</td>\n",
       "      <td>0.00</td>\n",
       "      <td>el-pais</td>\n",
       "    </tr>\n",
       "    <tr>\n",
       "      <th>1</th>\n",
       "      <td>el-pais</td>\n",
       "      <td>2</td>\n",
       "      <td>0.13</td>\n",
       "      <td>0.00</td>\n",
       "      <td>0.87</td>\n",
       "      <td>0.01</td>\n",
       "      <td>el-pais</td>\n",
       "    </tr>\n",
       "    <tr>\n",
       "      <th>2</th>\n",
       "      <td>sociedad</td>\n",
       "      <td>3</td>\n",
       "      <td>0.00</td>\n",
       "      <td>0.00</td>\n",
       "      <td>0.01</td>\n",
       "      <td>0.99</td>\n",
       "      <td>sociedad</td>\n",
       "    </tr>\n",
       "    <tr>\n",
       "      <th>3</th>\n",
       "      <td>el-mundo</td>\n",
       "      <td>1</td>\n",
       "      <td>0.00</td>\n",
       "      <td>0.99</td>\n",
       "      <td>0.00</td>\n",
       "      <td>0.00</td>\n",
       "      <td>el-mundo</td>\n",
       "    </tr>\n",
       "    <tr>\n",
       "      <th>4</th>\n",
       "      <td>economia</td>\n",
       "      <td>0</td>\n",
       "      <td>0.92</td>\n",
       "      <td>0.01</td>\n",
       "      <td>0.04</td>\n",
       "      <td>0.04</td>\n",
       "      <td>economia</td>\n",
       "    </tr>\n",
       "  </tbody>\n",
       "</table>\n",
       "</div>"
      ],
      "text/plain": [
       "      label  label_num        prob_economia        prob_el-mundo         prob_el-pais        prob_sociedad Label_ped\n",
       "0   el-pais          2                 0.02                 0.00                 0.97                 0.00   el-pais\n",
       "1   el-pais          2                 0.13                 0.00                 0.87                 0.01   el-pais\n",
       "2  sociedad          3                 0.00                 0.00                 0.01                 0.99  sociedad\n",
       "3  el-mundo          1                 0.00                 0.99                 0.00                 0.00  el-mundo\n",
       "4  economia          0                 0.92                 0.01                 0.04                 0.04  economia"
      ]
     },
     "execution_count": 31,
     "metadata": {},
     "output_type": "execute_result"
    }
   ],
   "source": [
    "df_sol.head()"
   ]
  },
  {
   "cell_type": "code",
   "execution_count": null,
   "id": "97c4d9c4",
   "metadata": {
    "id": "97c4d9c4",
    "outputId": "2ccce9c6-c2fa-4d83-84ed-1dfde88f9c0f"
   },
   "outputs": [
    {
     "name": "stdout",
     "output_type": "stream",
     "text": [
      "AUC: economia: 0.9851881127111898\n",
      "AUC: el-mundo: 0.9834285951888231\n",
      "AUC: el-pais: 0.958818175453336\n",
      "AUC: sociedad: 0.9658337956798343\n"
     ]
    }
   ],
   "source": [
    "auc=[]\n",
    "for i,seccion in enumerate(['economia','el-mundo','el-pais','sociedad']):\n",
    "    auc.append(roc_auc_score((df_sol['label']==seccion).astype(int),df_sol['prob_'+seccion]))\n",
    "    print(\"AUC: \"+seccion+\": \"+str(auc[i]))"
   ]
  },
  {
   "cell_type": "code",
   "execution_count": null,
   "id": "358aa6bf",
   "metadata": {
    "id": "358aa6bf",
    "outputId": "99a2bc6e-4c85-410b-9108-0120fea7e697"
   },
   "outputs": [
    {
     "name": "stdout",
     "output_type": "stream",
     "text": [
      "La AUC One oVer Rest es: 0.9733171697582957\n"
     ]
    }
   ],
   "source": [
    "print(\"La AUC One oVer Rest es: \"+str(sum(auc)/4)) # En TEST"
   ]
  },
  {
   "cell_type": "code",
   "execution_count": null,
   "id": "8d1f3bba",
   "metadata": {
    "id": "8d1f3bba",
    "outputId": "9a8d3858-e343-4cc0-9ad4-0ef2bec940e1"
   },
   "outputs": [
    {
     "data": {
      "image/png": "[encoded data removed]",
      "text/plain": [
       "<Figure size 640x480 with 1 Axes>"
      ]
     },
     "metadata": {},
     "output_type": "display_data"
    }
   ],
   "source": [
    "auc=[]\n",
    "for i,seccion in enumerate(['economia','el-mundo','el-pais','sociedad']):  \n",
    "    fpr, tpr, thresholds = roc_curve((df_sol['label']==seccion).astype(int), df_sol['prob_'+seccion])\n",
    "\n",
    "    if i==0:\n",
    "        plt.plot([0,1], [0,1], linestyle='--', label='No Skill')\n",
    "    plt.plot(fpr, tpr, marker='.', label=seccion)\n",
    "\n",
    "    # axis labels\n",
    "    plt.xlabel('False Positive Rate')\n",
    "    plt.ylabel('True Positive Rate')\n",
    "    plt.legend()\n",
    "\n",
    "    # show the plot\n",
    "    plt.rcParams['figure.figsize'] = (8, 6)\n",
    "plt.show()"
   ]
  },
  {
   "cell_type": "code",
   "execution_count": null,
   "id": "35e596fa",
   "metadata": {
    "id": "35e596fa"
   },
   "outputs": [],
   "source": [
    "from sklearn.metrics import confusion_matrix\n",
    "import seaborn as sns"
   ]
  },
  {
   "cell_type": "code",
   "execution_count": null,
   "id": "2e839033",
   "metadata": {
    "id": "2e839033"
   },
   "outputs": [],
   "source": [
    "confusion = confusion_matrix(df_sol['label'], df_sol['Label_ped'])"
   ]
  },
  {
   "cell_type": "code",
   "execution_count": null,
   "id": "e9383013",
   "metadata": {
    "id": "e9383013",
    "outputId": "65a1bc48-6064-4164-85a9-5e68e9caedca"
   },
   "outputs": [
    {
     "data": {
      "text/plain": [
       "<AxesSubplot:>"
      ]
     },
     "execution_count": 37,
     "metadata": {},
     "output_type": "execute_result"
    },
    {
     "data": {
      "image/png": "[encoded data removed]",
      "text/plain": [
       "<Figure size 800x600 with 2 Axes>"
      ]
     },
     "metadata": {},
     "output_type": "display_data"
    }
   ],
   "source": [
    "cm_matrix = pd.DataFrame(data=confusion, columns=['Pred economia', 'Pred el-mundo','Pred el-pais','Pred sociedad'], \n",
    "                                 index=['Real economia', 'Real el-mundo','Real el-pais','Real sociedad'])\n",
    "sns.heatmap(cm_matrix, annot=True, fmt=\"d\", cmap='YlGnBu')"
   ]
  },
  {
   "cell_type": "code",
   "execution_count": null,
   "id": "482e710f",
   "metadata": {
    "id": "482e710f",
    "outputId": "261d45f4-c328-45ea-c724-bc3e8545f460"
   },
   "outputs": [
    {
     "name": "stdout",
     "output_type": "stream",
     "text": [
      "\n",
      "Classification Report\n",
      "\n",
      "              precision    recall  f1-score   support\n",
      "\n",
      "    economia       0.84      0.91      0.88      1354\n",
      "    el-mundo       0.83      0.89      0.86      1007\n",
      "     el-pais       0.86      0.83      0.84      2145\n",
      "    sociedad       0.89      0.84      0.87      2400\n",
      "\n",
      "    accuracy                           0.86      6906\n",
      "   macro avg       0.85      0.87      0.86      6906\n",
      "weighted avg       0.86      0.86      0.86      6906\n",
      "\n"
     ]
    }
   ],
   "source": [
    "from sklearn.metrics import classification_report\n",
    "print('\\nClassification Report\\n')\n",
    "print(classification_report(df_sol['label'], df_sol['Label_ped'], target_names=['economia', 'el-mundo', 'el-pais','sociedad']))\n",
    "# pred_lr['label'].value_counts() #Sirve para chequear las clases"
   ]
  },
  {
   "cell_type": "markdown",
   "id": "4c757fe1",
   "metadata": {
    "id": "4c757fe1"
   },
   "source": [
    "# Con el dataset desordenado"
   ]
  },
  {
   "cell_type": "code",
   "execution_count": null,
   "id": "da744d53-3f45-4fe7-b372-2342e9cd5d0b",
   "metadata": {
    "id": "da744d53-3f45-4fe7-b372-2342e9cd5d0b",
    "outputId": "2f61428e-b0da-4ef4-b12c-b8c629373a98"
   },
   "outputs": [
    {
     "data": {
      "text/html": [
       "<div>\n",
       "<style scoped>\n",
       "    .dataframe tbody tr th:only-of-type {\n",
       "        vertical-align: middle;\n",
       "    }\n",
       "\n",
       "    .dataframe tbody tr th {\n",
       "        vertical-align: top;\n",
       "    }\n",
       "\n",
       "    .dataframe thead th {\n",
       "        text-align: right;\n",
       "    }\n",
       "</style>\n",
       "<table border=\"1\" class=\"dataframe\">\n",
       "  <thead>\n",
       "    <tr style=\"text-align: right;\">\n",
       "      <th></th>\n",
       "      <th>label_num</th>\n",
       "      <th>label</th>\n",
       "    </tr>\n",
       "  </thead>\n",
       "  <tbody>\n",
       "    <tr>\n",
       "      <th>16963</th>\n",
       "      <td>3</td>\n",
       "      <td>sociedad</td>\n",
       "    </tr>\n",
       "    <tr>\n",
       "      <th>20660</th>\n",
       "      <td>2</td>\n",
       "      <td>el-pais</td>\n",
       "    </tr>\n",
       "    <tr>\n",
       "      <th>5572</th>\n",
       "      <td>0</td>\n",
       "      <td>economia</td>\n",
       "    </tr>\n",
       "    <tr>\n",
       "      <th>13165</th>\n",
       "      <td>1</td>\n",
       "      <td>el-mundo</td>\n",
       "    </tr>\n",
       "  </tbody>\n",
       "</table>\n",
       "</div>"
      ],
      "text/plain": [
       "       label_num     label\n",
       "16963          3  sociedad\n",
       "20660          2   el-pais\n",
       "5572           0  economia\n",
       "13165          1  el-mundo"
      ]
     },
     "execution_count": 39,
     "metadata": {},
     "output_type": "execute_result"
    }
   ],
   "source": [
    "# Se transforma a numerica las clases\n",
    "train_shuffle['label_num'] = encoder.fit_transform(train_shuffle['label'].values)\n",
    "test_shuffle['label_num'] = encoder.fit_transform(test_shuffle['label'].values)\n",
    "\n",
    "train_shuffle[['label_num','label']].drop_duplicates()"
   ]
  },
  {
   "cell_type": "markdown",
   "id": "381f3d4d",
   "metadata": {
    "id": "381f3d4d"
   },
   "source": [
    "# Entrenamiento del modelo"
   ]
  },
  {
   "cell_type": "code",
   "execution_count": null,
   "id": "13546ca2",
   "metadata": {
    "id": "13546ca2"
   },
   "outputs": [],
   "source": []
  },
  {
   "cell_type": "code",
   "execution_count": null,
   "id": "1185645c",
   "metadata": {
    "id": "1185645c",
    "outputId": "1f096abb-9a60-4115-e5fd-c76afd977cde"
   },
   "outputs": [
    {
     "data": {
      "text/html": [
       "<style>#sk-container-id-3 {color: black;background-color: white;}#sk-container-id-3 pre{padding: 0;}#sk-container-id-3 div.sk-toggleable {background-color: white;}#sk-container-id-3 label.sk-toggleable__label {cursor: pointer;display: block;width: 100%;margin-bottom: 0;padding: 0.3em;box-sizing: border-box;text-align: center;}#sk-container-id-3 label.sk-toggleable__label-arrow:before {content: \"▸\";float: left;margin-right: 0.25em;color: #696969;}#sk-container-id-3 label.sk-toggleable__label-arrow:hover:before {color: black;}#sk-container-id-3 div.sk-estimator:hover label.sk-toggleable__label-arrow:before {color: black;}#sk-container-id-3 div.sk-toggleable__content {max-height: 0;max-width: 0;overflow: hidden;text-align: left;background-color: #f0f8ff;}#sk-container-id-3 div.sk-toggleable__content pre {margin: 0.2em;color: black;border-radius: 0.25em;background-color: #f0f8ff;}#sk-container-id-3 input.sk-toggleable__control:checked~div.sk-toggleable__content {max-height: 200px;max-width: 100%;overflow: auto;}#sk-container-id-3 input.sk-toggleable__control:checked~label.sk-toggleable__label-arrow:before {content: \"▾\";}#sk-container-id-3 div.sk-estimator input.sk-toggleable__control:checked~label.sk-toggleable__label {background-color: #d4ebff;}#sk-container-id-3 div.sk-label input.sk-toggleable__control:checked~label.sk-toggleable__label {background-color: #d4ebff;}#sk-container-id-3 input.sk-hidden--visually {border: 0;clip: rect(1px 1px 1px 1px);clip: rect(1px, 1px, 1px, 1px);height: 1px;margin: -1px;overflow: hidden;padding: 0;position: absolute;width: 1px;}#sk-container-id-3 div.sk-estimator {font-family: monospace;background-color: #f0f8ff;border: 1px dotted black;border-radius: 0.25em;box-sizing: border-box;margin-bottom: 0.5em;}#sk-container-id-3 div.sk-estimator:hover {background-color: #d4ebff;}#sk-container-id-3 div.sk-parallel-item::after {content: \"\";width: 100%;border-bottom: 1px solid gray;flex-grow: 1;}#sk-container-id-3 div.sk-label:hover label.sk-toggleable__label {background-color: #d4ebff;}#sk-container-id-3 div.sk-serial::before {content: \"\";position: absolute;border-left: 1px solid gray;box-sizing: border-box;top: 0;bottom: 0;left: 50%;z-index: 0;}#sk-container-id-3 div.sk-serial {display: flex;flex-direction: column;align-items: center;background-color: white;padding-right: 0.2em;padding-left: 0.2em;position: relative;}#sk-container-id-3 div.sk-item {position: relative;z-index: 1;}#sk-container-id-3 div.sk-parallel {display: flex;align-items: stretch;justify-content: center;background-color: white;position: relative;}#sk-container-id-3 div.sk-item::before, #sk-container-id-3 div.sk-parallel-item::before {content: \"\";position: absolute;border-left: 1px solid gray;box-sizing: border-box;top: 0;bottom: 0;left: 50%;z-index: -1;}#sk-container-id-3 div.sk-parallel-item {display: flex;flex-direction: column;z-index: 1;position: relative;background-color: white;}#sk-container-id-3 div.sk-parallel-item:first-child::after {align-self: flex-end;width: 50%;}#sk-container-id-3 div.sk-parallel-item:last-child::after {align-self: flex-start;width: 50%;}#sk-container-id-3 div.sk-parallel-item:only-child::after {width: 0;}#sk-container-id-3 div.sk-dashed-wrapped {border: 1px dashed gray;margin: 0 0.4em 0.5em 0.4em;box-sizing: border-box;padding-bottom: 0.4em;background-color: white;}#sk-container-id-3 div.sk-label label {font-family: monospace;font-weight: bold;display: inline-block;line-height: 1.2em;}#sk-container-id-3 div.sk-label-container {text-align: center;}#sk-container-id-3 div.sk-container {/* jupyter's `normalize.less` sets `[hidden] { display: none; }` but bootstrap.min.css set `[hidden] { display: none !important; }` so we also need the `!important` here to be able to override the default hidden behavior on the sphinx rendered scikit-learn.org. See: https://github.com/scikit-learn/scikit-learn/issues/21755 */display: inline-block !important;position: relative;}#sk-container-id-3 div.sk-text-repr-fallback {display: none;}</style><div id=\"sk-container-id-3\" class=\"sk-top-container\"><div class=\"sk-text-repr-fallback\"><pre>SVC(C=5, probability=True)</pre><b>In a Jupyter environment, please rerun this cell to show the HTML representation or trust the notebook. <br />On GitHub, the HTML representation is unable to render, please try loading this page with nbviewer.org.</b></div><div class=\"sk-container\" hidden><div class=\"sk-item\"><div class=\"sk-estimator sk-toggleable\"><input class=\"sk-toggleable__control sk-hidden--visually\" id=\"sk-estimator-id-5\" type=\"checkbox\" checked><label for=\"sk-estimator-id-5\" class=\"sk-toggleable__label sk-toggleable__label-arrow\">SVC</label><div class=\"sk-toggleable__content\"><pre>SVC(C=5, probability=True)</pre></div></div></div></div></div>"
      ],
      "text/plain": [
       "SVC(C=5, probability=True)"
      ]
     },
     "execution_count": 43,
     "metadata": {},
     "output_type": "execute_result"
    }
   ],
   "source": [
    "X_s = train_shuffle.drop(columns=['label','fecha','label_num'])\n",
    "y_s = train_shuffle['label_num']\n",
    "\n",
    "final_model_s = SVC(kernel='rbf', C=5,probability=True)\n",
    "final_model_s.fit(X_s, y_s)"
   ]
  },
  {
   "cell_type": "code",
   "execution_count": null,
   "id": "b6afeb42",
   "metadata": {
    "id": "b6afeb42"
   },
   "outputs": [],
   "source": [
    "pickle.dump(final_model_s, open('svm_shuffle_prom', 'wb'))"
   ]
  },
  {
   "cell_type": "markdown",
   "id": "2deb77f6",
   "metadata": {
    "id": "2deb77f6"
   },
   "source": [
    "## Pruebas en Test"
   ]
  },
  {
   "cell_type": "code",
   "execution_count": null,
   "id": "48dc6948",
   "metadata": {
    "id": "48dc6948"
   },
   "outputs": [],
   "source": [
    "X_test_s = test_shuffle.drop(columns=['label','fecha','label_num'])\n",
    "y_test_s = test_shuffle['label_num']"
   ]
  },
  {
   "cell_type": "code",
   "execution_count": null,
   "id": "fce26d32",
   "metadata": {
    "id": "fce26d32"
   },
   "outputs": [],
   "source": [
    "# Predice etiqueta (selecciona la de mayor probabilidad de las 4 secciones)\n",
    "Y_pred = final_model_s.predict(X_test_s)\n",
    "Y_pred_label = list(encoder.inverse_transform(Y_pred)) # Lo vuelve a codificar con el nombre\n",
    "\n",
    "#Calcula probabilidad por seccion\n",
    "Y_prob= final_model_s.predict_proba(X_test_s)\n",
    "\n",
    "# Agrega probabilidad por seccion\n",
    "df_sol_s=pd.concat(\n",
    "            [test_shuffle.reset_index(drop=True)[['label','label_num']],\n",
    "             pd.DataFrame(Y_prob,columns=['prob_economia','prob_el-mundo','prob_el-pais','prob_sociedad'])],axis=1)\n",
    "\n",
    "# Agrega etiqueta de predicciones\n",
    "df_sol_s=pd.concat([df_sol_s,pd.DataFrame(Y_pred_label,columns=['Label_ped'])],axis=1)"
   ]
  },
  {
   "cell_type": "code",
   "execution_count": null,
   "id": "0045c06f",
   "metadata": {
    "id": "0045c06f",
    "outputId": "48ec07de-22d3-46e9-9a42-e10712293f54"
   },
   "outputs": [
    {
     "name": "stdout",
     "output_type": "stream",
     "text": [
      "AUC: economia: 0.9849534688636591\n",
      "AUC: el-mundo: 0.9820524473641701\n",
      "AUC: el-pais: 0.9520434108600111\n",
      "AUC: sociedad: 0.9595021669276927\n"
     ]
    }
   ],
   "source": [
    "auc=[]\n",
    "for i,seccion in enumerate(['economia','el-mundo','el-pais','sociedad']):\n",
    "    auc.append(roc_auc_score((df_sol_s['label']==seccion).astype(int),df_sol_s['prob_'+seccion]))\n",
    "    print(\"AUC: \"+seccion+\": \"+str(auc[i]))"
   ]
  },
  {
   "cell_type": "code",
   "execution_count": null,
   "id": "57573a50",
   "metadata": {
    "id": "57573a50",
    "outputId": "89419248-e0f7-410e-a414-82960600c4ff"
   },
   "outputs": [
    {
     "name": "stdout",
     "output_type": "stream",
     "text": [
      "La AUC One oVer Rest es: 0.9696378735038832\n"
     ]
    }
   ],
   "source": [
    "print(\"La AUC One oVer Rest es: \"+str(sum(auc)/4)) # En TEST"
   ]
  },
  {
   "cell_type": "code",
   "execution_count": null,
   "id": "6427af9e",
   "metadata": {
    "id": "6427af9e",
    "outputId": "0a141c2d-e9c7-41e1-da18-b3b8c6bc477d"
   },
   "outputs": [
    {
     "data": {
      "image/png": "[encoded data removed]",
      "text/plain": [
       "<Figure size 800x600 with 1 Axes>"
      ]
     },
     "metadata": {},
     "output_type": "display_data"
    }
   ],
   "source": [
    "auc=[]\n",
    "for i,seccion in enumerate(['economia','el-mundo','el-pais','sociedad']):  \n",
    "    fpr, tpr, thresholds = roc_curve((df_sol_s['label']==seccion).astype(int), df_sol_s['prob_'+seccion])\n",
    "\n",
    "    if i==0:\n",
    "        plt.plot([0,1], [0,1], linestyle='--', label='No Skill')\n",
    "    plt.plot(fpr, tpr, marker='.', label=seccion)\n",
    "\n",
    "    # axis labels\n",
    "    plt.xlabel('False Positive Rate')\n",
    "    plt.ylabel('True Positive Rate')\n",
    "    plt.legend()\n",
    "\n",
    "    # show the plot\n",
    "    plt.rcParams['figure.figsize'] = (8, 6)\n",
    "plt.show()"
   ]
  },
  {
   "cell_type": "code",
   "execution_count": null,
   "id": "cb64b7d4",
   "metadata": {
    "id": "cb64b7d4",
    "outputId": "7c806935-dbdc-4ab8-d030-faa69eef814f"
   },
   "outputs": [
    {
     "data": {
      "text/plain": [
       "<AxesSubplot:>"
      ]
     },
     "execution_count": 81,
     "metadata": {},
     "output_type": "execute_result"
    },
    {
     "data": {
      "image/png": "[encoded data removed]",
      "text/plain": [
       "<Figure size 800x600 with 2 Axes>"
      ]
     },
     "metadata": {},
     "output_type": "display_data"
    }
   ],
   "source": [
    "confusion = confusion_matrix(df_sol_s['label'], df_sol_s['Label_ped'])\n",
    "\n",
    "cm_matrix = pd.DataFrame(data=confusion, columns=['Pred economia', 'Pred el-mundo','Pred el-pais','Pred sociedad'], \n",
    "                                 index=['Real economia', 'Real el-mundo','Real el-pais','Real sociedad'])\n",
    "sns.heatmap(cm_matrix, annot=True, fmt=\"d\", cmap='YlGnBu')"
   ]
  },
  {
   "cell_type": "code",
   "execution_count": null,
   "id": "90093839",
   "metadata": {
    "id": "90093839",
    "outputId": "3dda52cd-3ecd-44b3-b8e4-efc97f899c15"
   },
   "outputs": [
    {
     "name": "stdout",
     "output_type": "stream",
     "text": [
      "\n",
      "Classification Report\n",
      "\n",
      "              precision    recall  f1-score   support\n",
      "\n",
      "    economia       0.88      0.90      0.89      1452\n",
      "    el-mundo       0.88      0.86      0.87      1225\n",
      "     el-pais       0.83      0.82      0.83      2136\n",
      "    sociedad       0.83      0.84      0.83      2097\n",
      "\n",
      "    accuracy                           0.85      6910\n",
      "   macro avg       0.86      0.85      0.86      6910\n",
      "weighted avg       0.85      0.85      0.85      6910\n",
      "\n"
     ]
    }
   ],
   "source": [
    "print('\\nClassification Report\\n')\n",
    "print(classification_report(df_sol_s['label'], df_sol_s['Label_ped'], target_names=['economia', 'el-mundo', 'el-pais','sociedad']))\n",
    "# pred_lr['label'].value_counts() #Sirve para chequear las clases"
   ]
  },
  {
   "cell_type": "code",
   "execution_count": null,
   "id": "10e8f46b",
   "metadata": {
    "id": "10e8f46b"
   },
   "outputs": [],
   "source": []
  },
  {
   "cell_type": "code",
   "execution_count": null,
   "id": "649ad2a1",
   "metadata": {
    "id": "649ad2a1"
   },
   "outputs": [],
   "source": []
  },
  {
   "cell_type": "code",
   "execution_count": null,
   "id": "0fda5fc7",
   "metadata": {
    "id": "0fda5fc7"
   },
   "outputs": [],
   "source": []
  }
 ],
 "metadata": {
  "colab": {
   "provenance": []
  },
  "kernelspec": {
   "display_name": "Python 3 (ipykernel)",
   "language": "python",
   "name": "python3"
  },
  "language_info": {
   "codemirror_mode": {
    "name": "ipython",
    "version": 3
   },
   "file_extension": ".py",
   "mimetype": "text/x-python",
   "name": "python",
   "nbconvert_exporter": "python",
   "pygments_lexer": "ipython3",
   "version": "3.9.6"
  }
 },
 "nbformat": 4,
 "nbformat_minor": 5
}
