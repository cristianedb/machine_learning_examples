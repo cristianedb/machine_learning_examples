{
 "cells": [
  {
   "cell_type": "markdown",
   "id": "qD0xY9G3x55U",
   "metadata": {
    "id": "qD0xY9G3x55U"
   },
   "source": [
    "# Grupo 15\n",
    "\n",
    "* De Blasis, Cristian\n",
    "* Gudiño, Gabriel\n",
    "* Milich-Tear, Guillermo\n",
    "* Veiga, Cristian\n",
    "\n",
    "## Busqueda de modelos con Pycaret\n",
    "En este notebook se analizaran distintos modelos con la librería pycarte a fin de encontrar los que mejores funcionan\n"
   ]
  },
  {
   "cell_type": "code",
   "execution_count": null,
   "id": "84395ed8-3d49-4a9d-a083-65282b11b879",
   "metadata": {
    "id": "84395ed8-3d49-4a9d-a083-65282b11b879"
   },
   "outputs": [],
   "source": [
    "import pandas as pd\n",
    "import pycaret\n",
    "from sklearn.metrics import roc_auc_score\n",
    "from pycaret.classification import *\n",
    "import joblib\n",
    "from sklearn import model_selection\n",
    "\n",
    "import locale\n",
    "locale.setlocale(locale.LC_ALL,'es_ES.UTF-8')\n",
    "from datetime import datetime as dt\n",
    "\n",
    "\n",
    "#Configuracion pandas\n",
    "pd.set_option('display.max_columns', None)\n",
    "pd.set_option('display.max_row', None)\n",
    "pd.set_option('display.width', 2000)\n",
    "pd.set_option('display.float_format', '{:20,.2f}'.format)\n",
    "pd.set_option('display.max_colwidth', None)"
   ]
  },
  {
   "cell_type": "markdown",
   "id": "5293cab9",
   "metadata": {
    "id": "5293cab9"
   },
   "source": [
    "# Prepara dataset para entrenamiento\n",
    "\n",
    "### IMPORTANTE\n",
    "Las features del dataset utilizado se obtivo como promedio de los vectores de cada palabra.\n"
   ]
  },
  {
   "cell_type": "markdown",
   "id": "732zypXb5MVb",
   "metadata": {
    "id": "732zypXb5MVb"
   },
   "source": [
    "El archivo se puede descargar en https://drive.google.com/file/d/1K3pkC2p0Ah-bH8GPlCAoFqriH3emgxBG/view?usp=sharing"
   ]
  },
  {
   "cell_type": "code",
   "execution_count": null,
   "id": "8ad69571",
   "metadata": {
    "id": "8ad69571"
   },
   "outputs": [],
   "source": [
    "df=joblib.load('./datasets/2_VECTOR_PROM')"
   ]
  },
  {
   "cell_type": "code",
   "execution_count": null,
   "id": "83fbd53d",
   "metadata": {
    "id": "83fbd53d"
   },
   "outputs": [],
   "source": [
    "data=pd.DataFrame(df['vector_promedio'].to_list())\n",
    "data['label']=df['topico'].values\n",
    "data['fecha']=df['fecha'].values\n",
    "\n",
    "# Se le especifica el tipo a las columnas\n",
    "data['label']=data['label'].astype('category')\n",
    "data['fecha']=data['fecha'].map(lambda s:dt.strptime(s, '%d de %B de %Y - %H:%M'))"
   ]
  },
  {
   "cell_type": "markdown",
   "id": "pMttH5Y6zQXw",
   "metadata": {
    "id": "pMttH5Y6zQXw"
   },
   "source": [
    "# Separacion Train Test\n",
    "En este trabajo se pretende evaluar el modelo ya sea con un dataset mezclado o con una separación cronologica. Para esto debemos \"ecualizar\" la cantidad de registros que quedan por seccion a fin de realizar una comparación justa\n"
   ]
  },
  {
   "cell_type": "markdown",
   "id": "afcd70e9",
   "metadata": {
    "id": "afcd70e9"
   },
   "source": [
    "## Train-Test separados por fechas"
   ]
  },
  {
   "cell_type": "code",
   "execution_count": null,
   "id": "7159992b",
   "metadata": {
    "id": "7159992b"
   },
   "outputs": [],
   "source": [
    "data=data.sort_values(by='fecha')\n",
    "data.reset_index(drop=True,inplace=True)"
   ]
  },
  {
   "cell_type": "code",
   "execution_count": null,
   "id": "89593f46",
   "metadata": {
    "id": "89593f46"
   },
   "outputs": [],
   "source": [
    "train_test_frac=0.8\n",
    "rows=round(data.shape[0]*train_test_frac)\n",
    "fecha_corte=data.loc[rows,'fecha']\n",
    "\n",
    "train_date=data[data['fecha']<=fecha_corte].reset_index(drop=True)\n",
    "test_date=data[data['fecha']>fecha_corte].reset_index(drop=True)"
   ]
  },
  {
   "cell_type": "code",
   "execution_count": null,
   "id": "542aa471",
   "metadata": {
    "id": "542aa471",
    "outputId": "6ea06e06-eb3f-4adb-9299-d461c178e2f3"
   },
   "outputs": [
    {
     "name": "stdout",
     "output_type": "stream",
     "text": [
      "FECHAS TRAIN:2018-03-08 01:59:00-2021-11-30 00:48:00\n",
      "FECHAS TEST:2021-11-30 02:40:00-2022-08-31 11:04:00\n"
     ]
    }
   ],
   "source": [
    "print('FECHAS TRAIN:'+str(train_date['fecha'].min())+ '-'+str(train_date['fecha'].max()))\n",
    "print('FECHAS TEST:'+str(test_date['fecha'].min())+ '-'+str(test_date['fecha'].max()))"
   ]
  },
  {
   "cell_type": "markdown",
   "id": "0c1ae4b3",
   "metadata": {
    "id": "0c1ae4b3"
   },
   "source": [
    "### Registros por etiquetas en train"
   ]
  },
  {
   "cell_type": "code",
   "execution_count": null,
   "id": "9e386cc8",
   "metadata": {
    "id": "9e386cc8",
    "outputId": "0c10a253-8570-42cd-df09-e21248f6a27a"
   },
   "outputs": [
    {
     "data": {
      "text/plain": [
       "el-pais     8537\n",
       "sociedad    8083\n",
       "economia    5906\n",
       "el-mundo    5117\n",
       "Name: label, dtype: int64"
      ]
     },
     "execution_count": 9,
     "metadata": {},
     "output_type": "execute_result"
    }
   ],
   "source": [
    "train_date['label'].value_counts()"
   ]
  },
  {
   "cell_type": "markdown",
   "id": "11b35e0d",
   "metadata": {
    "id": "11b35e0d"
   },
   "source": [
    "### Registros por etiquetas en test"
   ]
  },
  {
   "cell_type": "code",
   "execution_count": null,
   "id": "1b01a7bb",
   "metadata": {
    "id": "1b01a7bb",
    "outputId": "5ad9210c-5a04-427d-a5a5-174da23721d7"
   },
   "outputs": [
    {
     "data": {
      "text/plain": [
       "sociedad    2400\n",
       "el-pais     2145\n",
       "economia    1354\n",
       "el-mundo    1007\n",
       "Name: label, dtype: int64"
      ]
     },
     "execution_count": 10,
     "metadata": {},
     "output_type": "execute_result"
    }
   ],
   "source": [
    "test_date['label'].value_counts()"
   ]
  },
  {
   "cell_type": "markdown",
   "id": "182fe931",
   "metadata": {
    "id": "182fe931"
   },
   "source": [
    "## Train-Test mezclados"
   ]
  },
  {
   "cell_type": "code",
   "execution_count": null,
   "id": "27ca7c63",
   "metadata": {
    "id": "27ca7c63"
   },
   "outputs": [],
   "source": [
    "train_shuffle, test_shuffle = model_selection.train_test_split(data, test_size=0.2,stratify=data['label'],random_state=2016,shuffle=True)"
   ]
  },
  {
   "cell_type": "code",
   "execution_count": null,
   "id": "e73b71af",
   "metadata": {
    "id": "e73b71af",
    "outputId": "87381017-4d40-440d-8e40-36768bfcf2ec"
   },
   "outputs": [
    {
     "name": "stdout",
     "output_type": "stream",
     "text": [
      "FECHAS TRAIN:2018-03-08 01:59:00-2022-08-31 11:04:00\n",
      "FECHAS TEST:2018-03-10 01:11:00-2022-08-31 07:23:00\n"
     ]
    }
   ],
   "source": [
    "print('FECHAS TRAIN:'+str(train_shuffle['fecha'].min())+ '-'+str(train_shuffle['fecha'].max()))\n",
    "print('FECHAS TEST:'+str(test_shuffle['fecha'].min())+ '-'+str(test_shuffle['fecha'].max()))"
   ]
  },
  {
   "cell_type": "code",
   "execution_count": null,
   "id": "17193af3",
   "metadata": {
    "id": "17193af3",
    "outputId": "4eac873d-7393-48cb-8d75-f6b4cbc14972"
   },
   "outputs": [
    {
     "data": {
      "text/plain": [
       "el-pais     8546\n",
       "sociedad    8386\n",
       "economia    5808\n",
       "el-mundo    4899\n",
       "Name: label, dtype: int64"
      ]
     },
     "execution_count": 13,
     "metadata": {},
     "output_type": "execute_result"
    }
   ],
   "source": [
    "train_shuffle['label'].value_counts()"
   ]
  },
  {
   "cell_type": "code",
   "execution_count": null,
   "id": "0780683b",
   "metadata": {
    "id": "0780683b",
    "outputId": "9a6015e4-788a-44c1-b933-ab906f360886"
   },
   "outputs": [
    {
     "data": {
      "text/plain": [
       "el-pais     2136\n",
       "sociedad    2097\n",
       "economia    1452\n",
       "el-mundo    1225\n",
       "Name: label, dtype: int64"
      ]
     },
     "execution_count": 14,
     "metadata": {},
     "output_type": "execute_result"
    }
   ],
   "source": [
    "test_shuffle['label'].value_counts()"
   ]
  },
  {
   "cell_type": "markdown",
   "id": "fa74b60d",
   "metadata": {
    "id": "fa74b60d"
   },
   "source": [
    "**Se observa que las candtidades por seccion son diferentes en cada Train-Test por tal motivo se normalizará al valor mínimo**"
   ]
  },
  {
   "cell_type": "markdown",
   "id": "8500c2c2",
   "metadata": {
    "id": "8500c2c2"
   },
   "source": [
    "## Normalización de cantidad de registros por secciones"
   ]
  },
  {
   "cell_type": "code",
   "execution_count": null,
   "id": "585e7de5",
   "metadata": {
    "id": "585e7de5"
   },
   "outputs": [],
   "source": [
    "secciones=['economia','sociedad','el-mundo','el-pais']\n",
    "train_date_norm=pd.DataFrame([],columns=train_date.columns)\n",
    "test_date_norm=pd.DataFrame([],columns=train_date.columns)\n",
    "\n",
    "train_shuffle_norm=pd.DataFrame([],columns=train_shuffle.columns)\n",
    "test_shuffle_norm=pd.DataFrame([],columns=train_shuffle.columns)\n",
    "\n",
    "\n",
    "for seccion in secciones:\n",
    "    train_min=min(sum(train_date['label']==seccion),sum(train_shuffle['label']==seccion))\n",
    "    test_min=min(sum(test_date['label']==seccion),sum(test_shuffle['label']==seccion))\n",
    "    \n",
    "    train_date_norm=pd.concat([train_date_norm,train_date[train_date['label']==seccion].sample(train_min)],axis=0)\n",
    "    train_shuffle_norm=pd.concat([train_shuffle_norm,train_shuffle[train_shuffle['label']==seccion].sample(train_min)],axis=0)\n",
    "    \n",
    "    test_date_norm=pd.concat([test_date_norm,test_date[test_date['label']==seccion].sample(test_min)],axis=0)\n",
    "    test_shuffle_norm=pd.concat([test_shuffle_norm,test_shuffle[test_shuffle['label']==seccion].sample(test_min)],axis=0)    "
   ]
  },
  {
   "cell_type": "markdown",
   "id": "43eb3ea0",
   "metadata": {
    "id": "43eb3ea0"
   },
   "source": [
    "## Verifiacion dataset normalizados"
   ]
  },
  {
   "cell_type": "markdown",
   "id": "9a42f9ae",
   "metadata": {
    "id": "9a42f9ae"
   },
   "source": [
    "### Separados cronologicamente"
   ]
  },
  {
   "cell_type": "code",
   "execution_count": null,
   "id": "b3b80519",
   "metadata": {
    "id": "b3b80519",
    "outputId": "6f3a2d06-e3cd-43a3-e157-c4d2b3d20c03"
   },
   "outputs": [
    {
     "name": "stdout",
     "output_type": "stream",
     "text": [
      "FECHAS TRAIN:2018-03-08 01:59:00-2021-11-30 00:48:00\n",
      "FECHAS TEST:2021-11-30 02:40:00-2022-08-31 11:04:00\n"
     ]
    }
   ],
   "source": [
    "print('FECHAS TRAIN:'+str(train_date_norm['fecha'].min())+ '-'+str(train_date_norm['fecha'].max()))\n",
    "print('FECHAS TEST:'+str(test_date_norm['fecha'].min())+ '-'+str(test_date_norm['fecha'].max()))"
   ]
  },
  {
   "cell_type": "code",
   "execution_count": null,
   "id": "19de6ecb",
   "metadata": {
    "id": "19de6ecb",
    "outputId": "9855c2c9-3655-414c-8a7f-82cb2a730b8d"
   },
   "outputs": [
    {
     "data": {
      "text/plain": [
       "el-pais     8537\n",
       "sociedad    8083\n",
       "economia    5808\n",
       "el-mundo    4899\n",
       "Name: label, dtype: int64"
      ]
     },
     "execution_count": 17,
     "metadata": {},
     "output_type": "execute_result"
    }
   ],
   "source": [
    "train_date_norm['label'].value_counts()"
   ]
  },
  {
   "cell_type": "code",
   "execution_count": null,
   "id": "b310eabc",
   "metadata": {
    "id": "b310eabc",
    "outputId": "332188b6-7488-4740-a6fc-59ebd78fe2ba"
   },
   "outputs": [
    {
     "data": {
      "text/plain": [
       "el-pais     2136\n",
       "sociedad    2097\n",
       "economia    1354\n",
       "el-mundo    1007\n",
       "Name: label, dtype: int64"
      ]
     },
     "execution_count": 18,
     "metadata": {},
     "output_type": "execute_result"
    }
   ],
   "source": [
    "test_date_norm['label'].value_counts()"
   ]
  },
  {
   "cell_type": "markdown",
   "id": "eda56d63",
   "metadata": {
    "id": "eda56d63"
   },
   "source": [
    "### Separados al azar"
   ]
  },
  {
   "cell_type": "code",
   "execution_count": null,
   "id": "5ebc5605",
   "metadata": {
    "id": "5ebc5605",
    "outputId": "592fe606-7616-47ab-b129-8d193cbceb55"
   },
   "outputs": [
    {
     "name": "stdout",
     "output_type": "stream",
     "text": [
      "FECHAS TRAIN:2018-03-08 01:59:00-2022-08-31 11:04:00\n",
      "FECHAS TEST:2018-03-10 01:11:00-2022-08-31 07:23:00\n"
     ]
    }
   ],
   "source": [
    "print('FECHAS TRAIN:'+str(train_shuffle_norm['fecha'].min())+ '-'+str(train_shuffle_norm['fecha'].max()))\n",
    "print('FECHAS TEST:'+str(test_shuffle_norm['fecha'].min())+ '-'+str(test_shuffle_norm['fecha'].max()))"
   ]
  },
  {
   "cell_type": "code",
   "execution_count": null,
   "id": "60206178",
   "metadata": {
    "id": "60206178",
    "outputId": "7e9f7143-a26b-4520-824e-e7f9898d6aa3"
   },
   "outputs": [
    {
     "data": {
      "text/plain": [
       "el-pais     8537\n",
       "sociedad    8083\n",
       "economia    5808\n",
       "el-mundo    4899\n",
       "Name: label, dtype: int64"
      ]
     },
     "execution_count": 20,
     "metadata": {},
     "output_type": "execute_result"
    }
   ],
   "source": [
    "train_shuffle_norm['label'].value_counts()"
   ]
  },
  {
   "cell_type": "code",
   "execution_count": null,
   "id": "eef35645",
   "metadata": {
    "id": "eef35645",
    "outputId": "e4af894d-678e-4770-bc22-6daae82a3d37"
   },
   "outputs": [
    {
     "data": {
      "text/plain": [
       "el-pais     2136\n",
       "sociedad    2097\n",
       "economia    1354\n",
       "el-mundo    1007\n",
       "Name: label, dtype: int64"
      ]
     },
     "execution_count": 21,
     "metadata": {},
     "output_type": "execute_result"
    }
   ],
   "source": [
    "test_shuffle_norm['label'].value_counts()"
   ]
  },
  {
   "cell_type": "markdown",
   "id": "JAcPsAXi0a4-",
   "metadata": {
    "id": "JAcPsAXi0a4-"
   },
   "source": [
    "**Ahora vemos que las proporciones son las mismas, lo cual permitirá una justa comparación**\n"
   ]
  },
  {
   "cell_type": "markdown",
   "id": "6bef0498",
   "metadata": {
    "id": "6bef0498"
   },
   "source": [
    "# Prueba de varios modelos\n",
    "\n",
    "Se utilizará una libreria de auto ML para verificar distintos modelos de manera práctica y rápida. "
   ]
  },
  {
   "cell_type": "markdown",
   "id": "79dae174",
   "metadata": {
    "id": "79dae174"
   },
   "source": [
    "https://www.kaggle.com/code/pralabhpoudel/multiclass-classification-with-automl-pycaret"
   ]
  },
  {
   "cell_type": "code",
   "execution_count": null,
   "id": "e435f2bd",
   "metadata": {
    "id": "e435f2bd"
   },
   "outputs": [],
   "source": [
    "exp_clf101 = setup(data = train_date_norm.drop(columns=['fecha']), target = 'label',train_size = 0.7,fold=3,fold_shuffle=True,fold_strategy='kfold',session_id=1001)"
   ]
  },
  {
   "cell_type": "code",
   "execution_count": null,
   "id": "c3c09b90",
   "metadata": {
    "id": "c3c09b90",
    "outputId": "6a4fd363-85d7-4f1a-bee9-7a3e75b99550"
   },
   "outputs": [
    {
     "data": {
      "text/html": [
       "<style type=\"text/css\">\n",
       "#T_e31af th {\n",
       "  text-align: left;\n",
       "}\n",
       "#T_e31af_row0_col0, #T_e31af_row1_col0, #T_e31af_row1_col1, #T_e31af_row1_col2, #T_e31af_row1_col3, #T_e31af_row1_col4, #T_e31af_row1_col5, #T_e31af_row1_col6, #T_e31af_row1_col7, #T_e31af_row2_col0, #T_e31af_row2_col1, #T_e31af_row2_col2, #T_e31af_row2_col3, #T_e31af_row2_col4, #T_e31af_row2_col5, #T_e31af_row2_col6, #T_e31af_row2_col7, #T_e31af_row3_col0, #T_e31af_row3_col1, #T_e31af_row3_col2, #T_e31af_row3_col3, #T_e31af_row3_col4, #T_e31af_row3_col5, #T_e31af_row3_col6, #T_e31af_row3_col7, #T_e31af_row4_col0, #T_e31af_row4_col1, #T_e31af_row4_col2, #T_e31af_row4_col3, #T_e31af_row4_col4, #T_e31af_row4_col5, #T_e31af_row4_col6, #T_e31af_row4_col7, #T_e31af_row5_col0, #T_e31af_row5_col1, #T_e31af_row5_col2, #T_e31af_row5_col3, #T_e31af_row5_col4, #T_e31af_row5_col5, #T_e31af_row5_col6, #T_e31af_row5_col7, #T_e31af_row6_col0, #T_e31af_row6_col1, #T_e31af_row6_col2, #T_e31af_row6_col3, #T_e31af_row6_col4, #T_e31af_row6_col5, #T_e31af_row6_col6, #T_e31af_row6_col7, #T_e31af_row7_col0, #T_e31af_row7_col1, #T_e31af_row7_col2, #T_e31af_row7_col3, #T_e31af_row7_col4, #T_e31af_row7_col5, #T_e31af_row7_col6, #T_e31af_row7_col7, #T_e31af_row8_col0, #T_e31af_row8_col1, #T_e31af_row8_col2, #T_e31af_row8_col3, #T_e31af_row8_col4, #T_e31af_row8_col5, #T_e31af_row8_col6, #T_e31af_row8_col7, #T_e31af_row9_col0, #T_e31af_row9_col1, #T_e31af_row9_col2, #T_e31af_row9_col3, #T_e31af_row9_col4, #T_e31af_row9_col5, #T_e31af_row9_col6, #T_e31af_row9_col7, #T_e31af_row10_col0, #T_e31af_row10_col1, #T_e31af_row10_col2, #T_e31af_row10_col3, #T_e31af_row10_col4, #T_e31af_row10_col5, #T_e31af_row10_col6, #T_e31af_row10_col7, #T_e31af_row11_col0, #T_e31af_row11_col1, #T_e31af_row11_col2, #T_e31af_row11_col3, #T_e31af_row11_col4, #T_e31af_row11_col5, #T_e31af_row11_col6, #T_e31af_row11_col7, #T_e31af_row12_col0, #T_e31af_row12_col1, #T_e31af_row12_col2, #T_e31af_row12_col3, #T_e31af_row12_col4, #T_e31af_row12_col5, #T_e31af_row12_col6, #T_e31af_row12_col7, #T_e31af_row13_col0, #T_e31af_row13_col1, #T_e31af_row13_col2, #T_e31af_row13_col3, #T_e31af_row13_col4, #T_e31af_row13_col5, #T_e31af_row13_col6, #T_e31af_row13_col7, #T_e31af_row14_col0, #T_e31af_row14_col1, #T_e31af_row14_col2, #T_e31af_row14_col3, #T_e31af_row14_col4, #T_e31af_row14_col5, #T_e31af_row14_col6, #T_e31af_row14_col7 {\n",
       "  text-align: left;\n",
       "}\n",
       "#T_e31af_row0_col1, #T_e31af_row0_col2, #T_e31af_row0_col3, #T_e31af_row0_col4, #T_e31af_row0_col5, #T_e31af_row0_col6, #T_e31af_row0_col7 {\n",
       "  text-align: left;\n",
       "  background-color: yellow;\n",
       "}\n",
       "#T_e31af_row0_col8, #T_e31af_row1_col8, #T_e31af_row2_col8, #T_e31af_row3_col8, #T_e31af_row4_col8, #T_e31af_row6_col8, #T_e31af_row7_col8, #T_e31af_row8_col8, #T_e31af_row9_col8, #T_e31af_row10_col8, #T_e31af_row11_col8, #T_e31af_row12_col8, #T_e31af_row13_col8, #T_e31af_row14_col8 {\n",
       "  text-align: left;\n",
       "  background-color: lightgrey;\n",
       "}\n",
       "#T_e31af_row5_col8 {\n",
       "  text-align: left;\n",
       "  background-color: yellow;\n",
       "  background-color: lightgrey;\n",
       "}\n",
       "</style>\n",
       "<table id=\"T_e31af\">\n",
       "  <thead>\n",
       "    <tr>\n",
       "      <th class=\"blank level0\" >&nbsp;</th>\n",
       "      <th id=\"T_e31af_level0_col0\" class=\"col_heading level0 col0\" >Model</th>\n",
       "      <th id=\"T_e31af_level0_col1\" class=\"col_heading level0 col1\" >Accuracy</th>\n",
       "      <th id=\"T_e31af_level0_col2\" class=\"col_heading level0 col2\" >AUC</th>\n",
       "      <th id=\"T_e31af_level0_col3\" class=\"col_heading level0 col3\" >Recall</th>\n",
       "      <th id=\"T_e31af_level0_col4\" class=\"col_heading level0 col4\" >Prec.</th>\n",
       "      <th id=\"T_e31af_level0_col5\" class=\"col_heading level0 col5\" >F1</th>\n",
       "      <th id=\"T_e31af_level0_col6\" class=\"col_heading level0 col6\" >Kappa</th>\n",
       "      <th id=\"T_e31af_level0_col7\" class=\"col_heading level0 col7\" >MCC</th>\n",
       "      <th id=\"T_e31af_level0_col8\" class=\"col_heading level0 col8\" >TT (Sec)</th>\n",
       "    </tr>\n",
       "  </thead>\n",
       "  <tbody>\n",
       "    <tr>\n",
       "      <th id=\"T_e31af_level0_row0\" class=\"row_heading level0 row0\" >catboost</th>\n",
       "      <td id=\"T_e31af_row0_col0\" class=\"data row0 col0\" >CatBoost Classifier</td>\n",
       "      <td id=\"T_e31af_row0_col1\" class=\"data row0 col1\" >0.8350</td>\n",
       "      <td id=\"T_e31af_row0_col2\" class=\"data row0 col2\" >0.9618</td>\n",
       "      <td id=\"T_e31af_row0_col3\" class=\"data row0 col3\" >0.8369</td>\n",
       "      <td id=\"T_e31af_row0_col4\" class=\"data row0 col4\" >0.8360</td>\n",
       "      <td id=\"T_e31af_row0_col5\" class=\"data row0 col5\" >0.8352</td>\n",
       "      <td id=\"T_e31af_row0_col6\" class=\"data row0 col6\" >0.7759</td>\n",
       "      <td id=\"T_e31af_row0_col7\" class=\"data row0 col7\" >0.7761</td>\n",
       "      <td id=\"T_e31af_row0_col8\" class=\"data row0 col8\" >80.2800</td>\n",
       "    </tr>\n",
       "    <tr>\n",
       "      <th id=\"T_e31af_level0_row1\" class=\"row_heading level0 row1\" >xgboost</th>\n",
       "      <td id=\"T_e31af_row1_col0\" class=\"data row1 col0\" >Extreme Gradient Boosting</td>\n",
       "      <td id=\"T_e31af_row1_col1\" class=\"data row1 col1\" >0.8297</td>\n",
       "      <td id=\"T_e31af_row1_col2\" class=\"data row1 col2\" >0.9608</td>\n",
       "      <td id=\"T_e31af_row1_col3\" class=\"data row1 col3\" >0.8314</td>\n",
       "      <td id=\"T_e31af_row1_col4\" class=\"data row1 col4\" >0.8309</td>\n",
       "      <td id=\"T_e31af_row1_col5\" class=\"data row1 col5\" >0.8299</td>\n",
       "      <td id=\"T_e31af_row1_col6\" class=\"data row1 col6\" >0.7686</td>\n",
       "      <td id=\"T_e31af_row1_col7\" class=\"data row1 col7\" >0.7688</td>\n",
       "      <td id=\"T_e31af_row1_col8\" class=\"data row1 col8\" >135.2733</td>\n",
       "    </tr>\n",
       "    <tr>\n",
       "      <th id=\"T_e31af_level0_row2\" class=\"row_heading level0 row2\" >lr</th>\n",
       "      <td id=\"T_e31af_row2_col0\" class=\"data row2 col0\" >Logistic Regression</td>\n",
       "      <td id=\"T_e31af_row2_col1\" class=\"data row2 col1\" >0.8289</td>\n",
       "      <td id=\"T_e31af_row2_col2\" class=\"data row2 col2\" >0.9579</td>\n",
       "      <td id=\"T_e31af_row2_col3\" class=\"data row2 col3\" >0.8321</td>\n",
       "      <td id=\"T_e31af_row2_col4\" class=\"data row2 col4\" >0.8297</td>\n",
       "      <td id=\"T_e31af_row2_col5\" class=\"data row2 col5\" >0.8291</td>\n",
       "      <td id=\"T_e31af_row2_col6\" class=\"data row2 col6\" >0.7677</td>\n",
       "      <td id=\"T_e31af_row2_col7\" class=\"data row2 col7\" >0.7678</td>\n",
       "      <td id=\"T_e31af_row2_col8\" class=\"data row2 col8\" >3.4933</td>\n",
       "    </tr>\n",
       "    <tr>\n",
       "      <th id=\"T_e31af_level0_row3\" class=\"row_heading level0 row3\" >svm</th>\n",
       "      <td id=\"T_e31af_row3_col0\" class=\"data row3 col0\" >SVM - Linear Kernel</td>\n",
       "      <td id=\"T_e31af_row3_col1\" class=\"data row3 col1\" >0.8279</td>\n",
       "      <td id=\"T_e31af_row3_col2\" class=\"data row3 col2\" >0.0000</td>\n",
       "      <td id=\"T_e31af_row3_col3\" class=\"data row3 col3\" >0.8304</td>\n",
       "      <td id=\"T_e31af_row3_col4\" class=\"data row3 col4\" >0.8293</td>\n",
       "      <td id=\"T_e31af_row3_col5\" class=\"data row3 col5\" >0.8281</td>\n",
       "      <td id=\"T_e31af_row3_col6\" class=\"data row3 col6\" >0.7662</td>\n",
       "      <td id=\"T_e31af_row3_col7\" class=\"data row3 col7\" >0.7665</td>\n",
       "      <td id=\"T_e31af_row3_col8\" class=\"data row3 col8\" >0.4733</td>\n",
       "    </tr>\n",
       "    <tr>\n",
       "      <th id=\"T_e31af_level0_row4\" class=\"row_heading level0 row4\" >lightgbm</th>\n",
       "      <td id=\"T_e31af_row4_col0\" class=\"data row4 col0\" >Light Gradient Boosting Machine</td>\n",
       "      <td id=\"T_e31af_row4_col1\" class=\"data row4 col1\" >0.8264</td>\n",
       "      <td id=\"T_e31af_row4_col2\" class=\"data row4 col2\" >0.9594</td>\n",
       "      <td id=\"T_e31af_row4_col3\" class=\"data row4 col3\" >0.8279</td>\n",
       "      <td id=\"T_e31af_row4_col4\" class=\"data row4 col4\" >0.8278</td>\n",
       "      <td id=\"T_e31af_row4_col5\" class=\"data row4 col5\" >0.8267</td>\n",
       "      <td id=\"T_e31af_row4_col6\" class=\"data row4 col6\" >0.7641</td>\n",
       "      <td id=\"T_e31af_row4_col7\" class=\"data row4 col7\" >0.7644</td>\n",
       "      <td id=\"T_e31af_row4_col8\" class=\"data row4 col8\" >10.4167</td>\n",
       "    </tr>\n",
       "    <tr>\n",
       "      <th id=\"T_e31af_level0_row5\" class=\"row_heading level0 row5\" >ridge</th>\n",
       "      <td id=\"T_e31af_row5_col0\" class=\"data row5 col0\" >Ridge Classifier</td>\n",
       "      <td id=\"T_e31af_row5_col1\" class=\"data row5 col1\" >0.8243</td>\n",
       "      <td id=\"T_e31af_row5_col2\" class=\"data row5 col2\" >0.0000</td>\n",
       "      <td id=\"T_e31af_row5_col3\" class=\"data row5 col3\" >0.8273</td>\n",
       "      <td id=\"T_e31af_row5_col4\" class=\"data row5 col4\" >0.8254</td>\n",
       "      <td id=\"T_e31af_row5_col5\" class=\"data row5 col5\" >0.8246</td>\n",
       "      <td id=\"T_e31af_row5_col6\" class=\"data row5 col6\" >0.7614</td>\n",
       "      <td id=\"T_e31af_row5_col7\" class=\"data row5 col7\" >0.7616</td>\n",
       "      <td id=\"T_e31af_row5_col8\" class=\"data row5 col8\" >0.1600</td>\n",
       "    </tr>\n",
       "    <tr>\n",
       "      <th id=\"T_e31af_level0_row6\" class=\"row_heading level0 row6\" >lda</th>\n",
       "      <td id=\"T_e31af_row6_col0\" class=\"data row6 col0\" >Linear Discriminant Analysis</td>\n",
       "      <td id=\"T_e31af_row6_col1\" class=\"data row6 col1\" >0.8237</td>\n",
       "      <td id=\"T_e31af_row6_col2\" class=\"data row6 col2\" >0.9538</td>\n",
       "      <td id=\"T_e31af_row6_col3\" class=\"data row6 col3\" >0.8269</td>\n",
       "      <td id=\"T_e31af_row6_col4\" class=\"data row6 col4\" >0.8254</td>\n",
       "      <td id=\"T_e31af_row6_col5\" class=\"data row6 col5\" >0.8242</td>\n",
       "      <td id=\"T_e31af_row6_col6\" class=\"data row6 col6\" >0.7604</td>\n",
       "      <td id=\"T_e31af_row6_col7\" class=\"data row6 col7\" >0.7605</td>\n",
       "      <td id=\"T_e31af_row6_col8\" class=\"data row6 col8\" >0.7000</td>\n",
       "    </tr>\n",
       "    <tr>\n",
       "      <th id=\"T_e31af_level0_row7\" class=\"row_heading level0 row7\" >gbc</th>\n",
       "      <td id=\"T_e31af_row7_col0\" class=\"data row7 col0\" >Gradient Boosting Classifier</td>\n",
       "      <td id=\"T_e31af_row7_col1\" class=\"data row7 col1\" >0.8126</td>\n",
       "      <td id=\"T_e31af_row7_col2\" class=\"data row7 col2\" >0.9517</td>\n",
       "      <td id=\"T_e31af_row7_col3\" class=\"data row7 col3\" >0.8152</td>\n",
       "      <td id=\"T_e31af_row7_col4\" class=\"data row7 col4\" >0.8140</td>\n",
       "      <td id=\"T_e31af_row7_col5\" class=\"data row7 col5\" >0.8129</td>\n",
       "      <td id=\"T_e31af_row7_col6\" class=\"data row7 col6\" >0.7454</td>\n",
       "      <td id=\"T_e31af_row7_col7\" class=\"data row7 col7\" >0.7456</td>\n",
       "      <td id=\"T_e31af_row7_col8\" class=\"data row7 col8\" >171.1567</td>\n",
       "    </tr>\n",
       "    <tr>\n",
       "      <th id=\"T_e31af_level0_row8\" class=\"row_heading level0 row8\" >knn</th>\n",
       "      <td id=\"T_e31af_row8_col0\" class=\"data row8 col0\" >K Neighbors Classifier</td>\n",
       "      <td id=\"T_e31af_row8_col1\" class=\"data row8 col1\" >0.8090</td>\n",
       "      <td id=\"T_e31af_row8_col2\" class=\"data row8 col2\" >0.9380</td>\n",
       "      <td id=\"T_e31af_row8_col3\" class=\"data row8 col3\" >0.8117</td>\n",
       "      <td id=\"T_e31af_row8_col4\" class=\"data row8 col4\" >0.8147</td>\n",
       "      <td id=\"T_e31af_row8_col5\" class=\"data row8 col5\" >0.8087</td>\n",
       "      <td id=\"T_e31af_row8_col6\" class=\"data row8 col6\" >0.7405</td>\n",
       "      <td id=\"T_e31af_row8_col7\" class=\"data row8 col7\" >0.7428</td>\n",
       "      <td id=\"T_e31af_row8_col8\" class=\"data row8 col8\" >4.5067</td>\n",
       "    </tr>\n",
       "    <tr>\n",
       "      <th id=\"T_e31af_level0_row9\" class=\"row_heading level0 row9\" >rf</th>\n",
       "      <td id=\"T_e31af_row9_col0\" class=\"data row9 col0\" >Random Forest Classifier</td>\n",
       "      <td id=\"T_e31af_row9_col1\" class=\"data row9 col1\" >0.8033</td>\n",
       "      <td id=\"T_e31af_row9_col2\" class=\"data row9 col2\" >0.9466</td>\n",
       "      <td id=\"T_e31af_row9_col3\" class=\"data row9 col3\" >0.8003</td>\n",
       "      <td id=\"T_e31af_row9_col4\" class=\"data row9 col4\" >0.8084</td>\n",
       "      <td id=\"T_e31af_row9_col5\" class=\"data row9 col5\" >0.8036</td>\n",
       "      <td id=\"T_e31af_row9_col6\" class=\"data row9 col6\" >0.7318</td>\n",
       "      <td id=\"T_e31af_row9_col7\" class=\"data row9 col7\" >0.7330</td>\n",
       "      <td id=\"T_e31af_row9_col8\" class=\"data row9 col8\" >2.6333</td>\n",
       "    </tr>\n",
       "    <tr>\n",
       "      <th id=\"T_e31af_level0_row10\" class=\"row_heading level0 row10\" >et</th>\n",
       "      <td id=\"T_e31af_row10_col0\" class=\"data row10 col0\" >Extra Trees Classifier</td>\n",
       "      <td id=\"T_e31af_row10_col1\" class=\"data row10 col1\" >0.8024</td>\n",
       "      <td id=\"T_e31af_row10_col2\" class=\"data row10 col2\" >0.9472</td>\n",
       "      <td id=\"T_e31af_row10_col3\" class=\"data row10 col3\" >0.7982</td>\n",
       "      <td id=\"T_e31af_row10_col4\" class=\"data row10 col4\" >0.8078</td>\n",
       "      <td id=\"T_e31af_row10_col5\" class=\"data row10 col5\" >0.8026</td>\n",
       "      <td id=\"T_e31af_row10_col6\" class=\"data row10 col6\" >0.7304</td>\n",
       "      <td id=\"T_e31af_row10_col7\" class=\"data row10 col7\" >0.7316</td>\n",
       "      <td id=\"T_e31af_row10_col8\" class=\"data row10 col8\" >0.8533</td>\n",
       "    </tr>\n",
       "    <tr>\n",
       "      <th id=\"T_e31af_level0_row11\" class=\"row_heading level0 row11\" >qda</th>\n",
       "      <td id=\"T_e31af_row11_col0\" class=\"data row11 col0\" >Quadratic Discriminant Analysis</td>\n",
       "      <td id=\"T_e31af_row11_col1\" class=\"data row11 col1\" >0.7880</td>\n",
       "      <td id=\"T_e31af_row11_col2\" class=\"data row11 col2\" >0.9309</td>\n",
       "      <td id=\"T_e31af_row11_col3\" class=\"data row11 col3\" >0.7930</td>\n",
       "      <td id=\"T_e31af_row11_col4\" class=\"data row11 col4\" >0.7906</td>\n",
       "      <td id=\"T_e31af_row11_col5\" class=\"data row11 col5\" >0.7885</td>\n",
       "      <td id=\"T_e31af_row11_col6\" class=\"data row11 col6\" >0.7117</td>\n",
       "      <td id=\"T_e31af_row11_col7\" class=\"data row11 col7\" >0.7123</td>\n",
       "      <td id=\"T_e31af_row11_col8\" class=\"data row11 col8\" >0.4300</td>\n",
       "    </tr>\n",
       "    <tr>\n",
       "      <th id=\"T_e31af_level0_row12\" class=\"row_heading level0 row12\" >ada</th>\n",
       "      <td id=\"T_e31af_row12_col0\" class=\"data row12 col0\" >Ada Boost Classifier</td>\n",
       "      <td id=\"T_e31af_row12_col1\" class=\"data row12 col1\" >0.7332</td>\n",
       "      <td id=\"T_e31af_row12_col2\" class=\"data row12 col2\" >0.8955</td>\n",
       "      <td id=\"T_e31af_row12_col3\" class=\"data row12 col3\" >0.7448</td>\n",
       "      <td id=\"T_e31af_row12_col4\" class=\"data row12 col4\" >0.7330</td>\n",
       "      <td id=\"T_e31af_row12_col5\" class=\"data row12 col5\" >0.7310</td>\n",
       "      <td id=\"T_e31af_row12_col6\" class=\"data row12 col6\" >0.6396</td>\n",
       "      <td id=\"T_e31af_row12_col7\" class=\"data row12 col7\" >0.6410</td>\n",
       "      <td id=\"T_e31af_row12_col8\" class=\"data row12 col8\" >9.2467</td>\n",
       "    </tr>\n",
       "    <tr>\n",
       "      <th id=\"T_e31af_level0_row13\" class=\"row_heading level0 row13\" >nb</th>\n",
       "      <td id=\"T_e31af_row13_col0\" class=\"data row13 col0\" >Naive Bayes</td>\n",
       "      <td id=\"T_e31af_row13_col1\" class=\"data row13 col1\" >0.7304</td>\n",
       "      <td id=\"T_e31af_row13_col2\" class=\"data row13 col2\" >0.9002</td>\n",
       "      <td id=\"T_e31af_row13_col3\" class=\"data row13 col3\" >0.7383</td>\n",
       "      <td id=\"T_e31af_row13_col4\" class=\"data row13 col4\" >0.7332</td>\n",
       "      <td id=\"T_e31af_row13_col5\" class=\"data row13 col5\" >0.7303</td>\n",
       "      <td id=\"T_e31af_row13_col6\" class=\"data row13 col6\" >0.6340</td>\n",
       "      <td id=\"T_e31af_row13_col7\" class=\"data row13 col7\" >0.6352</td>\n",
       "      <td id=\"T_e31af_row13_col8\" class=\"data row13 col8\" >1.4467</td>\n",
       "    </tr>\n",
       "    <tr>\n",
       "      <th id=\"T_e31af_level0_row14\" class=\"row_heading level0 row14\" >dt</th>\n",
       "      <td id=\"T_e31af_row14_col0\" class=\"data row14 col0\" >Decision Tree Classifier</td>\n",
       "      <td id=\"T_e31af_row14_col1\" class=\"data row14 col1\" >0.6623</td>\n",
       "      <td id=\"T_e31af_row14_col2\" class=\"data row14 col2\" >0.7686</td>\n",
       "      <td id=\"T_e31af_row14_col3\" class=\"data row14 col3\" >0.6667</td>\n",
       "      <td id=\"T_e31af_row14_col4\" class=\"data row14 col4\" >0.6625</td>\n",
       "      <td id=\"T_e31af_row14_col5\" class=\"data row14 col5\" >0.6623</td>\n",
       "      <td id=\"T_e31af_row14_col6\" class=\"data row14 col6\" >0.5421</td>\n",
       "      <td id=\"T_e31af_row14_col7\" class=\"data row14 col7\" >0.5422</td>\n",
       "      <td id=\"T_e31af_row14_col8\" class=\"data row14 col8\" >3.8933</td>\n",
       "    </tr>\n",
       "  </tbody>\n",
       "</table>\n"
      ],
      "text/plain": [
       "<pandas.io.formats.style.Styler at 0x1976e334100>"
      ]
     },
     "metadata": {},
     "output_type": "display_data"
    }
   ],
   "source": [
    "best_model = compare_models()"
   ]
  },
  {
   "cell_type": "markdown",
   "id": "852b473b",
   "metadata": {
    "id": "852b473b"
   },
   "source": [
    "La métrica a la que se le prestará atención es al **AUC, one vs Rest** tal como se vio en los ejercicios de ejemplo. Algo que se observa es que si bien SVM funciono relativamente bien para Accuracy no se observan valores para AUC. Esto se debe a que pycaret no soporta la funcion predict_proba para SVM tal como se menciona en https://pycaret.readthedocs.io/en/stable/api/classification.html\n",
    ".Por tal motivo se realizará una nueva notebook **3_clasificador_SVM.ipynb** a fin de generar específicamente este modelo\n"
   ]
  },
  {
   "cell_type": "markdown",
   "id": "6ddbbdbb",
   "metadata": {
    "id": "6ddbbdbb"
   },
   "source": [
    "# Performance de los mejores en Test"
   ]
  },
  {
   "cell_type": "markdown",
   "id": "8c5c240b",
   "metadata": {
    "id": "8c5c240b"
   },
   "source": [
    "En esta sección se eligen los mejores modelos y se los prueba en el dataset Test a fin de decidir cual es el mejor en datos que nunca uso para el entrenamiento.\n"
   ]
  },
  {
   "cell_type": "code",
   "execution_count": null,
   "id": "ab3637b1",
   "metadata": {
    "id": "ab3637b1",
    "outputId": "7e7ae13e-1d47-400d-8095-fb0d418a71ae"
   },
   "outputs": [
    {
     "data": {
      "text/html": [
       "<style type=\"text/css\">\n",
       "#T_dc599_row3_col0, #T_dc599_row3_col1, #T_dc599_row3_col2, #T_dc599_row3_col3, #T_dc599_row3_col4, #T_dc599_row3_col5, #T_dc599_row3_col6 {\n",
       "  background: yellow;\n",
       "}\n",
       "</style>\n",
       "<table id=\"T_dc599\">\n",
       "  <thead>\n",
       "    <tr>\n",
       "      <th class=\"blank level0\" >&nbsp;</th>\n",
       "      <th id=\"T_dc599_level0_col0\" class=\"col_heading level0 col0\" >Accuracy</th>\n",
       "      <th id=\"T_dc599_level0_col1\" class=\"col_heading level0 col1\" >AUC</th>\n",
       "      <th id=\"T_dc599_level0_col2\" class=\"col_heading level0 col2\" >Recall</th>\n",
       "      <th id=\"T_dc599_level0_col3\" class=\"col_heading level0 col3\" >Prec.</th>\n",
       "      <th id=\"T_dc599_level0_col4\" class=\"col_heading level0 col4\" >F1</th>\n",
       "      <th id=\"T_dc599_level0_col5\" class=\"col_heading level0 col5\" >Kappa</th>\n",
       "      <th id=\"T_dc599_level0_col6\" class=\"col_heading level0 col6\" >MCC</th>\n",
       "    </tr>\n",
       "  </thead>\n",
       "  <tbody>\n",
       "    <tr>\n",
       "      <th id=\"T_dc599_level0_row0\" class=\"row_heading level0 row0\" >0</th>\n",
       "      <td id=\"T_dc599_row0_col0\" class=\"data row0 col0\" >0.8298</td>\n",
       "      <td id=\"T_dc599_row0_col1\" class=\"data row0 col1\" >0.9610</td>\n",
       "      <td id=\"T_dc599_row0_col2\" class=\"data row0 col2\" >0.8316</td>\n",
       "      <td id=\"T_dc599_row0_col3\" class=\"data row0 col3\" >0.8311</td>\n",
       "      <td id=\"T_dc599_row0_col4\" class=\"data row0 col4\" >0.8301</td>\n",
       "      <td id=\"T_dc599_row0_col5\" class=\"data row0 col5\" >0.7688</td>\n",
       "      <td id=\"T_dc599_row0_col6\" class=\"data row0 col6\" >0.7691</td>\n",
       "    </tr>\n",
       "    <tr>\n",
       "      <th id=\"T_dc599_level0_row1\" class=\"row_heading level0 row1\" >1</th>\n",
       "      <td id=\"T_dc599_row1_col0\" class=\"data row1 col0\" >0.8290</td>\n",
       "      <td id=\"T_dc599_row1_col1\" class=\"data row1 col1\" >0.9591</td>\n",
       "      <td id=\"T_dc599_row1_col2\" class=\"data row1 col2\" >0.8309</td>\n",
       "      <td id=\"T_dc599_row1_col3\" class=\"data row1 col3\" >0.8309</td>\n",
       "      <td id=\"T_dc599_row1_col4\" class=\"data row1 col4\" >0.8295</td>\n",
       "      <td id=\"T_dc599_row1_col5\" class=\"data row1 col5\" >0.7682</td>\n",
       "      <td id=\"T_dc599_row1_col6\" class=\"data row1 col6\" >0.7685</td>\n",
       "    </tr>\n",
       "    <tr>\n",
       "      <th id=\"T_dc599_level0_row2\" class=\"row_heading level0 row2\" >2</th>\n",
       "      <td id=\"T_dc599_row2_col0\" class=\"data row2 col0\" >0.8308</td>\n",
       "      <td id=\"T_dc599_row2_col1\" class=\"data row2 col1\" >0.9603</td>\n",
       "      <td id=\"T_dc599_row2_col2\" class=\"data row2 col2\" >0.8323</td>\n",
       "      <td id=\"T_dc599_row2_col3\" class=\"data row2 col3\" >0.8319</td>\n",
       "      <td id=\"T_dc599_row2_col4\" class=\"data row2 col4\" >0.8309</td>\n",
       "      <td id=\"T_dc599_row2_col5\" class=\"data row2 col5\" >0.7695</td>\n",
       "      <td id=\"T_dc599_row2_col6\" class=\"data row2 col6\" >0.7697</td>\n",
       "    </tr>\n",
       "    <tr>\n",
       "      <th id=\"T_dc599_level0_row3\" class=\"row_heading level0 row3\" >Mean</th>\n",
       "      <td id=\"T_dc599_row3_col0\" class=\"data row3 col0\" >0.8299</td>\n",
       "      <td id=\"T_dc599_row3_col1\" class=\"data row3 col1\" >0.9601</td>\n",
       "      <td id=\"T_dc599_row3_col2\" class=\"data row3 col2\" >0.8316</td>\n",
       "      <td id=\"T_dc599_row3_col3\" class=\"data row3 col3\" >0.8313</td>\n",
       "      <td id=\"T_dc599_row3_col4\" class=\"data row3 col4\" >0.8302</td>\n",
       "      <td id=\"T_dc599_row3_col5\" class=\"data row3 col5\" >0.7688</td>\n",
       "      <td id=\"T_dc599_row3_col6\" class=\"data row3 col6\" >0.7691</td>\n",
       "    </tr>\n",
       "    <tr>\n",
       "      <th id=\"T_dc599_level0_row4\" class=\"row_heading level0 row4\" >SD</th>\n",
       "      <td id=\"T_dc599_row4_col0\" class=\"data row4 col0\" >0.0007</td>\n",
       "      <td id=\"T_dc599_row4_col1\" class=\"data row4 col1\" >0.0008</td>\n",
       "      <td id=\"T_dc599_row4_col2\" class=\"data row4 col2\" >0.0006</td>\n",
       "      <td id=\"T_dc599_row4_col3\" class=\"data row4 col3\" >0.0004</td>\n",
       "      <td id=\"T_dc599_row4_col4\" class=\"data row4 col4\" >0.0006</td>\n",
       "      <td id=\"T_dc599_row4_col5\" class=\"data row4 col5\" >0.0005</td>\n",
       "      <td id=\"T_dc599_row4_col6\" class=\"data row4 col6\" >0.0005</td>\n",
       "    </tr>\n",
       "  </tbody>\n",
       "</table>\n"
      ],
      "text/plain": [
       "<pandas.io.formats.style.Styler at 0x20aa3b47d30>"
      ]
     },
     "metadata": {},
     "output_type": "display_data"
    }
   ],
   "source": [
    "model_cb = create_model('catboost')\n",
    "model_lgb = create_model('lightgbm')\n",
    "model_lr = create_model('lr')"
   ]
  },
  {
   "cell_type": "markdown",
   "id": "ae0fe026",
   "metadata": {
    "id": "ae0fe026"
   },
   "source": [
    "## Performance CatBoost  - Test set"
   ]
  },
  {
   "cell_type": "code",
   "execution_count": null,
   "id": "07f1dc5c",
   "metadata": {
    "id": "07f1dc5c",
    "outputId": "5b93f1a7-cdb7-4f4d-a2bf-4fcc81f83917"
   },
   "outputs": [
    {
     "name": "stdout",
     "output_type": "stream",
     "text": [
      "economia AUC: 0.929512217123141\n",
      "sociedad AUC: 0.8949851482612953\n",
      "el-pais AUC: 0.8778401787469566\n",
      "el-mundo AUC: 0.9144095857367854\n",
      "AUC ovr: 0.9041867824670445\n"
     ]
    }
   ],
   "source": [
    "pred_cb = predict_model(model_cb, data=test_date_norm)\n",
    "\n",
    "secciones=['economia','sociedad','el-pais','el-mundo']\n",
    "auc_list=[]\n",
    "\n",
    "for inx,seccion in enumerate(secciones):\n",
    "    auc_list.append(roc_auc_score((pred_cb['label']==seccion).astype(int),(pred_cb['Label']==seccion).astype(int)))\n",
    "    print(seccion+\" AUC: \"+ str(auc_list[inx]))\n",
    "print(\"AUC ovr: \"+str(sum(auc_list)/4))"
   ]
  },
  {
   "cell_type": "markdown",
   "id": "7088ae53",
   "metadata": {
    "id": "7088ae53"
   },
   "source": [
    "## Performance Light Gradient Boosting Machine  -  Test set"
   ]
  },
  {
   "cell_type": "code",
   "execution_count": null,
   "id": "08a9f9f0",
   "metadata": {
    "id": "08a9f9f0",
    "outputId": "20edb779-245d-4dee-d1ad-0f991c1d1b41"
   },
   "outputs": [
    {
     "name": "stdout",
     "output_type": "stream",
     "text": [
      "economia AUC: 0.9230932943948944\n",
      "sociedad AUC: 0.8914272207540681\n",
      "el-pais AUC: 0.8685014567927372\n",
      "el-mundo AUC: 0.9050333009900804\n",
      "AUC ovr: 0.897013818232945\n"
     ]
    }
   ],
   "source": [
    "pred_lgb = predict_model(model_lgb, data=test_date_norm)\n",
    "\n",
    "secciones=['economia','sociedad','el-pais','el-mundo']\n",
    "auc_list=[]\n",
    "\n",
    "for inx,seccion in enumerate(secciones):\n",
    "    auc_list.append(roc_auc_score((pred_lgb['label']==seccion).astype(int),(pred_lgb['Label']==seccion).astype(int)))\n",
    "    print(seccion+\" AUC: \"+ str(auc_list[inx]))\n",
    "print(\"AUC ovr: \"+str(sum(auc_list)/4))"
   ]
  },
  {
   "cell_type": "markdown",
   "id": "b9b7fa35",
   "metadata": {
    "id": "b9b7fa35"
   },
   "source": [
    "## Performance Logistic Regression  -  Test set"
   ]
  },
  {
   "cell_type": "code",
   "execution_count": null,
   "id": "eae1eebd",
   "metadata": {
    "id": "eae1eebd",
    "outputId": "fd34899a-ba9d-4690-eacd-14244ff3e9d3"
   },
   "outputs": [
    {
     "name": "stdout",
     "output_type": "stream",
     "text": [
      "economia AUC: 0.9206619910471658\n",
      "sociedad AUC: 0.8873243424403425\n",
      "el-pais AUC: 0.8717493106698726\n",
      "el-mundo AUC: 0.9163724876286613\n",
      "AUC ovr: 0.8990270329465105\n"
     ]
    }
   ],
   "source": [
    "pred_lr = predict_model(model_lr, data=test_date_norm)\n",
    "\n",
    "secciones=['economia','sociedad','el-pais','el-mundo']\n",
    "auc_list=[]\n",
    "\n",
    "for inx,seccion in enumerate(secciones):\n",
    "    auc_list.append(roc_auc_score((pred_lr['label']==seccion).astype(int),(pred_lr['Label']==seccion).astype(int)))\n",
    "    print(seccion+\" AUC: \"+ str(auc_list[inx]))\n",
    "print(\"AUC ovr: \"+str(sum(auc_list)/4))\n"
   ]
  },
  {
   "cell_type": "code",
   "execution_count": null,
   "id": "6e5a377e",
   "metadata": {
    "id": "6e5a377e",
    "outputId": "006b1657-264b-445f-be51-e682260d11ba"
   },
   "outputs": [
    {
     "name": "stdout",
     "output_type": "stream",
     "text": [
      "<catboost.core.CatBoostClassifier object at 0x0000019707E27EE0>\n"
     ]
    }
   ],
   "source": [
    "print(model_cb)"
   ]
  },
  {
   "cell_type": "markdown",
   "id": "92452f67",
   "metadata": {
    "id": "92452f67"
   },
   "source": [
    "# Entrenamiento final del modelo\n",
    "Aqui se lo entrena con todo el dataset de trian (train + validacion) y se deja el test para evaluacion"
   ]
  },
  {
   "cell_type": "markdown",
   "id": "1cd7a573",
   "metadata": {
    "id": "1cd7a573"
   },
   "source": [
    "Se realiza una optimizacion de hiperparametros mediante grid search"
   ]
  },
  {
   "cell_type": "markdown",
   "id": "fc70514d",
   "metadata": {
    "id": "fc70514d"
   },
   "source": [
    "### Tunned LR"
   ]
  },
  {
   "cell_type": "code",
   "execution_count": null,
   "id": "6b3582b7",
   "metadata": {
    "id": "6b3582b7",
    "outputId": "b03d7b29-caec-4d51-d50a-9cd78d624dae"
   },
   "outputs": [
    {
     "data": {
      "text/html": [
       "<style type=\"text/css\">\n",
       "#T_f4ceb_row3_col0, #T_f4ceb_row3_col1, #T_f4ceb_row3_col2, #T_f4ceb_row3_col3, #T_f4ceb_row3_col4, #T_f4ceb_row3_col5, #T_f4ceb_row3_col6 {\n",
       "  background: yellow;\n",
       "}\n",
       "</style>\n",
       "<table id=\"T_f4ceb\">\n",
       "  <thead>\n",
       "    <tr>\n",
       "      <th class=\"blank level0\" >&nbsp;</th>\n",
       "      <th id=\"T_f4ceb_level0_col0\" class=\"col_heading level0 col0\" >Accuracy</th>\n",
       "      <th id=\"T_f4ceb_level0_col1\" class=\"col_heading level0 col1\" >AUC</th>\n",
       "      <th id=\"T_f4ceb_level0_col2\" class=\"col_heading level0 col2\" >Recall</th>\n",
       "      <th id=\"T_f4ceb_level0_col3\" class=\"col_heading level0 col3\" >Prec.</th>\n",
       "      <th id=\"T_f4ceb_level0_col4\" class=\"col_heading level0 col4\" >F1</th>\n",
       "      <th id=\"T_f4ceb_level0_col5\" class=\"col_heading level0 col5\" >Kappa</th>\n",
       "      <th id=\"T_f4ceb_level0_col6\" class=\"col_heading level0 col6\" >MCC</th>\n",
       "    </tr>\n",
       "  </thead>\n",
       "  <tbody>\n",
       "    <tr>\n",
       "      <th id=\"T_f4ceb_level0_row0\" class=\"row_heading level0 row0\" >0</th>\n",
       "      <td id=\"T_f4ceb_row0_col0\" class=\"data row0 col0\" >0.8363</td>\n",
       "      <td id=\"T_f4ceb_row0_col1\" class=\"data row0 col1\" >0.9607</td>\n",
       "      <td id=\"T_f4ceb_row0_col2\" class=\"data row0 col2\" >0.8415</td>\n",
       "      <td id=\"T_f4ceb_row0_col3\" class=\"data row0 col3\" >0.8365</td>\n",
       "      <td id=\"T_f4ceb_row0_col4\" class=\"data row0 col4\" >0.8364</td>\n",
       "      <td id=\"T_f4ceb_row0_col5\" class=\"data row0 col5\" >0.7780</td>\n",
       "      <td id=\"T_f4ceb_row0_col6\" class=\"data row0 col6\" >0.7780</td>\n",
       "    </tr>\n",
       "    <tr>\n",
       "      <th id=\"T_f4ceb_level0_row1\" class=\"row_heading level0 row1\" >1</th>\n",
       "      <td id=\"T_f4ceb_row1_col0\" class=\"data row1 col0\" >0.8275</td>\n",
       "      <td id=\"T_f4ceb_row1_col1\" class=\"data row1 col1\" >0.9583</td>\n",
       "      <td id=\"T_f4ceb_row1_col2\" class=\"data row1 col2\" >0.8328</td>\n",
       "      <td id=\"T_f4ceb_row1_col3\" class=\"data row1 col3\" >0.8282</td>\n",
       "      <td id=\"T_f4ceb_row1_col4\" class=\"data row1 col4\" >0.8277</td>\n",
       "      <td id=\"T_f4ceb_row1_col5\" class=\"data row1 col5\" >0.7665</td>\n",
       "      <td id=\"T_f4ceb_row1_col6\" class=\"data row1 col6\" >0.7666</td>\n",
       "    </tr>\n",
       "    <tr>\n",
       "      <th id=\"T_f4ceb_level0_row2\" class=\"row_heading level0 row2\" >2</th>\n",
       "      <td id=\"T_f4ceb_row2_col0\" class=\"data row2 col0\" >0.8294</td>\n",
       "      <td id=\"T_f4ceb_row2_col1\" class=\"data row2 col1\" >0.9580</td>\n",
       "      <td id=\"T_f4ceb_row2_col2\" class=\"data row2 col2\" >0.8339</td>\n",
       "      <td id=\"T_f4ceb_row2_col3\" class=\"data row2 col3\" >0.8299</td>\n",
       "      <td id=\"T_f4ceb_row2_col4\" class=\"data row2 col4\" >0.8296</td>\n",
       "      <td id=\"T_f4ceb_row2_col5\" class=\"data row2 col5\" >0.7678</td>\n",
       "      <td id=\"T_f4ceb_row2_col6\" class=\"data row2 col6\" >0.7679</td>\n",
       "    </tr>\n",
       "    <tr>\n",
       "      <th id=\"T_f4ceb_level0_row3\" class=\"row_heading level0 row3\" >Mean</th>\n",
       "      <td id=\"T_f4ceb_row3_col0\" class=\"data row3 col0\" >0.8310</td>\n",
       "      <td id=\"T_f4ceb_row3_col1\" class=\"data row3 col1\" >0.9590</td>\n",
       "      <td id=\"T_f4ceb_row3_col2\" class=\"data row3 col2\" >0.8361</td>\n",
       "      <td id=\"T_f4ceb_row3_col3\" class=\"data row3 col3\" >0.8316</td>\n",
       "      <td id=\"T_f4ceb_row3_col4\" class=\"data row3 col4\" >0.8312</td>\n",
       "      <td id=\"T_f4ceb_row3_col5\" class=\"data row3 col5\" >0.7708</td>\n",
       "      <td id=\"T_f4ceb_row3_col6\" class=\"data row3 col6\" >0.7708</td>\n",
       "    </tr>\n",
       "    <tr>\n",
       "      <th id=\"T_f4ceb_level0_row4\" class=\"row_heading level0 row4\" >SD</th>\n",
       "      <td id=\"T_f4ceb_row4_col0\" class=\"data row4 col0\" >0.0038</td>\n",
       "      <td id=\"T_f4ceb_row4_col1\" class=\"data row4 col1\" >0.0012</td>\n",
       "      <td id=\"T_f4ceb_row4_col2\" class=\"data row4 col2\" >0.0039</td>\n",
       "      <td id=\"T_f4ceb_row4_col3\" class=\"data row4 col3\" >0.0036</td>\n",
       "      <td id=\"T_f4ceb_row4_col4\" class=\"data row4 col4\" >0.0037</td>\n",
       "      <td id=\"T_f4ceb_row4_col5\" class=\"data row4 col5\" >0.0051</td>\n",
       "      <td id=\"T_f4ceb_row4_col6\" class=\"data row4 col6\" >0.0051</td>\n",
       "    </tr>\n",
       "  </tbody>\n",
       "</table>\n"
      ],
      "text/plain": [
       "<pandas.io.formats.style.Styler at 0x19e0554e500>"
      ]
     },
     "metadata": {},
     "output_type": "display_data"
    }
   ],
   "source": [
    "# tuned_lgb = tune_model(model_lgb,custom_grid = {'num_leaves' : np.arange(20,50,1)})\n",
    "model_lr = create_model('lr')\n",
    "tuned_lr = tune_model(model_lr)"
   ]
  },
  {
   "cell_type": "code",
   "execution_count": null,
   "id": "673c8b49",
   "metadata": {
    "id": "673c8b49",
    "outputId": "a8985346-ea27-4c88-8af4-0c6c58a33e5d"
   },
   "outputs": [
    {
     "name": "stdout",
     "output_type": "stream",
     "text": [
      "economia AUC: 0.9228070348529097\n",
      "sociedad AUC: 0.8854477138311568\n",
      "el-pais AUC: 0.8817660209395053\n",
      "el-mundo AUC: 0.924080212452336\n",
      "AUC ovr: 0.9035252455189768\n"
     ]
    }
   ],
   "source": [
    "final_lr = finalize_model(tuned_lr)\n",
    "pred_lr = predict_model(final_lr, data=test_date_norm)\n",
    "\n",
    "secciones=['economia','sociedad','el-pais','el-mundo']\n",
    "auc_list=[]\n",
    "\n",
    "for inx,seccion in enumerate(secciones):\n",
    "    auc_list.append(roc_auc_score((pred_lr['label']==seccion).astype(int),(pred_lr['Label']==seccion).astype(int)))\n",
    "    print(seccion+\" AUC: \"+ str(auc_list[inx]))\n",
    "print(\"AUC ovr: \"+str(sum(auc_list)/4))"
   ]
  },
  {
   "cell_type": "markdown",
   "id": "44666f42",
   "metadata": {
    "id": "44666f42"
   },
   "source": [
    "# Evaluación final del modelo"
   ]
  },
  {
   "cell_type": "code",
   "execution_count": null,
   "id": "9c61b7f8",
   "metadata": {
    "id": "9c61b7f8"
   },
   "outputs": [],
   "source": [
    "from sklearn.metrics import confusion_matrix\n",
    "import seaborn as sns"
   ]
  },
  {
   "cell_type": "code",
   "execution_count": null,
   "id": "a2e0815e",
   "metadata": {
    "id": "a2e0815e"
   },
   "outputs": [],
   "source": [
    "confusion = confusion_matrix(pred_lr['label'], pred_lr['Label'])"
   ]
  },
  {
   "cell_type": "code",
   "execution_count": null,
   "id": "ad9e5c90",
   "metadata": {
    "id": "ad9e5c90",
    "outputId": "f71a9f2d-76cf-46d0-c1bb-8a0d84527e7c"
   },
   "outputs": [
    {
     "data": {
      "text/plain": [
       "el-pais     2136\n",
       "sociedad    2097\n",
       "economia    1354\n",
       "el-mundo    1007\n",
       "Name: label, dtype: int64"
      ]
     },
     "execution_count": 55,
     "metadata": {},
     "output_type": "execute_result"
    }
   ],
   "source": [
    "# Cantidad de registros por clase real\n",
    "pred_lr['label'].value_counts()"
   ]
  },
  {
   "cell_type": "code",
   "execution_count": null,
   "id": "2570af66",
   "metadata": {
    "id": "2570af66",
    "outputId": "ef477e2b-f41f-4d7d-da03-4583076e3c86"
   },
   "outputs": [
    {
     "data": {
      "text/plain": [
       "el-pais     2085\n",
       "sociedad    2033\n",
       "economia    1413\n",
       "el-mundo    1063\n",
       "Name: Label, dtype: int64"
      ]
     },
     "execution_count": 56,
     "metadata": {},
     "output_type": "execute_result"
    }
   ],
   "source": [
    "# Cantidad de registros por clase predicha\n",
    "pred_lr['Label'].value_counts()"
   ]
  },
  {
   "cell_type": "code",
   "execution_count": null,
   "id": "59c924b5",
   "metadata": {
    "id": "59c924b5",
    "outputId": "e5cd6e8d-3dcc-4e48-8f62-caca21876808"
   },
   "outputs": [
    {
     "data": {
      "text/plain": [
       "<AxesSubplot:>"
      ]
     },
     "execution_count": 57,
     "metadata": {},
     "output_type": "execute_result"
    },
    {
     "data": {
      "image/png": "[encoded data removed]",
      "text/plain": [
       "<Figure size 640x480 with 2 Axes>"
      ]
     },
     "metadata": {},
     "output_type": "display_data"
    }
   ],
   "source": [
    "cm_matrix = pd.DataFrame(data=confusion, columns=['Pred economia', 'Pred el-mundo','Pred el-pais','Pred sociedad'], \n",
    "                                 index=['Real economia', 'Real el-mundo','Real el-pais','Real sociedad'])\n",
    "sns.heatmap(cm_matrix, annot=True, fmt=\"d\", cmap='YlGnBu')"
   ]
  },
  {
   "cell_type": "code",
   "execution_count": null,
   "id": "d4ceeaaf",
   "metadata": {
    "id": "d4ceeaaf"
   },
   "outputs": [],
   "source": [
    "## Matriz de confusion normalizada con valores predichos (precisión)"
   ]
  },
  {
   "cell_type": "code",
   "execution_count": null,
   "id": "37dbe4b4",
   "metadata": {
    "id": "37dbe4b4",
    "outputId": "a00c4603-8df6-43b4-b1e7-3efb16f1766c"
   },
   "outputs": [
    {
     "name": "stdout",
     "output_type": "stream",
     "text": [
      "\n",
      "Classification Report\n",
      "\n",
      "              precision    recall  f1-score   support\n",
      "\n",
      "    economia       0.85      0.89      0.87      1354\n",
      "    el-mundo       0.83      0.88      0.86      1007\n",
      "     el-pais       0.85      0.83      0.84      2136\n",
      "    sociedad       0.86      0.83      0.85      2097\n",
      "\n",
      "    accuracy                           0.85      6594\n",
      "   macro avg       0.85      0.86      0.85      6594\n",
      "weighted avg       0.85      0.85      0.85      6594\n",
      "\n"
     ]
    }
   ],
   "source": [
    "from sklearn.metrics import classification_report\n",
    "print('\\nClassification Report\\n')\n",
    "print(classification_report(pred_lr['label'], pred_lr['Label'], target_names=['economia', 'el-mundo', 'el-pais','sociedad']))\n",
    "# pred_lr['label'].value_counts() #Sirve para chequear las clases"
   ]
  },
  {
   "cell_type": "markdown",
   "id": "4104e17c",
   "metadata": {
    "id": "4104e17c"
   },
   "source": [
    "# Evaluacion con dataset mezclado"
   ]
  },
  {
   "cell_type": "code",
   "execution_count": null,
   "id": "ffb825b1",
   "metadata": {
    "id": "ffb825b1",
    "outputId": "48bdf0dd-3ecd-40cc-d886-8326f4a60e7c"
   },
   "outputs": [
    {
     "data": {
      "text/html": [
       "<style type=\"text/css\">\n",
       "</style>\n",
       "<table id=\"T_f30eb\">\n",
       "  <thead>\n",
       "    <tr>\n",
       "      <th class=\"blank level0\" >&nbsp;</th>\n",
       "      <th id=\"T_f30eb_level0_col0\" class=\"col_heading level0 col0\" >Description</th>\n",
       "      <th id=\"T_f30eb_level0_col1\" class=\"col_heading level0 col1\" >Value</th>\n",
       "    </tr>\n",
       "  </thead>\n",
       "  <tbody>\n",
       "    <tr>\n",
       "      <th id=\"T_f30eb_level0_row0\" class=\"row_heading level0 row0\" >0</th>\n",
       "      <td id=\"T_f30eb_row0_col0\" class=\"data row0 col0\" >session_id</td>\n",
       "      <td id=\"T_f30eb_row0_col1\" class=\"data row0 col1\" >1001</td>\n",
       "    </tr>\n",
       "    <tr>\n",
       "      <th id=\"T_f30eb_level0_row1\" class=\"row_heading level0 row1\" >1</th>\n",
       "      <td id=\"T_f30eb_row1_col0\" class=\"data row1 col0\" >Target</td>\n",
       "      <td id=\"T_f30eb_row1_col1\" class=\"data row1 col1\" >label</td>\n",
       "    </tr>\n",
       "    <tr>\n",
       "      <th id=\"T_f30eb_level0_row2\" class=\"row_heading level0 row2\" >2</th>\n",
       "      <td id=\"T_f30eb_row2_col0\" class=\"data row2 col0\" >Target Type</td>\n",
       "      <td id=\"T_f30eb_row2_col1\" class=\"data row2 col1\" >Multiclass</td>\n",
       "    </tr>\n",
       "    <tr>\n",
       "      <th id=\"T_f30eb_level0_row3\" class=\"row_heading level0 row3\" >3</th>\n",
       "      <td id=\"T_f30eb_row3_col0\" class=\"data row3 col0\" >Label Encoded</td>\n",
       "      <td id=\"T_f30eb_row3_col1\" class=\"data row3 col1\" >economia: 0, el-mundo: 1, el-pais: 2, sociedad: 3</td>\n",
       "    </tr>\n",
       "    <tr>\n",
       "      <th id=\"T_f30eb_level0_row4\" class=\"row_heading level0 row4\" >4</th>\n",
       "      <td id=\"T_f30eb_row4_col0\" class=\"data row4 col0\" >Original Data</td>\n",
       "      <td id=\"T_f30eb_row4_col1\" class=\"data row4 col1\" >(27327, 301)</td>\n",
       "    </tr>\n",
       "    <tr>\n",
       "      <th id=\"T_f30eb_level0_row5\" class=\"row_heading level0 row5\" >5</th>\n",
       "      <td id=\"T_f30eb_row5_col0\" class=\"data row5 col0\" >Missing Values</td>\n",
       "      <td id=\"T_f30eb_row5_col1\" class=\"data row5 col1\" >False</td>\n",
       "    </tr>\n",
       "    <tr>\n",
       "      <th id=\"T_f30eb_level0_row6\" class=\"row_heading level0 row6\" >6</th>\n",
       "      <td id=\"T_f30eb_row6_col0\" class=\"data row6 col0\" >Numeric Features</td>\n",
       "      <td id=\"T_f30eb_row6_col1\" class=\"data row6 col1\" >300</td>\n",
       "    </tr>\n",
       "    <tr>\n",
       "      <th id=\"T_f30eb_level0_row7\" class=\"row_heading level0 row7\" >7</th>\n",
       "      <td id=\"T_f30eb_row7_col0\" class=\"data row7 col0\" >Categorical Features</td>\n",
       "      <td id=\"T_f30eb_row7_col1\" class=\"data row7 col1\" >0</td>\n",
       "    </tr>\n",
       "    <tr>\n",
       "      <th id=\"T_f30eb_level0_row8\" class=\"row_heading level0 row8\" >8</th>\n",
       "      <td id=\"T_f30eb_row8_col0\" class=\"data row8 col0\" >Ordinal Features</td>\n",
       "      <td id=\"T_f30eb_row8_col1\" class=\"data row8 col1\" >False</td>\n",
       "    </tr>\n",
       "    <tr>\n",
       "      <th id=\"T_f30eb_level0_row9\" class=\"row_heading level0 row9\" >9</th>\n",
       "      <td id=\"T_f30eb_row9_col0\" class=\"data row9 col0\" >High Cardinality Features</td>\n",
       "      <td id=\"T_f30eb_row9_col1\" class=\"data row9 col1\" >False</td>\n",
       "    </tr>\n",
       "    <tr>\n",
       "      <th id=\"T_f30eb_level0_row10\" class=\"row_heading level0 row10\" >10</th>\n",
       "      <td id=\"T_f30eb_row10_col0\" class=\"data row10 col0\" >High Cardinality Method</td>\n",
       "      <td id=\"T_f30eb_row10_col1\" class=\"data row10 col1\" >None</td>\n",
       "    </tr>\n",
       "    <tr>\n",
       "      <th id=\"T_f30eb_level0_row11\" class=\"row_heading level0 row11\" >11</th>\n",
       "      <td id=\"T_f30eb_row11_col0\" class=\"data row11 col0\" >Transformed Train Set</td>\n",
       "      <td id=\"T_f30eb_row11_col1\" class=\"data row11 col1\" >(19128, 300)</td>\n",
       "    </tr>\n",
       "    <tr>\n",
       "      <th id=\"T_f30eb_level0_row12\" class=\"row_heading level0 row12\" >12</th>\n",
       "      <td id=\"T_f30eb_row12_col0\" class=\"data row12 col0\" >Transformed Test Set</td>\n",
       "      <td id=\"T_f30eb_row12_col1\" class=\"data row12 col1\" >(8199, 300)</td>\n",
       "    </tr>\n",
       "    <tr>\n",
       "      <th id=\"T_f30eb_level0_row13\" class=\"row_heading level0 row13\" >13</th>\n",
       "      <td id=\"T_f30eb_row13_col0\" class=\"data row13 col0\" >Shuffle Train-Test</td>\n",
       "      <td id=\"T_f30eb_row13_col1\" class=\"data row13 col1\" >True</td>\n",
       "    </tr>\n",
       "    <tr>\n",
       "      <th id=\"T_f30eb_level0_row14\" class=\"row_heading level0 row14\" >14</th>\n",
       "      <td id=\"T_f30eb_row14_col0\" class=\"data row14 col0\" >Stratify Train-Test</td>\n",
       "      <td id=\"T_f30eb_row14_col1\" class=\"data row14 col1\" >False</td>\n",
       "    </tr>\n",
       "    <tr>\n",
       "      <th id=\"T_f30eb_level0_row15\" class=\"row_heading level0 row15\" >15</th>\n",
       "      <td id=\"T_f30eb_row15_col0\" class=\"data row15 col0\" >Fold Generator</td>\n",
       "      <td id=\"T_f30eb_row15_col1\" class=\"data row15 col1\" >KFold</td>\n",
       "    </tr>\n",
       "    <tr>\n",
       "      <th id=\"T_f30eb_level0_row16\" class=\"row_heading level0 row16\" >16</th>\n",
       "      <td id=\"T_f30eb_row16_col0\" class=\"data row16 col0\" >Fold Number</td>\n",
       "      <td id=\"T_f30eb_row16_col1\" class=\"data row16 col1\" >3</td>\n",
       "    </tr>\n",
       "    <tr>\n",
       "      <th id=\"T_f30eb_level0_row17\" class=\"row_heading level0 row17\" >17</th>\n",
       "      <td id=\"T_f30eb_row17_col0\" class=\"data row17 col0\" >CPU Jobs</td>\n",
       "      <td id=\"T_f30eb_row17_col1\" class=\"data row17 col1\" >-1</td>\n",
       "    </tr>\n",
       "    <tr>\n",
       "      <th id=\"T_f30eb_level0_row18\" class=\"row_heading level0 row18\" >18</th>\n",
       "      <td id=\"T_f30eb_row18_col0\" class=\"data row18 col0\" >Use GPU</td>\n",
       "      <td id=\"T_f30eb_row18_col1\" class=\"data row18 col1\" >False</td>\n",
       "    </tr>\n",
       "    <tr>\n",
       "      <th id=\"T_f30eb_level0_row19\" class=\"row_heading level0 row19\" >19</th>\n",
       "      <td id=\"T_f30eb_row19_col0\" class=\"data row19 col0\" >Log Experiment</td>\n",
       "      <td id=\"T_f30eb_row19_col1\" class=\"data row19 col1\" >False</td>\n",
       "    </tr>\n",
       "    <tr>\n",
       "      <th id=\"T_f30eb_level0_row20\" class=\"row_heading level0 row20\" >20</th>\n",
       "      <td id=\"T_f30eb_row20_col0\" class=\"data row20 col0\" >Experiment Name</td>\n",
       "      <td id=\"T_f30eb_row20_col1\" class=\"data row20 col1\" >clf-default-name</td>\n",
       "    </tr>\n",
       "    <tr>\n",
       "      <th id=\"T_f30eb_level0_row21\" class=\"row_heading level0 row21\" >21</th>\n",
       "      <td id=\"T_f30eb_row21_col0\" class=\"data row21 col0\" >USI</td>\n",
       "      <td id=\"T_f30eb_row21_col1\" class=\"data row21 col1\" >0c2b</td>\n",
       "    </tr>\n",
       "    <tr>\n",
       "      <th id=\"T_f30eb_level0_row22\" class=\"row_heading level0 row22\" >22</th>\n",
       "      <td id=\"T_f30eb_row22_col0\" class=\"data row22 col0\" >Imputation Type</td>\n",
       "      <td id=\"T_f30eb_row22_col1\" class=\"data row22 col1\" >simple</td>\n",
       "    </tr>\n",
       "    <tr>\n",
       "      <th id=\"T_f30eb_level0_row23\" class=\"row_heading level0 row23\" >23</th>\n",
       "      <td id=\"T_f30eb_row23_col0\" class=\"data row23 col0\" >Iterative Imputation Iteration</td>\n",
       "      <td id=\"T_f30eb_row23_col1\" class=\"data row23 col1\" >None</td>\n",
       "    </tr>\n",
       "    <tr>\n",
       "      <th id=\"T_f30eb_level0_row24\" class=\"row_heading level0 row24\" >24</th>\n",
       "      <td id=\"T_f30eb_row24_col0\" class=\"data row24 col0\" >Numeric Imputer</td>\n",
       "      <td id=\"T_f30eb_row24_col1\" class=\"data row24 col1\" >mean</td>\n",
       "    </tr>\n",
       "    <tr>\n",
       "      <th id=\"T_f30eb_level0_row25\" class=\"row_heading level0 row25\" >25</th>\n",
       "      <td id=\"T_f30eb_row25_col0\" class=\"data row25 col0\" >Iterative Imputation Numeric Model</td>\n",
       "      <td id=\"T_f30eb_row25_col1\" class=\"data row25 col1\" >None</td>\n",
       "    </tr>\n",
       "    <tr>\n",
       "      <th id=\"T_f30eb_level0_row26\" class=\"row_heading level0 row26\" >26</th>\n",
       "      <td id=\"T_f30eb_row26_col0\" class=\"data row26 col0\" >Categorical Imputer</td>\n",
       "      <td id=\"T_f30eb_row26_col1\" class=\"data row26 col1\" >constant</td>\n",
       "    </tr>\n",
       "    <tr>\n",
       "      <th id=\"T_f30eb_level0_row27\" class=\"row_heading level0 row27\" >27</th>\n",
       "      <td id=\"T_f30eb_row27_col0\" class=\"data row27 col0\" >Iterative Imputation Categorical Model</td>\n",
       "      <td id=\"T_f30eb_row27_col1\" class=\"data row27 col1\" >None</td>\n",
       "    </tr>\n",
       "    <tr>\n",
       "      <th id=\"T_f30eb_level0_row28\" class=\"row_heading level0 row28\" >28</th>\n",
       "      <td id=\"T_f30eb_row28_col0\" class=\"data row28 col0\" >Unknown Categoricals Handling</td>\n",
       "      <td id=\"T_f30eb_row28_col1\" class=\"data row28 col1\" >least_frequent</td>\n",
       "    </tr>\n",
       "    <tr>\n",
       "      <th id=\"T_f30eb_level0_row29\" class=\"row_heading level0 row29\" >29</th>\n",
       "      <td id=\"T_f30eb_row29_col0\" class=\"data row29 col0\" >Normalize</td>\n",
       "      <td id=\"T_f30eb_row29_col1\" class=\"data row29 col1\" >False</td>\n",
       "    </tr>\n",
       "    <tr>\n",
       "      <th id=\"T_f30eb_level0_row30\" class=\"row_heading level0 row30\" >30</th>\n",
       "      <td id=\"T_f30eb_row30_col0\" class=\"data row30 col0\" >Normalize Method</td>\n",
       "      <td id=\"T_f30eb_row30_col1\" class=\"data row30 col1\" >None</td>\n",
       "    </tr>\n",
       "    <tr>\n",
       "      <th id=\"T_f30eb_level0_row31\" class=\"row_heading level0 row31\" >31</th>\n",
       "      <td id=\"T_f30eb_row31_col0\" class=\"data row31 col0\" >Transformation</td>\n",
       "      <td id=\"T_f30eb_row31_col1\" class=\"data row31 col1\" >False</td>\n",
       "    </tr>\n",
       "    <tr>\n",
       "      <th id=\"T_f30eb_level0_row32\" class=\"row_heading level0 row32\" >32</th>\n",
       "      <td id=\"T_f30eb_row32_col0\" class=\"data row32 col0\" >Transformation Method</td>\n",
       "      <td id=\"T_f30eb_row32_col1\" class=\"data row32 col1\" >None</td>\n",
       "    </tr>\n",
       "    <tr>\n",
       "      <th id=\"T_f30eb_level0_row33\" class=\"row_heading level0 row33\" >33</th>\n",
       "      <td id=\"T_f30eb_row33_col0\" class=\"data row33 col0\" >PCA</td>\n",
       "      <td id=\"T_f30eb_row33_col1\" class=\"data row33 col1\" >False</td>\n",
       "    </tr>\n",
       "    <tr>\n",
       "      <th id=\"T_f30eb_level0_row34\" class=\"row_heading level0 row34\" >34</th>\n",
       "      <td id=\"T_f30eb_row34_col0\" class=\"data row34 col0\" >PCA Method</td>\n",
       "      <td id=\"T_f30eb_row34_col1\" class=\"data row34 col1\" >None</td>\n",
       "    </tr>\n",
       "    <tr>\n",
       "      <th id=\"T_f30eb_level0_row35\" class=\"row_heading level0 row35\" >35</th>\n",
       "      <td id=\"T_f30eb_row35_col0\" class=\"data row35 col0\" >PCA Components</td>\n",
       "      <td id=\"T_f30eb_row35_col1\" class=\"data row35 col1\" >None</td>\n",
       "    </tr>\n",
       "    <tr>\n",
       "      <th id=\"T_f30eb_level0_row36\" class=\"row_heading level0 row36\" >36</th>\n",
       "      <td id=\"T_f30eb_row36_col0\" class=\"data row36 col0\" >Ignore Low Variance</td>\n",
       "      <td id=\"T_f30eb_row36_col1\" class=\"data row36 col1\" >False</td>\n",
       "    </tr>\n",
       "    <tr>\n",
       "      <th id=\"T_f30eb_level0_row37\" class=\"row_heading level0 row37\" >37</th>\n",
       "      <td id=\"T_f30eb_row37_col0\" class=\"data row37 col0\" >Combine Rare Levels</td>\n",
       "      <td id=\"T_f30eb_row37_col1\" class=\"data row37 col1\" >False</td>\n",
       "    </tr>\n",
       "    <tr>\n",
       "      <th id=\"T_f30eb_level0_row38\" class=\"row_heading level0 row38\" >38</th>\n",
       "      <td id=\"T_f30eb_row38_col0\" class=\"data row38 col0\" >Rare Level Threshold</td>\n",
       "      <td id=\"T_f30eb_row38_col1\" class=\"data row38 col1\" >None</td>\n",
       "    </tr>\n",
       "    <tr>\n",
       "      <th id=\"T_f30eb_level0_row39\" class=\"row_heading level0 row39\" >39</th>\n",
       "      <td id=\"T_f30eb_row39_col0\" class=\"data row39 col0\" >Numeric Binning</td>\n",
       "      <td id=\"T_f30eb_row39_col1\" class=\"data row39 col1\" >False</td>\n",
       "    </tr>\n",
       "    <tr>\n",
       "      <th id=\"T_f30eb_level0_row40\" class=\"row_heading level0 row40\" >40</th>\n",
       "      <td id=\"T_f30eb_row40_col0\" class=\"data row40 col0\" >Remove Outliers</td>\n",
       "      <td id=\"T_f30eb_row40_col1\" class=\"data row40 col1\" >False</td>\n",
       "    </tr>\n",
       "    <tr>\n",
       "      <th id=\"T_f30eb_level0_row41\" class=\"row_heading level0 row41\" >41</th>\n",
       "      <td id=\"T_f30eb_row41_col0\" class=\"data row41 col0\" >Outliers Threshold</td>\n",
       "      <td id=\"T_f30eb_row41_col1\" class=\"data row41 col1\" >None</td>\n",
       "    </tr>\n",
       "    <tr>\n",
       "      <th id=\"T_f30eb_level0_row42\" class=\"row_heading level0 row42\" >42</th>\n",
       "      <td id=\"T_f30eb_row42_col0\" class=\"data row42 col0\" >Remove Multicollinearity</td>\n",
       "      <td id=\"T_f30eb_row42_col1\" class=\"data row42 col1\" >False</td>\n",
       "    </tr>\n",
       "    <tr>\n",
       "      <th id=\"T_f30eb_level0_row43\" class=\"row_heading level0 row43\" >43</th>\n",
       "      <td id=\"T_f30eb_row43_col0\" class=\"data row43 col0\" >Multicollinearity Threshold</td>\n",
       "      <td id=\"T_f30eb_row43_col1\" class=\"data row43 col1\" >None</td>\n",
       "    </tr>\n",
       "    <tr>\n",
       "      <th id=\"T_f30eb_level0_row44\" class=\"row_heading level0 row44\" >44</th>\n",
       "      <td id=\"T_f30eb_row44_col0\" class=\"data row44 col0\" >Clustering</td>\n",
       "      <td id=\"T_f30eb_row44_col1\" class=\"data row44 col1\" >False</td>\n",
       "    </tr>\n",
       "    <tr>\n",
       "      <th id=\"T_f30eb_level0_row45\" class=\"row_heading level0 row45\" >45</th>\n",
       "      <td id=\"T_f30eb_row45_col0\" class=\"data row45 col0\" >Clustering Iteration</td>\n",
       "      <td id=\"T_f30eb_row45_col1\" class=\"data row45 col1\" >None</td>\n",
       "    </tr>\n",
       "    <tr>\n",
       "      <th id=\"T_f30eb_level0_row46\" class=\"row_heading level0 row46\" >46</th>\n",
       "      <td id=\"T_f30eb_row46_col0\" class=\"data row46 col0\" >Polynomial Features</td>\n",
       "      <td id=\"T_f30eb_row46_col1\" class=\"data row46 col1\" >False</td>\n",
       "    </tr>\n",
       "    <tr>\n",
       "      <th id=\"T_f30eb_level0_row47\" class=\"row_heading level0 row47\" >47</th>\n",
       "      <td id=\"T_f30eb_row47_col0\" class=\"data row47 col0\" >Polynomial Degree</td>\n",
       "      <td id=\"T_f30eb_row47_col1\" class=\"data row47 col1\" >None</td>\n",
       "    </tr>\n",
       "    <tr>\n",
       "      <th id=\"T_f30eb_level0_row48\" class=\"row_heading level0 row48\" >48</th>\n",
       "      <td id=\"T_f30eb_row48_col0\" class=\"data row48 col0\" >Trignometry Features</td>\n",
       "      <td id=\"T_f30eb_row48_col1\" class=\"data row48 col1\" >False</td>\n",
       "    </tr>\n",
       "    <tr>\n",
       "      <th id=\"T_f30eb_level0_row49\" class=\"row_heading level0 row49\" >49</th>\n",
       "      <td id=\"T_f30eb_row49_col0\" class=\"data row49 col0\" >Polynomial Threshold</td>\n",
       "      <td id=\"T_f30eb_row49_col1\" class=\"data row49 col1\" >None</td>\n",
       "    </tr>\n",
       "    <tr>\n",
       "      <th id=\"T_f30eb_level0_row50\" class=\"row_heading level0 row50\" >50</th>\n",
       "      <td id=\"T_f30eb_row50_col0\" class=\"data row50 col0\" >Group Features</td>\n",
       "      <td id=\"T_f30eb_row50_col1\" class=\"data row50 col1\" >False</td>\n",
       "    </tr>\n",
       "    <tr>\n",
       "      <th id=\"T_f30eb_level0_row51\" class=\"row_heading level0 row51\" >51</th>\n",
       "      <td id=\"T_f30eb_row51_col0\" class=\"data row51 col0\" >Feature Selection</td>\n",
       "      <td id=\"T_f30eb_row51_col1\" class=\"data row51 col1\" >False</td>\n",
       "    </tr>\n",
       "    <tr>\n",
       "      <th id=\"T_f30eb_level0_row52\" class=\"row_heading level0 row52\" >52</th>\n",
       "      <td id=\"T_f30eb_row52_col0\" class=\"data row52 col0\" >Features Selection Threshold</td>\n",
       "      <td id=\"T_f30eb_row52_col1\" class=\"data row52 col1\" >None</td>\n",
       "    </tr>\n",
       "    <tr>\n",
       "      <th id=\"T_f30eb_level0_row53\" class=\"row_heading level0 row53\" >53</th>\n",
       "      <td id=\"T_f30eb_row53_col0\" class=\"data row53 col0\" >Feature Interaction</td>\n",
       "      <td id=\"T_f30eb_row53_col1\" class=\"data row53 col1\" >False</td>\n",
       "    </tr>\n",
       "    <tr>\n",
       "      <th id=\"T_f30eb_level0_row54\" class=\"row_heading level0 row54\" >54</th>\n",
       "      <td id=\"T_f30eb_row54_col0\" class=\"data row54 col0\" >Feature Ratio</td>\n",
       "      <td id=\"T_f30eb_row54_col1\" class=\"data row54 col1\" >False</td>\n",
       "    </tr>\n",
       "    <tr>\n",
       "      <th id=\"T_f30eb_level0_row55\" class=\"row_heading level0 row55\" >55</th>\n",
       "      <td id=\"T_f30eb_row55_col0\" class=\"data row55 col0\" >Interaction Threshold</td>\n",
       "      <td id=\"T_f30eb_row55_col1\" class=\"data row55 col1\" >None</td>\n",
       "    </tr>\n",
       "    <tr>\n",
       "      <th id=\"T_f30eb_level0_row56\" class=\"row_heading level0 row56\" >56</th>\n",
       "      <td id=\"T_f30eb_row56_col0\" class=\"data row56 col0\" >Fix Imbalance</td>\n",
       "      <td id=\"T_f30eb_row56_col1\" class=\"data row56 col1\" >False</td>\n",
       "    </tr>\n",
       "    <tr>\n",
       "      <th id=\"T_f30eb_level0_row57\" class=\"row_heading level0 row57\" >57</th>\n",
       "      <td id=\"T_f30eb_row57_col0\" class=\"data row57 col0\" >Fix Imbalance Method</td>\n",
       "      <td id=\"T_f30eb_row57_col1\" class=\"data row57 col1\" >SMOTE</td>\n",
       "    </tr>\n",
       "  </tbody>\n",
       "</table>\n"
      ],
      "text/plain": [
       "<pandas.io.formats.style.Styler at 0x19e07682e30>"
      ]
     },
     "metadata": {},
     "output_type": "display_data"
    },
    {
     "ename": "AttributeError",
     "evalue": "'Simple_Imputer' object has no attribute 'fill_value_categorical'",
     "output_type": "error",
     "traceback": [
      "\u001b[1;31m---------------------------------------------------------------------------\u001b[0m",
      "\u001b[1;31mAttributeError\u001b[0m                            Traceback (most recent call last)",
      "Input \u001b[1;32mIn [58]\u001b[0m, in \u001b[0;36m<cell line: 1>\u001b[1;34m()\u001b[0m\n\u001b[1;32m----> 1\u001b[0m exp_clf101 \u001b[38;5;241m=\u001b[39m \u001b[43msetup\u001b[49m\u001b[43m(\u001b[49m\u001b[43mdata\u001b[49m\u001b[43m \u001b[49m\u001b[38;5;241;43m=\u001b[39;49m\u001b[43m \u001b[49m\u001b[43mtrain_shuffle_norm\u001b[49m\u001b[38;5;241;43m.\u001b[39;49m\u001b[43mdrop\u001b[49m\u001b[43m(\u001b[49m\u001b[43mcolumns\u001b[49m\u001b[38;5;241;43m=\u001b[39;49m\u001b[43m[\u001b[49m\u001b[38;5;124;43m'\u001b[39;49m\u001b[38;5;124;43mfecha\u001b[39;49m\u001b[38;5;124;43m'\u001b[39;49m\u001b[43m]\u001b[49m\u001b[43m)\u001b[49m\u001b[43m,\u001b[49m\u001b[43m \u001b[49m\u001b[43mtarget\u001b[49m\u001b[43m \u001b[49m\u001b[38;5;241;43m=\u001b[39;49m\u001b[43m \u001b[49m\u001b[38;5;124;43m'\u001b[39;49m\u001b[38;5;124;43mlabel\u001b[39;49m\u001b[38;5;124;43m'\u001b[39;49m\u001b[43m,\u001b[49m\u001b[43mtrain_size\u001b[49m\u001b[43m \u001b[49m\u001b[38;5;241;43m=\u001b[39;49m\u001b[43m \u001b[49m\u001b[38;5;241;43m0.7\u001b[39;49m\u001b[43m,\u001b[49m\u001b[43mfold\u001b[49m\u001b[38;5;241;43m=\u001b[39;49m\u001b[38;5;241;43m3\u001b[39;49m\u001b[43m,\u001b[49m\u001b[43mfold_shuffle\u001b[49m\u001b[38;5;241;43m=\u001b[39;49m\u001b[38;5;28;43;01mTrue\u001b[39;49;00m\u001b[43m,\u001b[49m\u001b[43mfold_strategy\u001b[49m\u001b[38;5;241;43m=\u001b[39;49m\u001b[38;5;124;43m'\u001b[39;49m\u001b[38;5;124;43mkfold\u001b[39;49m\u001b[38;5;124;43m'\u001b[39;49m\u001b[43m,\u001b[49m\u001b[43msession_id\u001b[49m\u001b[38;5;241;43m=\u001b[39;49m\u001b[38;5;241;43m1001\u001b[39;49m\u001b[43m)\u001b[49m\n",
      "File \u001b[1;32mD:\\ProgramData\\Anaconda3\\envs\\wm_env\\lib\\site-packages\\pycaret\\classification.py:580\u001b[0m, in \u001b[0;36msetup\u001b[1;34m(data, target, train_size, test_data, preprocess, imputation_type, iterative_imputation_iters, categorical_features, categorical_imputation, categorical_iterative_imputer, ordinal_features, high_cardinality_features, high_cardinality_method, numeric_features, numeric_imputation, numeric_iterative_imputer, date_features, ignore_features, normalize, normalize_method, transformation, transformation_method, handle_unknown_categorical, unknown_categorical_method, pca, pca_method, pca_components, ignore_low_variance, combine_rare_levels, rare_level_threshold, bin_numeric_features, remove_outliers, outliers_threshold, remove_multicollinearity, multicollinearity_threshold, remove_perfect_collinearity, create_clusters, cluster_iter, polynomial_features, polynomial_degree, trigonometry_features, polynomial_threshold, group_features, group_names, feature_selection, feature_selection_threshold, feature_selection_method, feature_interaction, feature_ratio, interaction_threshold, fix_imbalance, fix_imbalance_method, data_split_shuffle, data_split_stratify, fold_strategy, fold, fold_shuffle, fold_groups, n_jobs, use_gpu, custom_pipeline, html, session_id, log_experiment, experiment_name, log_plots, log_profile, log_data, silent, verbose, profile, profile_kwargs)\u001b[0m\n\u001b[0;32m    577\u001b[0m \u001b[38;5;28;01mif\u001b[39;00m log_plots \u001b[38;5;241m==\u001b[39m \u001b[38;5;28;01mTrue\u001b[39;00m:\n\u001b[0;32m    578\u001b[0m     log_plots \u001b[38;5;241m=\u001b[39m [\u001b[38;5;124m\"\u001b[39m\u001b[38;5;124mauc\u001b[39m\u001b[38;5;124m\"\u001b[39m, \u001b[38;5;124m\"\u001b[39m\u001b[38;5;124mconfusion_matrix\u001b[39m\u001b[38;5;124m\"\u001b[39m, \u001b[38;5;124m\"\u001b[39m\u001b[38;5;124mfeature\u001b[39m\u001b[38;5;124m\"\u001b[39m]\n\u001b[1;32m--> 580\u001b[0m \u001b[38;5;28;01mreturn\u001b[39;00m \u001b[43mpycaret\u001b[49m\u001b[38;5;241;43m.\u001b[39;49m\u001b[43minternal\u001b[49m\u001b[38;5;241;43m.\u001b[39;49m\u001b[43mtabular\u001b[49m\u001b[38;5;241;43m.\u001b[39;49m\u001b[43msetup\u001b[49m\u001b[43m(\u001b[49m\n\u001b[0;32m    581\u001b[0m \u001b[43m    \u001b[49m\u001b[43mml_usecase\u001b[49m\u001b[38;5;241;43m=\u001b[39;49m\u001b[38;5;124;43m\"\u001b[39;49m\u001b[38;5;124;43mclassification\u001b[39;49m\u001b[38;5;124;43m\"\u001b[39;49m\u001b[43m,\u001b[49m\n\u001b[0;32m    582\u001b[0m \u001b[43m    \u001b[49m\u001b[43mavailable_plots\u001b[49m\u001b[38;5;241;43m=\u001b[39;49m\u001b[43mavailable_plots\u001b[49m\u001b[43m,\u001b[49m\n\u001b[0;32m    583\u001b[0m \u001b[43m    \u001b[49m\u001b[43mdata\u001b[49m\u001b[38;5;241;43m=\u001b[39;49m\u001b[43mdata\u001b[49m\u001b[43m,\u001b[49m\n\u001b[0;32m    584\u001b[0m \u001b[43m    \u001b[49m\u001b[43mtarget\u001b[49m\u001b[38;5;241;43m=\u001b[39;49m\u001b[43mtarget\u001b[49m\u001b[43m,\u001b[49m\n\u001b[0;32m    585\u001b[0m \u001b[43m    \u001b[49m\u001b[43mtrain_size\u001b[49m\u001b[38;5;241;43m=\u001b[39;49m\u001b[43mtrain_size\u001b[49m\u001b[43m,\u001b[49m\n\u001b[0;32m    586\u001b[0m \u001b[43m    \u001b[49m\u001b[43mtest_data\u001b[49m\u001b[38;5;241;43m=\u001b[39;49m\u001b[43mtest_data\u001b[49m\u001b[43m,\u001b[49m\n\u001b[0;32m    587\u001b[0m \u001b[43m    \u001b[49m\u001b[43mpreprocess\u001b[49m\u001b[38;5;241;43m=\u001b[39;49m\u001b[43mpreprocess\u001b[49m\u001b[43m,\u001b[49m\n\u001b[0;32m    588\u001b[0m \u001b[43m    \u001b[49m\u001b[43mimputation_type\u001b[49m\u001b[38;5;241;43m=\u001b[39;49m\u001b[43mimputation_type\u001b[49m\u001b[43m,\u001b[49m\n\u001b[0;32m    589\u001b[0m \u001b[43m    \u001b[49m\u001b[43miterative_imputation_iters\u001b[49m\u001b[38;5;241;43m=\u001b[39;49m\u001b[43miterative_imputation_iters\u001b[49m\u001b[43m,\u001b[49m\n\u001b[0;32m    590\u001b[0m \u001b[43m    \u001b[49m\u001b[43mcategorical_features\u001b[49m\u001b[38;5;241;43m=\u001b[39;49m\u001b[43mcategorical_features\u001b[49m\u001b[43m,\u001b[49m\n\u001b[0;32m    591\u001b[0m \u001b[43m    \u001b[49m\u001b[43mcategorical_imputation\u001b[49m\u001b[38;5;241;43m=\u001b[39;49m\u001b[43mcategorical_imputation\u001b[49m\u001b[43m,\u001b[49m\n\u001b[0;32m    592\u001b[0m \u001b[43m    \u001b[49m\u001b[43mcategorical_iterative_imputer\u001b[49m\u001b[38;5;241;43m=\u001b[39;49m\u001b[43mcategorical_iterative_imputer\u001b[49m\u001b[43m,\u001b[49m\n\u001b[0;32m    593\u001b[0m \u001b[43m    \u001b[49m\u001b[43mordinal_features\u001b[49m\u001b[38;5;241;43m=\u001b[39;49m\u001b[43mordinal_features\u001b[49m\u001b[43m,\u001b[49m\n\u001b[0;32m    594\u001b[0m \u001b[43m    \u001b[49m\u001b[43mhigh_cardinality_features\u001b[49m\u001b[38;5;241;43m=\u001b[39;49m\u001b[43mhigh_cardinality_features\u001b[49m\u001b[43m,\u001b[49m\n\u001b[0;32m    595\u001b[0m \u001b[43m    \u001b[49m\u001b[43mhigh_cardinality_method\u001b[49m\u001b[38;5;241;43m=\u001b[39;49m\u001b[43mhigh_cardinality_method\u001b[49m\u001b[43m,\u001b[49m\n\u001b[0;32m    596\u001b[0m \u001b[43m    \u001b[49m\u001b[43mnumeric_features\u001b[49m\u001b[38;5;241;43m=\u001b[39;49m\u001b[43mnumeric_features\u001b[49m\u001b[43m,\u001b[49m\n\u001b[0;32m    597\u001b[0m \u001b[43m    \u001b[49m\u001b[43mnumeric_imputation\u001b[49m\u001b[38;5;241;43m=\u001b[39;49m\u001b[43mnumeric_imputation\u001b[49m\u001b[43m,\u001b[49m\n\u001b[0;32m    598\u001b[0m \u001b[43m    \u001b[49m\u001b[43mnumeric_iterative_imputer\u001b[49m\u001b[38;5;241;43m=\u001b[39;49m\u001b[43mnumeric_iterative_imputer\u001b[49m\u001b[43m,\u001b[49m\n\u001b[0;32m    599\u001b[0m \u001b[43m    \u001b[49m\u001b[43mdate_features\u001b[49m\u001b[38;5;241;43m=\u001b[39;49m\u001b[43mdate_features\u001b[49m\u001b[43m,\u001b[49m\n\u001b[0;32m    600\u001b[0m \u001b[43m    \u001b[49m\u001b[43mignore_features\u001b[49m\u001b[38;5;241;43m=\u001b[39;49m\u001b[43mignore_features\u001b[49m\u001b[43m,\u001b[49m\n\u001b[0;32m    601\u001b[0m \u001b[43m    \u001b[49m\u001b[43mnormalize\u001b[49m\u001b[38;5;241;43m=\u001b[39;49m\u001b[43mnormalize\u001b[49m\u001b[43m,\u001b[49m\n\u001b[0;32m    602\u001b[0m \u001b[43m    \u001b[49m\u001b[43mnormalize_method\u001b[49m\u001b[38;5;241;43m=\u001b[39;49m\u001b[43mnormalize_method\u001b[49m\u001b[43m,\u001b[49m\n\u001b[0;32m    603\u001b[0m \u001b[43m    \u001b[49m\u001b[43mtransformation\u001b[49m\u001b[38;5;241;43m=\u001b[39;49m\u001b[43mtransformation\u001b[49m\u001b[43m,\u001b[49m\n\u001b[0;32m    604\u001b[0m \u001b[43m    \u001b[49m\u001b[43mtransformation_method\u001b[49m\u001b[38;5;241;43m=\u001b[39;49m\u001b[43mtransformation_method\u001b[49m\u001b[43m,\u001b[49m\n\u001b[0;32m    605\u001b[0m \u001b[43m    \u001b[49m\u001b[43mhandle_unknown_categorical\u001b[49m\u001b[38;5;241;43m=\u001b[39;49m\u001b[43mhandle_unknown_categorical\u001b[49m\u001b[43m,\u001b[49m\n\u001b[0;32m    606\u001b[0m \u001b[43m    \u001b[49m\u001b[43munknown_categorical_method\u001b[49m\u001b[38;5;241;43m=\u001b[39;49m\u001b[43munknown_categorical_method\u001b[49m\u001b[43m,\u001b[49m\n\u001b[0;32m    607\u001b[0m \u001b[43m    \u001b[49m\u001b[43mpca\u001b[49m\u001b[38;5;241;43m=\u001b[39;49m\u001b[43mpca\u001b[49m\u001b[43m,\u001b[49m\n\u001b[0;32m    608\u001b[0m \u001b[43m    \u001b[49m\u001b[43mpca_method\u001b[49m\u001b[38;5;241;43m=\u001b[39;49m\u001b[43mpca_method\u001b[49m\u001b[43m,\u001b[49m\n\u001b[0;32m    609\u001b[0m \u001b[43m    \u001b[49m\u001b[43mpca_components\u001b[49m\u001b[38;5;241;43m=\u001b[39;49m\u001b[43mpca_components\u001b[49m\u001b[43m,\u001b[49m\n\u001b[0;32m    610\u001b[0m \u001b[43m    \u001b[49m\u001b[43mignore_low_variance\u001b[49m\u001b[38;5;241;43m=\u001b[39;49m\u001b[43mignore_low_variance\u001b[49m\u001b[43m,\u001b[49m\n\u001b[0;32m    611\u001b[0m \u001b[43m    \u001b[49m\u001b[43mcombine_rare_levels\u001b[49m\u001b[38;5;241;43m=\u001b[39;49m\u001b[43mcombine_rare_levels\u001b[49m\u001b[43m,\u001b[49m\n\u001b[0;32m    612\u001b[0m \u001b[43m    \u001b[49m\u001b[43mrare_level_threshold\u001b[49m\u001b[38;5;241;43m=\u001b[39;49m\u001b[43mrare_level_threshold\u001b[49m\u001b[43m,\u001b[49m\n\u001b[0;32m    613\u001b[0m \u001b[43m    \u001b[49m\u001b[43mbin_numeric_features\u001b[49m\u001b[38;5;241;43m=\u001b[39;49m\u001b[43mbin_numeric_features\u001b[49m\u001b[43m,\u001b[49m\n\u001b[0;32m    614\u001b[0m \u001b[43m    \u001b[49m\u001b[43mremove_outliers\u001b[49m\u001b[38;5;241;43m=\u001b[39;49m\u001b[43mremove_outliers\u001b[49m\u001b[43m,\u001b[49m\n\u001b[0;32m    615\u001b[0m \u001b[43m    \u001b[49m\u001b[43moutliers_threshold\u001b[49m\u001b[38;5;241;43m=\u001b[39;49m\u001b[43moutliers_threshold\u001b[49m\u001b[43m,\u001b[49m\n\u001b[0;32m    616\u001b[0m \u001b[43m    \u001b[49m\u001b[43mremove_multicollinearity\u001b[49m\u001b[38;5;241;43m=\u001b[39;49m\u001b[43mremove_multicollinearity\u001b[49m\u001b[43m,\u001b[49m\n\u001b[0;32m    617\u001b[0m \u001b[43m    \u001b[49m\u001b[43mmulticollinearity_threshold\u001b[49m\u001b[38;5;241;43m=\u001b[39;49m\u001b[43mmulticollinearity_threshold\u001b[49m\u001b[43m,\u001b[49m\n\u001b[0;32m    618\u001b[0m \u001b[43m    \u001b[49m\u001b[43mremove_perfect_collinearity\u001b[49m\u001b[38;5;241;43m=\u001b[39;49m\u001b[43mremove_perfect_collinearity\u001b[49m\u001b[43m,\u001b[49m\n\u001b[0;32m    619\u001b[0m \u001b[43m    \u001b[49m\u001b[43mcreate_clusters\u001b[49m\u001b[38;5;241;43m=\u001b[39;49m\u001b[43mcreate_clusters\u001b[49m\u001b[43m,\u001b[49m\n\u001b[0;32m    620\u001b[0m \u001b[43m    \u001b[49m\u001b[43mcluster_iter\u001b[49m\u001b[38;5;241;43m=\u001b[39;49m\u001b[43mcluster_iter\u001b[49m\u001b[43m,\u001b[49m\n\u001b[0;32m    621\u001b[0m \u001b[43m    \u001b[49m\u001b[43mpolynomial_features\u001b[49m\u001b[38;5;241;43m=\u001b[39;49m\u001b[43mpolynomial_features\u001b[49m\u001b[43m,\u001b[49m\n\u001b[0;32m    622\u001b[0m \u001b[43m    \u001b[49m\u001b[43mpolynomial_degree\u001b[49m\u001b[38;5;241;43m=\u001b[39;49m\u001b[43mpolynomial_degree\u001b[49m\u001b[43m,\u001b[49m\n\u001b[0;32m    623\u001b[0m \u001b[43m    \u001b[49m\u001b[43mtrigonometry_features\u001b[49m\u001b[38;5;241;43m=\u001b[39;49m\u001b[43mtrigonometry_features\u001b[49m\u001b[43m,\u001b[49m\n\u001b[0;32m    624\u001b[0m \u001b[43m    \u001b[49m\u001b[43mpolynomial_threshold\u001b[49m\u001b[38;5;241;43m=\u001b[39;49m\u001b[43mpolynomial_threshold\u001b[49m\u001b[43m,\u001b[49m\n\u001b[0;32m    625\u001b[0m \u001b[43m    \u001b[49m\u001b[43mgroup_features\u001b[49m\u001b[38;5;241;43m=\u001b[39;49m\u001b[43mgroup_features\u001b[49m\u001b[43m,\u001b[49m\n\u001b[0;32m    626\u001b[0m \u001b[43m    \u001b[49m\u001b[43mgroup_names\u001b[49m\u001b[38;5;241;43m=\u001b[39;49m\u001b[43mgroup_names\u001b[49m\u001b[43m,\u001b[49m\n\u001b[0;32m    627\u001b[0m \u001b[43m    \u001b[49m\u001b[43mfeature_selection\u001b[49m\u001b[38;5;241;43m=\u001b[39;49m\u001b[43mfeature_selection\u001b[49m\u001b[43m,\u001b[49m\n\u001b[0;32m    628\u001b[0m \u001b[43m    \u001b[49m\u001b[43mfeature_selection_threshold\u001b[49m\u001b[38;5;241;43m=\u001b[39;49m\u001b[43mfeature_selection_threshold\u001b[49m\u001b[43m,\u001b[49m\n\u001b[0;32m    629\u001b[0m \u001b[43m    \u001b[49m\u001b[43mfeature_selection_method\u001b[49m\u001b[38;5;241;43m=\u001b[39;49m\u001b[43mfeature_selection_method\u001b[49m\u001b[43m,\u001b[49m\n\u001b[0;32m    630\u001b[0m \u001b[43m    \u001b[49m\u001b[43mfeature_interaction\u001b[49m\u001b[38;5;241;43m=\u001b[39;49m\u001b[43mfeature_interaction\u001b[49m\u001b[43m,\u001b[49m\n\u001b[0;32m    631\u001b[0m \u001b[43m    \u001b[49m\u001b[43mfeature_ratio\u001b[49m\u001b[38;5;241;43m=\u001b[39;49m\u001b[43mfeature_ratio\u001b[49m\u001b[43m,\u001b[49m\n\u001b[0;32m    632\u001b[0m \u001b[43m    \u001b[49m\u001b[43minteraction_threshold\u001b[49m\u001b[38;5;241;43m=\u001b[39;49m\u001b[43minteraction_threshold\u001b[49m\u001b[43m,\u001b[49m\n\u001b[0;32m    633\u001b[0m \u001b[43m    \u001b[49m\u001b[43mfix_imbalance\u001b[49m\u001b[38;5;241;43m=\u001b[39;49m\u001b[43mfix_imbalance\u001b[49m\u001b[43m,\u001b[49m\n\u001b[0;32m    634\u001b[0m \u001b[43m    \u001b[49m\u001b[43mfix_imbalance_method\u001b[49m\u001b[38;5;241;43m=\u001b[39;49m\u001b[43mfix_imbalance_method\u001b[49m\u001b[43m,\u001b[49m\n\u001b[0;32m    635\u001b[0m \u001b[43m    \u001b[49m\u001b[43mdata_split_shuffle\u001b[49m\u001b[38;5;241;43m=\u001b[39;49m\u001b[43mdata_split_shuffle\u001b[49m\u001b[43m,\u001b[49m\n\u001b[0;32m    636\u001b[0m \u001b[43m    \u001b[49m\u001b[43mdata_split_stratify\u001b[49m\u001b[38;5;241;43m=\u001b[39;49m\u001b[43mdata_split_stratify\u001b[49m\u001b[43m,\u001b[49m\n\u001b[0;32m    637\u001b[0m \u001b[43m    \u001b[49m\u001b[43mfold_strategy\u001b[49m\u001b[38;5;241;43m=\u001b[39;49m\u001b[43mfold_strategy\u001b[49m\u001b[43m,\u001b[49m\n\u001b[0;32m    638\u001b[0m \u001b[43m    \u001b[49m\u001b[43mfold\u001b[49m\u001b[38;5;241;43m=\u001b[39;49m\u001b[43mfold\u001b[49m\u001b[43m,\u001b[49m\n\u001b[0;32m    639\u001b[0m \u001b[43m    \u001b[49m\u001b[43mfold_shuffle\u001b[49m\u001b[38;5;241;43m=\u001b[39;49m\u001b[43mfold_shuffle\u001b[49m\u001b[43m,\u001b[49m\n\u001b[0;32m    640\u001b[0m \u001b[43m    \u001b[49m\u001b[43mfold_groups\u001b[49m\u001b[38;5;241;43m=\u001b[39;49m\u001b[43mfold_groups\u001b[49m\u001b[43m,\u001b[49m\n\u001b[0;32m    641\u001b[0m \u001b[43m    \u001b[49m\u001b[43mn_jobs\u001b[49m\u001b[38;5;241;43m=\u001b[39;49m\u001b[43mn_jobs\u001b[49m\u001b[43m,\u001b[49m\n\u001b[0;32m    642\u001b[0m \u001b[43m    \u001b[49m\u001b[43muse_gpu\u001b[49m\u001b[38;5;241;43m=\u001b[39;49m\u001b[43muse_gpu\u001b[49m\u001b[43m,\u001b[49m\n\u001b[0;32m    643\u001b[0m \u001b[43m    \u001b[49m\u001b[43mcustom_pipeline\u001b[49m\u001b[38;5;241;43m=\u001b[39;49m\u001b[43mcustom_pipeline\u001b[49m\u001b[43m,\u001b[49m\n\u001b[0;32m    644\u001b[0m \u001b[43m    \u001b[49m\u001b[43mhtml\u001b[49m\u001b[38;5;241;43m=\u001b[39;49m\u001b[43mhtml\u001b[49m\u001b[43m,\u001b[49m\n\u001b[0;32m    645\u001b[0m \u001b[43m    \u001b[49m\u001b[43msession_id\u001b[49m\u001b[38;5;241;43m=\u001b[39;49m\u001b[43msession_id\u001b[49m\u001b[43m,\u001b[49m\n\u001b[0;32m    646\u001b[0m \u001b[43m    \u001b[49m\u001b[43mlog_experiment\u001b[49m\u001b[38;5;241;43m=\u001b[39;49m\u001b[43mlog_experiment\u001b[49m\u001b[43m,\u001b[49m\n\u001b[0;32m    647\u001b[0m \u001b[43m    \u001b[49m\u001b[43mexperiment_name\u001b[49m\u001b[38;5;241;43m=\u001b[39;49m\u001b[43mexperiment_name\u001b[49m\u001b[43m,\u001b[49m\n\u001b[0;32m    648\u001b[0m \u001b[43m    \u001b[49m\u001b[43mlog_plots\u001b[49m\u001b[38;5;241;43m=\u001b[39;49m\u001b[43mlog_plots\u001b[49m\u001b[43m,\u001b[49m\n\u001b[0;32m    649\u001b[0m \u001b[43m    \u001b[49m\u001b[43mlog_profile\u001b[49m\u001b[38;5;241;43m=\u001b[39;49m\u001b[43mlog_profile\u001b[49m\u001b[43m,\u001b[49m\n\u001b[0;32m    650\u001b[0m \u001b[43m    \u001b[49m\u001b[43mlog_data\u001b[49m\u001b[38;5;241;43m=\u001b[39;49m\u001b[43mlog_data\u001b[49m\u001b[43m,\u001b[49m\n\u001b[0;32m    651\u001b[0m \u001b[43m    \u001b[49m\u001b[43msilent\u001b[49m\u001b[38;5;241;43m=\u001b[39;49m\u001b[43msilent\u001b[49m\u001b[43m,\u001b[49m\n\u001b[0;32m    652\u001b[0m \u001b[43m    \u001b[49m\u001b[43mverbose\u001b[49m\u001b[38;5;241;43m=\u001b[39;49m\u001b[43mverbose\u001b[49m\u001b[43m,\u001b[49m\n\u001b[0;32m    653\u001b[0m \u001b[43m    \u001b[49m\u001b[43mprofile\u001b[49m\u001b[38;5;241;43m=\u001b[39;49m\u001b[43mprofile\u001b[49m\u001b[43m,\u001b[49m\n\u001b[0;32m    654\u001b[0m \u001b[43m    \u001b[49m\u001b[43mprofile_kwargs\u001b[49m\u001b[38;5;241;43m=\u001b[39;49m\u001b[43mprofile_kwargs\u001b[49m\u001b[43m,\u001b[49m\n\u001b[0;32m    655\u001b[0m \u001b[43m\u001b[49m\u001b[43m)\u001b[49m\n",
      "File \u001b[1;32mD:\\ProgramData\\Anaconda3\\envs\\wm_env\\lib\\site-packages\\pycaret\\internal\\tabular.py:1750\u001b[0m, in \u001b[0;36msetup\u001b[1;34m(data, target, ml_usecase, available_plots, train_size, test_data, preprocess, imputation_type, iterative_imputation_iters, categorical_features, categorical_imputation, categorical_iterative_imputer, ordinal_features, high_cardinality_features, high_cardinality_method, numeric_features, numeric_imputation, numeric_iterative_imputer, date_features, ignore_features, normalize, normalize_method, transformation, transformation_method, handle_unknown_categorical, unknown_categorical_method, pca, pca_method, pca_components, ignore_low_variance, combine_rare_levels, rare_level_threshold, bin_numeric_features, remove_outliers, outliers_threshold, remove_multicollinearity, multicollinearity_threshold, remove_perfect_collinearity, create_clusters, cluster_iter, polynomial_features, polynomial_degree, trigonometry_features, polynomial_threshold, group_features, group_names, feature_selection, feature_selection_threshold, feature_selection_method, feature_interaction, feature_ratio, interaction_threshold, fix_imbalance, fix_imbalance_method, transform_target, transform_target_method, data_split_shuffle, data_split_stratify, fold_strategy, fold, fold_shuffle, fold_groups, n_jobs, use_gpu, custom_pipeline, html, session_id, log_experiment, experiment_name, log_plots, log_profile, log_data, silent, verbose, profile, profile_kwargs, display)\u001b[0m\n\u001b[0;32m   1747\u001b[0m logger\u001b[38;5;241m.\u001b[39minfo(\u001b[38;5;124mf\u001b[39m\u001b[38;5;124m\"\u001b[39m\u001b[38;5;124mmaster_model_container: \u001b[39m\u001b[38;5;132;01m{\u001b[39;00m\u001b[38;5;28mlen\u001b[39m(master_model_container)\u001b[38;5;132;01m}\u001b[39;00m\u001b[38;5;124m\"\u001b[39m)\n\u001b[0;32m   1748\u001b[0m logger\u001b[38;5;241m.\u001b[39minfo(\u001b[38;5;124mf\u001b[39m\u001b[38;5;124m\"\u001b[39m\u001b[38;5;124mdisplay_container: \u001b[39m\u001b[38;5;132;01m{\u001b[39;00m\u001b[38;5;28mlen\u001b[39m(display_container)\u001b[38;5;132;01m}\u001b[39;00m\u001b[38;5;124m\"\u001b[39m)\n\u001b[1;32m-> 1750\u001b[0m logger\u001b[38;5;241m.\u001b[39minfo(\u001b[38;5;28;43mstr\u001b[39;49m\u001b[43m(\u001b[49m\u001b[43mprep_pipe\u001b[49m\u001b[43m)\u001b[49m)\n\u001b[0;32m   1751\u001b[0m logger\u001b[38;5;241m.\u001b[39minfo(\u001b[38;5;124m\"\u001b[39m\u001b[38;5;124msetup() succesfully completed......................................\u001b[39m\u001b[38;5;124m\"\u001b[39m)\n\u001b[0;32m   1753\u001b[0m gc\u001b[38;5;241m.\u001b[39mcollect()\n",
      "File \u001b[1;32mD:\\ProgramData\\Anaconda3\\envs\\wm_env\\lib\\site-packages\\sklearn\\base.py:279\u001b[0m, in \u001b[0;36mBaseEstimator.__repr__\u001b[1;34m(self, N_CHAR_MAX)\u001b[0m\n\u001b[0;32m    271\u001b[0m \u001b[38;5;66;03m# use ellipsis for sequences with a lot of elements\u001b[39;00m\n\u001b[0;32m    272\u001b[0m pp \u001b[38;5;241m=\u001b[39m _EstimatorPrettyPrinter(\n\u001b[0;32m    273\u001b[0m     compact\u001b[38;5;241m=\u001b[39m\u001b[38;5;28;01mTrue\u001b[39;00m,\n\u001b[0;32m    274\u001b[0m     indent\u001b[38;5;241m=\u001b[39m\u001b[38;5;241m1\u001b[39m,\n\u001b[0;32m    275\u001b[0m     indent_at_name\u001b[38;5;241m=\u001b[39m\u001b[38;5;28;01mTrue\u001b[39;00m,\n\u001b[0;32m    276\u001b[0m     n_max_elements_to_show\u001b[38;5;241m=\u001b[39mN_MAX_ELEMENTS_TO_SHOW,\n\u001b[0;32m    277\u001b[0m )\n\u001b[1;32m--> 279\u001b[0m repr_ \u001b[38;5;241m=\u001b[39m \u001b[43mpp\u001b[49m\u001b[38;5;241;43m.\u001b[39;49m\u001b[43mpformat\u001b[49m\u001b[43m(\u001b[49m\u001b[38;5;28;43mself\u001b[39;49m\u001b[43m)\u001b[49m\n\u001b[0;32m    281\u001b[0m \u001b[38;5;66;03m# Use bruteforce ellipsis when there are a lot of non-blank characters\u001b[39;00m\n\u001b[0;32m    282\u001b[0m n_nonblank \u001b[38;5;241m=\u001b[39m \u001b[38;5;28mlen\u001b[39m(\u001b[38;5;124m\"\u001b[39m\u001b[38;5;124m\"\u001b[39m\u001b[38;5;241m.\u001b[39mjoin(repr_\u001b[38;5;241m.\u001b[39msplit()))\n",
      "File \u001b[1;32mD:\\ProgramData\\Anaconda3\\envs\\wm_env\\lib\\pprint.py:157\u001b[0m, in \u001b[0;36mPrettyPrinter.pformat\u001b[1;34m(self, object)\u001b[0m\n\u001b[0;32m    155\u001b[0m \u001b[38;5;28;01mdef\u001b[39;00m \u001b[38;5;21mpformat\u001b[39m(\u001b[38;5;28mself\u001b[39m, \u001b[38;5;28mobject\u001b[39m):\n\u001b[0;32m    156\u001b[0m     sio \u001b[38;5;241m=\u001b[39m _StringIO()\n\u001b[1;32m--> 157\u001b[0m     \u001b[38;5;28;43mself\u001b[39;49m\u001b[38;5;241;43m.\u001b[39;49m\u001b[43m_format\u001b[49m\u001b[43m(\u001b[49m\u001b[38;5;28;43mobject\u001b[39;49m\u001b[43m,\u001b[49m\u001b[43m \u001b[49m\u001b[43msio\u001b[49m\u001b[43m,\u001b[49m\u001b[43m \u001b[49m\u001b[38;5;241;43m0\u001b[39;49m\u001b[43m,\u001b[49m\u001b[43m \u001b[49m\u001b[38;5;241;43m0\u001b[39;49m\u001b[43m,\u001b[49m\u001b[43m \u001b[49m\u001b[43m{\u001b[49m\u001b[43m}\u001b[49m\u001b[43m,\u001b[49m\u001b[43m \u001b[49m\u001b[38;5;241;43m0\u001b[39;49m\u001b[43m)\u001b[49m\n\u001b[0;32m    158\u001b[0m     \u001b[38;5;28;01mreturn\u001b[39;00m sio\u001b[38;5;241m.\u001b[39mgetvalue()\n",
      "File \u001b[1;32mD:\\ProgramData\\Anaconda3\\envs\\wm_env\\lib\\pprint.py:174\u001b[0m, in \u001b[0;36mPrettyPrinter._format\u001b[1;34m(self, object, stream, indent, allowance, context, level)\u001b[0m\n\u001b[0;32m    172\u001b[0m     \u001b[38;5;28mself\u001b[39m\u001b[38;5;241m.\u001b[39m_readable \u001b[38;5;241m=\u001b[39m \u001b[38;5;28;01mFalse\u001b[39;00m\n\u001b[0;32m    173\u001b[0m     \u001b[38;5;28;01mreturn\u001b[39;00m\n\u001b[1;32m--> 174\u001b[0m rep \u001b[38;5;241m=\u001b[39m \u001b[38;5;28;43mself\u001b[39;49m\u001b[38;5;241;43m.\u001b[39;49m\u001b[43m_repr\u001b[49m\u001b[43m(\u001b[49m\u001b[38;5;28;43mobject\u001b[39;49m\u001b[43m,\u001b[49m\u001b[43m \u001b[49m\u001b[43mcontext\u001b[49m\u001b[43m,\u001b[49m\u001b[43m \u001b[49m\u001b[43mlevel\u001b[49m\u001b[43m)\u001b[49m\n\u001b[0;32m    175\u001b[0m max_width \u001b[38;5;241m=\u001b[39m \u001b[38;5;28mself\u001b[39m\u001b[38;5;241m.\u001b[39m_width \u001b[38;5;241m-\u001b[39m indent \u001b[38;5;241m-\u001b[39m allowance\n\u001b[0;32m    176\u001b[0m \u001b[38;5;28;01mif\u001b[39;00m \u001b[38;5;28mlen\u001b[39m(rep) \u001b[38;5;241m>\u001b[39m max_width:\n",
      "File \u001b[1;32mD:\\ProgramData\\Anaconda3\\envs\\wm_env\\lib\\pprint.py:454\u001b[0m, in \u001b[0;36mPrettyPrinter._repr\u001b[1;34m(self, object, context, level)\u001b[0m\n\u001b[0;32m    453\u001b[0m \u001b[38;5;28;01mdef\u001b[39;00m \u001b[38;5;21m_repr\u001b[39m(\u001b[38;5;28mself\u001b[39m, \u001b[38;5;28mobject\u001b[39m, context, level):\n\u001b[1;32m--> 454\u001b[0m     \u001b[38;5;28mrepr\u001b[39m, readable, recursive \u001b[38;5;241m=\u001b[39m \u001b[38;5;28;43mself\u001b[39;49m\u001b[38;5;241;43m.\u001b[39;49m\u001b[43mformat\u001b[49m\u001b[43m(\u001b[49m\u001b[38;5;28;43mobject\u001b[39;49m\u001b[43m,\u001b[49m\u001b[43m \u001b[49m\u001b[43mcontext\u001b[49m\u001b[38;5;241;43m.\u001b[39;49m\u001b[43mcopy\u001b[49m\u001b[43m(\u001b[49m\u001b[43m)\u001b[49m\u001b[43m,\u001b[49m\n\u001b[0;32m    455\u001b[0m \u001b[43m                                            \u001b[49m\u001b[38;5;28;43mself\u001b[39;49m\u001b[38;5;241;43m.\u001b[39;49m\u001b[43m_depth\u001b[49m\u001b[43m,\u001b[49m\u001b[43m \u001b[49m\u001b[43mlevel\u001b[49m\u001b[43m)\u001b[49m\n\u001b[0;32m    456\u001b[0m     \u001b[38;5;28;01mif\u001b[39;00m \u001b[38;5;129;01mnot\u001b[39;00m readable:\n\u001b[0;32m    457\u001b[0m         \u001b[38;5;28mself\u001b[39m\u001b[38;5;241m.\u001b[39m_readable \u001b[38;5;241m=\u001b[39m \u001b[38;5;28;01mFalse\u001b[39;00m\n",
      "File \u001b[1;32mD:\\ProgramData\\Anaconda3\\envs\\wm_env\\lib\\site-packages\\sklearn\\utils\\_pprint.py:189\u001b[0m, in \u001b[0;36m_EstimatorPrettyPrinter.format\u001b[1;34m(self, object, context, maxlevels, level)\u001b[0m\n\u001b[0;32m    188\u001b[0m \u001b[38;5;28;01mdef\u001b[39;00m \u001b[38;5;21mformat\u001b[39m(\u001b[38;5;28mself\u001b[39m, \u001b[38;5;28mobject\u001b[39m, context, maxlevels, level):\n\u001b[1;32m--> 189\u001b[0m     \u001b[38;5;28;01mreturn\u001b[39;00m \u001b[43m_safe_repr\u001b[49m\u001b[43m(\u001b[49m\n\u001b[0;32m    190\u001b[0m \u001b[43m        \u001b[49m\u001b[38;5;28;43mobject\u001b[39;49m\u001b[43m,\u001b[49m\u001b[43m \u001b[49m\u001b[43mcontext\u001b[49m\u001b[43m,\u001b[49m\u001b[43m \u001b[49m\u001b[43mmaxlevels\u001b[49m\u001b[43m,\u001b[49m\u001b[43m \u001b[49m\u001b[43mlevel\u001b[49m\u001b[43m,\u001b[49m\u001b[43m \u001b[49m\u001b[43mchanged_only\u001b[49m\u001b[38;5;241;43m=\u001b[39;49m\u001b[38;5;28;43mself\u001b[39;49m\u001b[38;5;241;43m.\u001b[39;49m\u001b[43m_changed_only\u001b[49m\n\u001b[0;32m    191\u001b[0m \u001b[43m    \u001b[49m\u001b[43m)\u001b[49m\n",
      "File \u001b[1;32mD:\\ProgramData\\Anaconda3\\envs\\wm_env\\lib\\site-packages\\sklearn\\utils\\_pprint.py:452\u001b[0m, in \u001b[0;36m_safe_repr\u001b[1;34m(object, context, maxlevels, level, changed_only)\u001b[0m\n\u001b[0;32m    448\u001b[0m \u001b[38;5;28;01mfor\u001b[39;00m k, v \u001b[38;5;129;01min\u001b[39;00m items:\n\u001b[0;32m    449\u001b[0m     krepr, kreadable, krecur \u001b[38;5;241m=\u001b[39m saferepr(\n\u001b[0;32m    450\u001b[0m         k, context, maxlevels, level, changed_only\u001b[38;5;241m=\u001b[39mchanged_only\n\u001b[0;32m    451\u001b[0m     )\n\u001b[1;32m--> 452\u001b[0m     vrepr, vreadable, vrecur \u001b[38;5;241m=\u001b[39m \u001b[43msaferepr\u001b[49m\u001b[43m(\u001b[49m\n\u001b[0;32m    453\u001b[0m \u001b[43m        \u001b[49m\u001b[43mv\u001b[49m\u001b[43m,\u001b[49m\u001b[43m \u001b[49m\u001b[43mcontext\u001b[49m\u001b[43m,\u001b[49m\u001b[43m \u001b[49m\u001b[43mmaxlevels\u001b[49m\u001b[43m,\u001b[49m\u001b[43m \u001b[49m\u001b[43mlevel\u001b[49m\u001b[43m,\u001b[49m\u001b[43m \u001b[49m\u001b[43mchanged_only\u001b[49m\u001b[38;5;241;43m=\u001b[39;49m\u001b[43mchanged_only\u001b[49m\n\u001b[0;32m    454\u001b[0m \u001b[43m    \u001b[49m\u001b[43m)\u001b[49m\n\u001b[0;32m    455\u001b[0m     append(\u001b[38;5;124m\"\u001b[39m\u001b[38;5;132;01m%s\u001b[39;00m\u001b[38;5;124m=\u001b[39m\u001b[38;5;132;01m%s\u001b[39;00m\u001b[38;5;124m\"\u001b[39m \u001b[38;5;241m%\u001b[39m (krepr\u001b[38;5;241m.\u001b[39mstrip(\u001b[38;5;124m\"\u001b[39m\u001b[38;5;124m'\u001b[39m\u001b[38;5;124m\"\u001b[39m), vrepr))\n\u001b[0;32m    456\u001b[0m     readable \u001b[38;5;241m=\u001b[39m readable \u001b[38;5;129;01mand\u001b[39;00m kreadable \u001b[38;5;129;01mand\u001b[39;00m vreadable\n",
      "File \u001b[1;32mD:\\ProgramData\\Anaconda3\\envs\\wm_env\\lib\\site-packages\\sklearn\\utils\\_pprint.py:419\u001b[0m, in \u001b[0;36m_safe_repr\u001b[1;34m(object, context, maxlevels, level, changed_only)\u001b[0m\n\u001b[0;32m    417\u001b[0m level \u001b[38;5;241m+\u001b[39m\u001b[38;5;241m=\u001b[39m \u001b[38;5;241m1\u001b[39m\n\u001b[0;32m    418\u001b[0m \u001b[38;5;28;01mfor\u001b[39;00m o \u001b[38;5;129;01min\u001b[39;00m \u001b[38;5;28mobject\u001b[39m:\n\u001b[1;32m--> 419\u001b[0m     orepr, oreadable, orecur \u001b[38;5;241m=\u001b[39m \u001b[43m_safe_repr\u001b[49m\u001b[43m(\u001b[49m\n\u001b[0;32m    420\u001b[0m \u001b[43m        \u001b[49m\u001b[43mo\u001b[49m\u001b[43m,\u001b[49m\u001b[43m \u001b[49m\u001b[43mcontext\u001b[49m\u001b[43m,\u001b[49m\u001b[43m \u001b[49m\u001b[43mmaxlevels\u001b[49m\u001b[43m,\u001b[49m\u001b[43m \u001b[49m\u001b[43mlevel\u001b[49m\u001b[43m,\u001b[49m\u001b[43m \u001b[49m\u001b[43mchanged_only\u001b[49m\u001b[38;5;241;43m=\u001b[39;49m\u001b[43mchanged_only\u001b[49m\n\u001b[0;32m    421\u001b[0m \u001b[43m    \u001b[49m\u001b[43m)\u001b[49m\n\u001b[0;32m    422\u001b[0m     append(orepr)\n\u001b[0;32m    423\u001b[0m     \u001b[38;5;28;01mif\u001b[39;00m \u001b[38;5;129;01mnot\u001b[39;00m oreadable:\n",
      "File \u001b[1;32mD:\\ProgramData\\Anaconda3\\envs\\wm_env\\lib\\site-packages\\sklearn\\utils\\_pprint.py:419\u001b[0m, in \u001b[0;36m_safe_repr\u001b[1;34m(object, context, maxlevels, level, changed_only)\u001b[0m\n\u001b[0;32m    417\u001b[0m level \u001b[38;5;241m+\u001b[39m\u001b[38;5;241m=\u001b[39m \u001b[38;5;241m1\u001b[39m\n\u001b[0;32m    418\u001b[0m \u001b[38;5;28;01mfor\u001b[39;00m o \u001b[38;5;129;01min\u001b[39;00m \u001b[38;5;28mobject\u001b[39m:\n\u001b[1;32m--> 419\u001b[0m     orepr, oreadable, orecur \u001b[38;5;241m=\u001b[39m \u001b[43m_safe_repr\u001b[49m\u001b[43m(\u001b[49m\n\u001b[0;32m    420\u001b[0m \u001b[43m        \u001b[49m\u001b[43mo\u001b[49m\u001b[43m,\u001b[49m\u001b[43m \u001b[49m\u001b[43mcontext\u001b[49m\u001b[43m,\u001b[49m\u001b[43m \u001b[49m\u001b[43mmaxlevels\u001b[49m\u001b[43m,\u001b[49m\u001b[43m \u001b[49m\u001b[43mlevel\u001b[49m\u001b[43m,\u001b[49m\u001b[43m \u001b[49m\u001b[43mchanged_only\u001b[49m\u001b[38;5;241;43m=\u001b[39;49m\u001b[43mchanged_only\u001b[49m\n\u001b[0;32m    421\u001b[0m \u001b[43m    \u001b[49m\u001b[43m)\u001b[49m\n\u001b[0;32m    422\u001b[0m     append(orepr)\n\u001b[0;32m    423\u001b[0m     \u001b[38;5;28;01mif\u001b[39;00m \u001b[38;5;129;01mnot\u001b[39;00m oreadable:\n",
      "File \u001b[1;32mD:\\ProgramData\\Anaconda3\\envs\\wm_env\\lib\\site-packages\\sklearn\\utils\\_pprint.py:442\u001b[0m, in \u001b[0;36m_safe_repr\u001b[1;34m(object, context, maxlevels, level, changed_only)\u001b[0m\n\u001b[0;32m    440\u001b[0m     params \u001b[38;5;241m=\u001b[39m _changed_params(\u001b[38;5;28mobject\u001b[39m)\n\u001b[0;32m    441\u001b[0m \u001b[38;5;28;01melse\u001b[39;00m:\n\u001b[1;32m--> 442\u001b[0m     params \u001b[38;5;241m=\u001b[39m \u001b[38;5;28;43mobject\u001b[39;49m\u001b[38;5;241;43m.\u001b[39;49m\u001b[43mget_params\u001b[49m\u001b[43m(\u001b[49m\u001b[43mdeep\u001b[49m\u001b[38;5;241;43m=\u001b[39;49m\u001b[38;5;28;43;01mFalse\u001b[39;49;00m\u001b[43m)\u001b[49m\n\u001b[0;32m    443\u001b[0m components \u001b[38;5;241m=\u001b[39m []\n\u001b[0;32m    444\u001b[0m append \u001b[38;5;241m=\u001b[39m components\u001b[38;5;241m.\u001b[39mappend\n",
      "File \u001b[1;32mD:\\ProgramData\\Anaconda3\\envs\\wm_env\\lib\\site-packages\\sklearn\\base.py:211\u001b[0m, in \u001b[0;36mBaseEstimator.get_params\u001b[1;34m(self, deep)\u001b[0m\n\u001b[0;32m    209\u001b[0m out \u001b[38;5;241m=\u001b[39m \u001b[38;5;28mdict\u001b[39m()\n\u001b[0;32m    210\u001b[0m \u001b[38;5;28;01mfor\u001b[39;00m key \u001b[38;5;129;01min\u001b[39;00m \u001b[38;5;28mself\u001b[39m\u001b[38;5;241m.\u001b[39m_get_param_names():\n\u001b[1;32m--> 211\u001b[0m     value \u001b[38;5;241m=\u001b[39m \u001b[38;5;28;43mgetattr\u001b[39;49m\u001b[43m(\u001b[49m\u001b[38;5;28;43mself\u001b[39;49m\u001b[43m,\u001b[49m\u001b[43m \u001b[49m\u001b[43mkey\u001b[49m\u001b[43m)\u001b[49m\n\u001b[0;32m    212\u001b[0m     \u001b[38;5;28;01mif\u001b[39;00m deep \u001b[38;5;129;01mand\u001b[39;00m \u001b[38;5;28mhasattr\u001b[39m(value, \u001b[38;5;124m\"\u001b[39m\u001b[38;5;124mget_params\u001b[39m\u001b[38;5;124m\"\u001b[39m):\n\u001b[0;32m    213\u001b[0m         deep_items \u001b[38;5;241m=\u001b[39m value\u001b[38;5;241m.\u001b[39mget_params()\u001b[38;5;241m.\u001b[39mitems()\n",
      "\u001b[1;31mAttributeError\u001b[0m: 'Simple_Imputer' object has no attribute 'fill_value_categorical'"
     ]
    }
   ],
   "source": [
    "exp_clf101 = setup(data = train_shuffle_norm.drop(columns=['fecha']), target = 'label',train_size = 0.7,fold=3,fold_shuffle=True,fold_strategy='kfold',session_id=1001)"
   ]
  },
  {
   "cell_type": "code",
   "execution_count": null,
   "id": "484548be",
   "metadata": {
    "id": "484548be",
    "outputId": "4b3f8e31-7b73-4310-c8dd-1224ed0c2f9c"
   },
   "outputs": [
    {
     "data": {
      "text/html": [
       "<style type=\"text/css\">\n",
       "#T_71ef4_row3_col0, #T_71ef4_row3_col1, #T_71ef4_row3_col2, #T_71ef4_row3_col3, #T_71ef4_row3_col4, #T_71ef4_row3_col5, #T_71ef4_row3_col6 {\n",
       "  background: yellow;\n",
       "}\n",
       "</style>\n",
       "<table id=\"T_71ef4\">\n",
       "  <thead>\n",
       "    <tr>\n",
       "      <th class=\"blank level0\" >&nbsp;</th>\n",
       "      <th id=\"T_71ef4_level0_col0\" class=\"col_heading level0 col0\" >Accuracy</th>\n",
       "      <th id=\"T_71ef4_level0_col1\" class=\"col_heading level0 col1\" >AUC</th>\n",
       "      <th id=\"T_71ef4_level0_col2\" class=\"col_heading level0 col2\" >Recall</th>\n",
       "      <th id=\"T_71ef4_level0_col3\" class=\"col_heading level0 col3\" >Prec.</th>\n",
       "      <th id=\"T_71ef4_level0_col4\" class=\"col_heading level0 col4\" >F1</th>\n",
       "      <th id=\"T_71ef4_level0_col5\" class=\"col_heading level0 col5\" >Kappa</th>\n",
       "      <th id=\"T_71ef4_level0_col6\" class=\"col_heading level0 col6\" >MCC</th>\n",
       "    </tr>\n",
       "  </thead>\n",
       "  <tbody>\n",
       "    <tr>\n",
       "      <th id=\"T_71ef4_level0_row0\" class=\"row_heading level0 row0\" >0</th>\n",
       "      <td id=\"T_71ef4_row0_col0\" class=\"data row0 col0\" >0.8367</td>\n",
       "      <td id=\"T_71ef4_row0_col1\" class=\"data row0 col1\" >0.9633</td>\n",
       "      <td id=\"T_71ef4_row0_col2\" class=\"data row0 col2\" >0.8398</td>\n",
       "      <td id=\"T_71ef4_row0_col3\" class=\"data row0 col3\" >0.8375</td>\n",
       "      <td id=\"T_71ef4_row0_col4\" class=\"data row0 col4\" >0.8370</td>\n",
       "      <td id=\"T_71ef4_row0_col5\" class=\"data row0 col5\" >0.7783</td>\n",
       "      <td id=\"T_71ef4_row0_col6\" class=\"data row0 col6\" >0.7784</td>\n",
       "    </tr>\n",
       "    <tr>\n",
       "      <th id=\"T_71ef4_level0_row1\" class=\"row_heading level0 row1\" >1</th>\n",
       "      <td id=\"T_71ef4_row1_col0\" class=\"data row1 col0\" >0.8405</td>\n",
       "      <td id=\"T_71ef4_row1_col1\" class=\"data row1 col1\" >0.9624</td>\n",
       "      <td id=\"T_71ef4_row1_col2\" class=\"data row1 col2\" >0.8455</td>\n",
       "      <td id=\"T_71ef4_row1_col3\" class=\"data row1 col3\" >0.8408</td>\n",
       "      <td id=\"T_71ef4_row1_col4\" class=\"data row1 col4\" >0.8406</td>\n",
       "      <td id=\"T_71ef4_row1_col5\" class=\"data row1 col5\" >0.7842</td>\n",
       "      <td id=\"T_71ef4_row1_col6\" class=\"data row1 col6\" >0.7842</td>\n",
       "    </tr>\n",
       "    <tr>\n",
       "      <th id=\"T_71ef4_level0_row2\" class=\"row_heading level0 row2\" >2</th>\n",
       "      <td id=\"T_71ef4_row2_col0\" class=\"data row2 col0\" >0.8385</td>\n",
       "      <td id=\"T_71ef4_row2_col1\" class=\"data row2 col1\" >0.9608</td>\n",
       "      <td id=\"T_71ef4_row2_col2\" class=\"data row2 col2\" >0.8447</td>\n",
       "      <td id=\"T_71ef4_row2_col3\" class=\"data row2 col3\" >0.8384</td>\n",
       "      <td id=\"T_71ef4_row2_col4\" class=\"data row2 col4\" >0.8383</td>\n",
       "      <td id=\"T_71ef4_row2_col5\" class=\"data row2 col5\" >0.7806</td>\n",
       "      <td id=\"T_71ef4_row2_col6\" class=\"data row2 col6\" >0.7807</td>\n",
       "    </tr>\n",
       "    <tr>\n",
       "      <th id=\"T_71ef4_level0_row3\" class=\"row_heading level0 row3\" >Mean</th>\n",
       "      <td id=\"T_71ef4_row3_col0\" class=\"data row3 col0\" >0.8386</td>\n",
       "      <td id=\"T_71ef4_row3_col1\" class=\"data row3 col1\" >0.9622</td>\n",
       "      <td id=\"T_71ef4_row3_col2\" class=\"data row3 col2\" >0.8433</td>\n",
       "      <td id=\"T_71ef4_row3_col3\" class=\"data row3 col3\" >0.8389</td>\n",
       "      <td id=\"T_71ef4_row3_col4\" class=\"data row3 col4\" >0.8386</td>\n",
       "      <td id=\"T_71ef4_row3_col5\" class=\"data row3 col5\" >0.7810</td>\n",
       "      <td id=\"T_71ef4_row3_col6\" class=\"data row3 col6\" >0.7811</td>\n",
       "    </tr>\n",
       "    <tr>\n",
       "      <th id=\"T_71ef4_level0_row4\" class=\"row_heading level0 row4\" >SD</th>\n",
       "      <td id=\"T_71ef4_row4_col0\" class=\"data row4 col0\" >0.0015</td>\n",
       "      <td id=\"T_71ef4_row4_col1\" class=\"data row4 col1\" >0.0010</td>\n",
       "      <td id=\"T_71ef4_row4_col2\" class=\"data row4 col2\" >0.0025</td>\n",
       "      <td id=\"T_71ef4_row4_col3\" class=\"data row4 col3\" >0.0014</td>\n",
       "      <td id=\"T_71ef4_row4_col4\" class=\"data row4 col4\" >0.0015</td>\n",
       "      <td id=\"T_71ef4_row4_col5\" class=\"data row4 col5\" >0.0024</td>\n",
       "      <td id=\"T_71ef4_row4_col6\" class=\"data row4 col6\" >0.0024</td>\n",
       "    </tr>\n",
       "  </tbody>\n",
       "</table>\n"
      ],
      "text/plain": [
       "<pandas.io.formats.style.Styler at 0x19e0043d450>"
      ]
     },
     "metadata": {},
     "output_type": "display_data"
    }
   ],
   "source": [
    "model_lr_s = create_model('lr')\n",
    "tuned_lr_s = tune_model(model_lr_s)"
   ]
  },
  {
   "cell_type": "code",
   "execution_count": null,
   "id": "dfb27461",
   "metadata": {
    "id": "dfb27461",
    "outputId": "3db89c06-64e2-4eef-9f0d-81caf30e6d97"
   },
   "outputs": [
    {
     "name": "stdout",
     "output_type": "stream",
     "text": [
      "economia AUC: 0.9305036251085278\n",
      "sociedad AUC: 0.8998316474216002\n",
      "el-pais AUC: 0.8845261769020218\n",
      "el-mundo AUC: 0.9213523058298373\n",
      "AUC ovr: 0.9090534388154968\n"
     ]
    }
   ],
   "source": [
    "final_lr_s = finalize_model(tuned_lr_s)\n",
    "pred_lr_s = predict_model(final_lgb, data=test_date_norm)\n",
    "\n",
    "secciones=['economia','sociedad','el-pais','el-mundo']\n",
    "auc_list=[]\n",
    "\n",
    "for inx,seccion in enumerate(secciones):\n",
    "    auc_list.append(roc_auc_score((pred_lr_s['label']==seccion).astype(int),(pred_lr_s['Label']==seccion).astype(int)))\n",
    "    print(seccion+\" AUC: \"+ str(auc_list[inx]))\n",
    "print(\"AUC ovr: \"+str(sum(auc_list)/4))"
   ]
  },
  {
   "cell_type": "markdown",
   "id": "f51d0d80",
   "metadata": {
    "id": "f51d0d80"
   },
   "source": [
    "### Evaluacion"
   ]
  },
  {
   "cell_type": "code",
   "execution_count": null,
   "id": "9fde43b9",
   "metadata": {
    "id": "9fde43b9",
    "outputId": "4ee1aa26-14fd-4b5e-ad39-f8c5346b3617"
   },
   "outputs": [
    {
     "data": {
      "text/plain": [
       "<AxesSubplot:>"
      ]
     },
     "execution_count": 64,
     "metadata": {},
     "output_type": "execute_result"
    },
    {
     "data": {
      "image/png": "[encoded data removed]",
      "text/plain": [
       "<Figure size 640x480 with 2 Axes>"
      ]
     },
     "metadata": {},
     "output_type": "display_data"
    }
   ],
   "source": [
    "confusion = confusion_matrix(pred_lr_s['label'], pred_lr_s['Label'])\n",
    "\n",
    "cm_matrix = pd.DataFrame(data=confusion, columns=['Pred economia', 'Pred el-mundo','Pred el-pais','Pred sociedad'], \n",
    "                                 index=['Real economia', 'Real el-mundo','Real el-pais','Real sociedad'])\n",
    "sns.heatmap(cm_matrix, annot=True, fmt=\"d\", cmap='YlGnBu')"
   ]
  },
  {
   "cell_type": "code",
   "execution_count": null,
   "id": "abc26d56",
   "metadata": {
    "id": "abc26d56",
    "outputId": "046d37aa-8af0-4e0c-e176-684948e4f124"
   },
   "outputs": [
    {
     "name": "stdout",
     "output_type": "stream",
     "text": [
      "\n",
      "Classification Report\n",
      "\n",
      "              precision    recall  f1-score   support\n",
      "\n",
      "    economia       0.86      0.90      0.88      1354\n",
      "    el-mundo       0.85      0.87      0.86      1007\n",
      "     el-pais       0.86      0.84      0.85      2136\n",
      "    sociedad       0.87      0.86      0.87      2097\n",
      "\n",
      "    accuracy                           0.86      6594\n",
      "   macro avg       0.86      0.87      0.86      6594\n",
      "weighted avg       0.86      0.86      0.86      6594\n",
      "\n"
     ]
    }
   ],
   "source": [
    "from sklearn.metrics import classification_report\n",
    "print('\\nClassification Report\\n')\n",
    "print(classification_report(pred_lr_s['label'], pred_lr_s['Label'], target_names=['economia', 'el-mundo', 'el-pais','sociedad']))\n",
    "# pred_lr['label'].value_counts() #Sirve para chequear las clases"
   ]
  }
 ],
 "metadata": {
  "colab": {
   "provenance": []
  },
  "kernelspec": {
   "display_name": "Python 3 (ipykernel)",
   "language": "python",
   "name": "python3"
  },
  "language_info": {
   "codemirror_mode": {
    "name": "ipython",
    "version": 3
   },
   "file_extension": ".py",
   "mimetype": "text/x-python",
   "name": "python",
   "nbconvert_exporter": "python",
   "pygments_lexer": "ipython3",
   "version": "3.9.6"
  }
 },
 "nbformat": 4,
 "nbformat_minor": 5
}
